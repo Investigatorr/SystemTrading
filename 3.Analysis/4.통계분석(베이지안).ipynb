{
 "cells": [
  {
   "cell_type": "code",
   "execution_count": 4,
   "metadata": {},
   "outputs": [],
   "source": [
    "import pandas as pd\n",
    "import numpy as np\n",
    "import datetime\n",
    "\n",
    "from matplotlib import font_manager, rc, rcParams\n",
    "import matplotlib.pyplot as plt\n",
    "from matplotlib.pyplot import figure"
   ]
  },
  {
   "cell_type": "code",
   "execution_count": 5,
   "metadata": {},
   "outputs": [],
   "source": [
    "import warnings\n",
    "warnings.filterwarnings('ignore')"
   ]
  },
  {
   "cell_type": "markdown",
   "metadata": {},
   "source": [
    "# 맵핑한 데이터 임포팅"
   ]
  },
  {
   "cell_type": "code",
   "execution_count": 6,
   "metadata": {},
   "outputs": [
    {
     "data": {
      "text/html": [
       "<div>\n",
       "<style scoped>\n",
       "    .dataframe tbody tr th:only-of-type {\n",
       "        vertical-align: middle;\n",
       "    }\n",
       "\n",
       "    .dataframe tbody tr th {\n",
       "        vertical-align: top;\n",
       "    }\n",
       "\n",
       "    .dataframe thead th {\n",
       "        text-align: right;\n",
       "    }\n",
       "</style>\n",
       "<table border=\"1\" class=\"dataframe\">\n",
       "  <thead>\n",
       "    <tr style=\"text-align: right;\">\n",
       "      <th></th>\n",
       "      <th>Unnamed: 0</th>\n",
       "      <th>Date</th>\n",
       "      <th>NOUNS</th>\n",
       "      <th>Open</th>\n",
       "      <th>High</th>\n",
       "      <th>Low</th>\n",
       "      <th>Close</th>\n",
       "      <th>Adj Close</th>\n",
       "      <th>Volume</th>\n",
       "      <th>day1C</th>\n",
       "      <th>...</th>\n",
       "      <th>Diff5</th>\n",
       "      <th>Diff10</th>\n",
       "      <th>Diff1_per</th>\n",
       "      <th>Diff3_per</th>\n",
       "      <th>Diff5_per</th>\n",
       "      <th>Diff10_per</th>\n",
       "      <th>Diff1_clf</th>\n",
       "      <th>Diff3_clf</th>\n",
       "      <th>Diff5_clf</th>\n",
       "      <th>Diff10_clf</th>\n",
       "    </tr>\n",
       "  </thead>\n",
       "  <tbody>\n",
       "    <tr>\n",
       "      <th>0</th>\n",
       "      <td>99</td>\n",
       "      <td>2017-12-15</td>\n",
       "      <td>['부고', '송창', '씨', '법무', '법인', '세한', '변호사', '부친...</td>\n",
       "      <td>51240.0</td>\n",
       "      <td>51480.0</td>\n",
       "      <td>50520.0</td>\n",
       "      <td>50620.0</td>\n",
       "      <td>17585.119141</td>\n",
       "      <td>14928550.0</td>\n",
       "      <td>51060.0</td>\n",
       "      <td>...</td>\n",
       "      <td>-1380.0</td>\n",
       "      <td>-220.0</td>\n",
       "      <td>-0.87</td>\n",
       "      <td>-2.92</td>\n",
       "      <td>-2.73</td>\n",
       "      <td>-0.43</td>\n",
       "      <td>-1등급</td>\n",
       "      <td>-2등급</td>\n",
       "      <td>-2등급</td>\n",
       "      <td>-1등급</td>\n",
       "    </tr>\n",
       "    <tr>\n",
       "      <th>1</th>\n",
       "      <td>102</td>\n",
       "      <td>2017-12-18</td>\n",
       "      <td>['주가', '반토막', '삼성', '중공업', '뒷북', '증권사', '뉴스', ...</td>\n",
       "      <td>50620.0</td>\n",
       "      <td>51240.0</td>\n",
       "      <td>50620.0</td>\n",
       "      <td>51200.0</td>\n",
       "      <td>17786.607422</td>\n",
       "      <td>7350250.0</td>\n",
       "      <td>50620.0</td>\n",
       "      <td>...</td>\n",
       "      <td>-580.0</td>\n",
       "      <td>-140.0</td>\n",
       "      <td>1.13</td>\n",
       "      <td>-0.23</td>\n",
       "      <td>-1.13</td>\n",
       "      <td>-0.27</td>\n",
       "      <td>+2등급</td>\n",
       "      <td>-1등급</td>\n",
       "      <td>-2등급</td>\n",
       "      <td>-1등급</td>\n",
       "    </tr>\n",
       "    <tr>\n",
       "      <th>2</th>\n",
       "      <td>103</td>\n",
       "      <td>2017-12-19</td>\n",
       "      <td>['배당', '계절', '개인', '접근', '로', '배당', '주', '투자',...</td>\n",
       "      <td>51540.0</td>\n",
       "      <td>52080.0</td>\n",
       "      <td>51520.0</td>\n",
       "      <td>51560.0</td>\n",
       "      <td>17911.669922</td>\n",
       "      <td>11978600.0</td>\n",
       "      <td>51200.0</td>\n",
       "      <td>...</td>\n",
       "      <td>-540.0</td>\n",
       "      <td>300.0</td>\n",
       "      <td>0.70</td>\n",
       "      <td>0.97</td>\n",
       "      <td>-1.05</td>\n",
       "      <td>0.58</td>\n",
       "      <td>+1등급</td>\n",
       "      <td>+1등급</td>\n",
       "      <td>-2등급</td>\n",
       "      <td>+1등급</td>\n",
       "    </tr>\n",
       "    <tr>\n",
       "      <th>3</th>\n",
       "      <td>105</td>\n",
       "      <td>2017-12-21</td>\n",
       "      <td>['공정위', '삼성', '물산', '합병', '가이드라인', '개정', '논란',...</td>\n",
       "      <td>51000.0</td>\n",
       "      <td>51060.0</td>\n",
       "      <td>49100.0</td>\n",
       "      <td>49140.0</td>\n",
       "      <td>17070.974609</td>\n",
       "      <td>15624300.0</td>\n",
       "      <td>51560.0</td>\n",
       "      <td>...</td>\n",
       "      <td>-2180.0</td>\n",
       "      <td>-880.0</td>\n",
       "      <td>-4.92</td>\n",
       "      <td>-3.01</td>\n",
       "      <td>-4.44</td>\n",
       "      <td>-1.79</td>\n",
       "      <td>-3등급</td>\n",
       "      <td>-3등급</td>\n",
       "      <td>-3등급</td>\n",
       "      <td>-2등급</td>\n",
       "    </tr>\n",
       "    <tr>\n",
       "      <th>4</th>\n",
       "      <td>106</td>\n",
       "      <td>2017-12-22</td>\n",
       "      <td>['스팟', '삼성', '전자', '오른', '출발', '삼성', '전자', '출발...</td>\n",
       "      <td>49400.0</td>\n",
       "      <td>49960.0</td>\n",
       "      <td>49240.0</td>\n",
       "      <td>49700.0</td>\n",
       "      <td>17265.515625</td>\n",
       "      <td>11199650.0</td>\n",
       "      <td>49140.0</td>\n",
       "      <td>...</td>\n",
       "      <td>-1360.0</td>\n",
       "      <td>-1040.0</td>\n",
       "      <td>1.13</td>\n",
       "      <td>-3.02</td>\n",
       "      <td>-2.74</td>\n",
       "      <td>-2.09</td>\n",
       "      <td>+2등급</td>\n",
       "      <td>-3등급</td>\n",
       "      <td>-2등급</td>\n",
       "      <td>-2등급</td>\n",
       "    </tr>\n",
       "  </tbody>\n",
       "</table>\n",
       "<p>5 rows × 37 columns</p>\n",
       "</div>"
      ],
      "text/plain": [
       "   Unnamed: 0        Date                                              NOUNS  \\\n",
       "0          99  2017-12-15  ['부고', '송창', '씨', '법무', '법인', '세한', '변호사', '부친...   \n",
       "1         102  2017-12-18  ['주가', '반토막', '삼성', '중공업', '뒷북', '증권사', '뉴스', ...   \n",
       "2         103  2017-12-19  ['배당', '계절', '개인', '접근', '로', '배당', '주', '투자',...   \n",
       "3         105  2017-12-21  ['공정위', '삼성', '물산', '합병', '가이드라인', '개정', '논란',...   \n",
       "4         106  2017-12-22  ['스팟', '삼성', '전자', '오른', '출발', '삼성', '전자', '출발...   \n",
       "\n",
       "      Open     High      Low    Close     Adj Close      Volume    day1C  \\\n",
       "0  51240.0  51480.0  50520.0  50620.0  17585.119141  14928550.0  51060.0   \n",
       "1  50620.0  51240.0  50620.0  51200.0  17786.607422   7350250.0  50620.0   \n",
       "2  51540.0  52080.0  51520.0  51560.0  17911.669922  11978600.0  51200.0   \n",
       "3  51000.0  51060.0  49100.0  49140.0  17070.974609  15624300.0  51560.0   \n",
       "4  49400.0  49960.0  49240.0  49700.0  17265.515625  11199650.0  49140.0   \n",
       "\n",
       "      ...       Diff5  Diff10  Diff1_per  Diff3_per  Diff5_per  Diff10_per  \\\n",
       "0     ...     -1380.0  -220.0      -0.87      -2.92      -2.73       -0.43   \n",
       "1     ...      -580.0  -140.0       1.13      -0.23      -1.13       -0.27   \n",
       "2     ...      -540.0   300.0       0.70       0.97      -1.05        0.58   \n",
       "3     ...     -2180.0  -880.0      -4.92      -3.01      -4.44       -1.79   \n",
       "4     ...     -1360.0 -1040.0       1.13      -3.02      -2.74       -2.09   \n",
       "\n",
       "   Diff1_clf  Diff3_clf  Diff5_clf  Diff10_clf  \n",
       "0       -1등급       -2등급       -2등급        -1등급  \n",
       "1       +2등급       -1등급       -2등급        -1등급  \n",
       "2       +1등급       +1등급       -2등급        +1등급  \n",
       "3       -3등급       -3등급       -3등급        -2등급  \n",
       "4       +2등급       -3등급       -2등급        -2등급  \n",
       "\n",
       "[5 rows x 37 columns]"
      ]
     },
     "execution_count": 6,
     "metadata": {},
     "output_type": "execute_result"
    }
   ],
   "source": [
    "df = pd.read_csv('news_stock_OK.csv', encoding = 'utf-8 sig')\n",
    "df.head()"
   ]
  },
  {
   "cell_type": "markdown",
   "metadata": {},
   "source": [
    "### 칼럼 너무 많아서 df_original에다가 보존시키고 내가 쓰는 것만 df로 작업"
   ]
  },
  {
   "cell_type": "code",
   "execution_count": 7,
   "metadata": {},
   "outputs": [
    {
     "data": {
      "text/plain": [
       "Index(['Unnamed: 0', 'Date', 'NOUNS', 'Open', 'High', 'Low', 'Close',\n",
       "       'Adj Close', 'Volume', 'day1C', 'day3C', 'day5C', 'day10C', 'day1V',\n",
       "       'day3V', 'day5V', 'day10V', 'ma1C', 'ma3C', 'ma5C', 'ma10C', 'ma1V',\n",
       "       'ma3V', 'ma5V', 'ma10V', 'Diff1', 'Diff3', 'Diff5', 'Diff10',\n",
       "       'Diff1_per', 'Diff3_per', 'Diff5_per', 'Diff10_per', 'Diff1_clf',\n",
       "       'Diff3_clf', 'Diff5_clf', 'Diff10_clf'],\n",
       "      dtype='object')"
      ]
     },
     "execution_count": 7,
     "metadata": {},
     "output_type": "execute_result"
    }
   ],
   "source": [
    "# 복제\n",
    "df_original = df.copy()\n",
    "df.columns"
   ]
  },
  {
   "cell_type": "code",
   "execution_count": 8,
   "metadata": {},
   "outputs": [],
   "source": [
    "# 칼럼 삭제\n",
    "df.drop(['Unnamed: 0', 'High', 'Low', 'Adj Close', 'Volume'], axis=1, inplace = True)"
   ]
  },
  {
   "cell_type": "code",
   "execution_count": 9,
   "metadata": {},
   "outputs": [
    {
     "data": {
      "text/plain": [
       "Index(['Date', 'NOUNS', 'Open', 'Close', 'day1C', 'day3C', 'day5C', 'day10C',\n",
       "       'day1V', 'day3V', 'day5V', 'day10V', 'ma1C', 'ma3C', 'ma5C', 'ma10C',\n",
       "       'ma1V', 'ma3V', 'ma5V', 'ma10V', 'Diff1', 'Diff3', 'Diff5', 'Diff10',\n",
       "       'Diff1_per', 'Diff3_per', 'Diff5_per', 'Diff10_per', 'Diff1_clf',\n",
       "       'Diff3_clf', 'Diff5_clf', 'Diff10_clf'],\n",
       "      dtype='object')"
      ]
     },
     "execution_count": 9,
     "metadata": {},
     "output_type": "execute_result"
    }
   ],
   "source": [
    "df.columns"
   ]
  },
  {
   "cell_type": "code",
   "execution_count": 10,
   "metadata": {},
   "outputs": [
    {
     "data": {
      "text/html": [
       "<div>\n",
       "<style scoped>\n",
       "    .dataframe tbody tr th:only-of-type {\n",
       "        vertical-align: middle;\n",
       "    }\n",
       "\n",
       "    .dataframe tbody tr th {\n",
       "        vertical-align: top;\n",
       "    }\n",
       "\n",
       "    .dataframe thead th {\n",
       "        text-align: right;\n",
       "    }\n",
       "</style>\n",
       "<table border=\"1\" class=\"dataframe\">\n",
       "  <thead>\n",
       "    <tr style=\"text-align: right;\">\n",
       "      <th></th>\n",
       "      <th>Date</th>\n",
       "      <th>NOUNS</th>\n",
       "      <th>Open</th>\n",
       "      <th>Close</th>\n",
       "      <th>day1C</th>\n",
       "      <th>day3C</th>\n",
       "      <th>day5C</th>\n",
       "      <th>day10C</th>\n",
       "      <th>day1V</th>\n",
       "      <th>day3V</th>\n",
       "      <th>...</th>\n",
       "      <th>Diff5</th>\n",
       "      <th>Diff10</th>\n",
       "      <th>Diff1_per</th>\n",
       "      <th>Diff3_per</th>\n",
       "      <th>Diff5_per</th>\n",
       "      <th>Diff10_per</th>\n",
       "      <th>Diff1_clf</th>\n",
       "      <th>Diff3_clf</th>\n",
       "      <th>Diff5_clf</th>\n",
       "      <th>Diff10_clf</th>\n",
       "    </tr>\n",
       "  </thead>\n",
       "  <tbody>\n",
       "    <tr>\n",
       "      <th>0</th>\n",
       "      <td>2017-12-15</td>\n",
       "      <td>['부고', '송창', '씨', '법무', '법인', '세한', '변호사', '부친...</td>\n",
       "      <td>51240.0</td>\n",
       "      <td>50620.0</td>\n",
       "      <td>51060.0</td>\n",
       "      <td>52100.0</td>\n",
       "      <td>52000.0</td>\n",
       "      <td>50840.0</td>\n",
       "      <td>20310400.0</td>\n",
       "      <td>8765050.0</td>\n",
       "      <td>...</td>\n",
       "      <td>-1380.0</td>\n",
       "      <td>-220.0</td>\n",
       "      <td>-0.87</td>\n",
       "      <td>-2.92</td>\n",
       "      <td>-2.73</td>\n",
       "      <td>-0.43</td>\n",
       "      <td>-1등급</td>\n",
       "      <td>-2등급</td>\n",
       "      <td>-2등급</td>\n",
       "      <td>-1등급</td>\n",
       "    </tr>\n",
       "    <tr>\n",
       "      <th>1</th>\n",
       "      <td>2017-12-18</td>\n",
       "      <td>['주가', '반토막', '삼성', '중공업', '뒷북', '증권사', '뉴스', ...</td>\n",
       "      <td>50620.0</td>\n",
       "      <td>51200.0</td>\n",
       "      <td>50620.0</td>\n",
       "      <td>51320.0</td>\n",
       "      <td>51780.0</td>\n",
       "      <td>51340.0</td>\n",
       "      <td>14928550.0</td>\n",
       "      <td>11333700.0</td>\n",
       "      <td>...</td>\n",
       "      <td>-580.0</td>\n",
       "      <td>-140.0</td>\n",
       "      <td>1.13</td>\n",
       "      <td>-0.23</td>\n",
       "      <td>-1.13</td>\n",
       "      <td>-0.27</td>\n",
       "      <td>+2등급</td>\n",
       "      <td>-1등급</td>\n",
       "      <td>-2등급</td>\n",
       "      <td>-1등급</td>\n",
       "    </tr>\n",
       "    <tr>\n",
       "      <th>2</th>\n",
       "      <td>2017-12-19</td>\n",
       "      <td>['배당', '계절', '개인', '접근', '로', '배당', '주', '투자',...</td>\n",
       "      <td>51540.0</td>\n",
       "      <td>51560.0</td>\n",
       "      <td>51200.0</td>\n",
       "      <td>51060.0</td>\n",
       "      <td>52100.0</td>\n",
       "      <td>51260.0</td>\n",
       "      <td>7350250.0</td>\n",
       "      <td>20310400.0</td>\n",
       "      <td>...</td>\n",
       "      <td>-540.0</td>\n",
       "      <td>300.0</td>\n",
       "      <td>0.70</td>\n",
       "      <td>0.97</td>\n",
       "      <td>-1.05</td>\n",
       "      <td>0.58</td>\n",
       "      <td>+1등급</td>\n",
       "      <td>+1등급</td>\n",
       "      <td>-2등급</td>\n",
       "      <td>+1등급</td>\n",
       "    </tr>\n",
       "    <tr>\n",
       "      <th>3</th>\n",
       "      <td>2017-12-21</td>\n",
       "      <td>['공정위', '삼성', '물산', '합병', '가이드라인', '개정', '논란',...</td>\n",
       "      <td>51000.0</td>\n",
       "      <td>49140.0</td>\n",
       "      <td>51560.0</td>\n",
       "      <td>50620.0</td>\n",
       "      <td>51320.0</td>\n",
       "      <td>50020.0</td>\n",
       "      <td>11978600.0</td>\n",
       "      <td>14928550.0</td>\n",
       "      <td>...</td>\n",
       "      <td>-2180.0</td>\n",
       "      <td>-880.0</td>\n",
       "      <td>-4.92</td>\n",
       "      <td>-3.01</td>\n",
       "      <td>-4.44</td>\n",
       "      <td>-1.79</td>\n",
       "      <td>-3등급</td>\n",
       "      <td>-3등급</td>\n",
       "      <td>-3등급</td>\n",
       "      <td>-2등급</td>\n",
       "    </tr>\n",
       "    <tr>\n",
       "      <th>4</th>\n",
       "      <td>2017-12-22</td>\n",
       "      <td>['스팟', '삼성', '전자', '오른', '출발', '삼성', '전자', '출발...</td>\n",
       "      <td>49400.0</td>\n",
       "      <td>49700.0</td>\n",
       "      <td>49140.0</td>\n",
       "      <td>51200.0</td>\n",
       "      <td>51060.0</td>\n",
       "      <td>50740.0</td>\n",
       "      <td>15624300.0</td>\n",
       "      <td>7350250.0</td>\n",
       "      <td>...</td>\n",
       "      <td>-1360.0</td>\n",
       "      <td>-1040.0</td>\n",
       "      <td>1.13</td>\n",
       "      <td>-3.02</td>\n",
       "      <td>-2.74</td>\n",
       "      <td>-2.09</td>\n",
       "      <td>+2등급</td>\n",
       "      <td>-3등급</td>\n",
       "      <td>-2등급</td>\n",
       "      <td>-2등급</td>\n",
       "    </tr>\n",
       "  </tbody>\n",
       "</table>\n",
       "<p>5 rows × 32 columns</p>\n",
       "</div>"
      ],
      "text/plain": [
       "         Date                                              NOUNS     Open  \\\n",
       "0  2017-12-15  ['부고', '송창', '씨', '법무', '법인', '세한', '변호사', '부친...  51240.0   \n",
       "1  2017-12-18  ['주가', '반토막', '삼성', '중공업', '뒷북', '증권사', '뉴스', ...  50620.0   \n",
       "2  2017-12-19  ['배당', '계절', '개인', '접근', '로', '배당', '주', '투자',...  51540.0   \n",
       "3  2017-12-21  ['공정위', '삼성', '물산', '합병', '가이드라인', '개정', '논란',...  51000.0   \n",
       "4  2017-12-22  ['스팟', '삼성', '전자', '오른', '출발', '삼성', '전자', '출발...  49400.0   \n",
       "\n",
       "     Close    day1C    day3C    day5C   day10C       day1V       day3V  \\\n",
       "0  50620.0  51060.0  52100.0  52000.0  50840.0  20310400.0   8765050.0   \n",
       "1  51200.0  50620.0  51320.0  51780.0  51340.0  14928550.0  11333700.0   \n",
       "2  51560.0  51200.0  51060.0  52100.0  51260.0   7350250.0  20310400.0   \n",
       "3  49140.0  51560.0  50620.0  51320.0  50020.0  11978600.0  14928550.0   \n",
       "4  49700.0  49140.0  51200.0  51060.0  50740.0  15624300.0   7350250.0   \n",
       "\n",
       "      ...       Diff5  Diff10  Diff1_per  Diff3_per  Diff5_per  Diff10_per  \\\n",
       "0     ...     -1380.0  -220.0      -0.87      -2.92      -2.73       -0.43   \n",
       "1     ...      -580.0  -140.0       1.13      -0.23      -1.13       -0.27   \n",
       "2     ...      -540.0   300.0       0.70       0.97      -1.05        0.58   \n",
       "3     ...     -2180.0  -880.0      -4.92      -3.01      -4.44       -1.79   \n",
       "4     ...     -1360.0 -1040.0       1.13      -3.02      -2.74       -2.09   \n",
       "\n",
       "   Diff1_clf  Diff3_clf  Diff5_clf  Diff10_clf  \n",
       "0       -1등급       -2등급       -2등급        -1등급  \n",
       "1       +2등급       -1등급       -2등급        -1등급  \n",
       "2       +1등급       +1등급       -2등급        +1등급  \n",
       "3       -3등급       -3등급       -3등급        -2등급  \n",
       "4       +2등급       -3등급       -2등급        -2등급  \n",
       "\n",
       "[5 rows x 32 columns]"
      ]
     },
     "execution_count": 10,
     "metadata": {},
     "output_type": "execute_result"
    }
   ],
   "source": [
    "df.head()"
   ]
  },
  {
   "cell_type": "markdown",
   "metadata": {},
   "source": [
    "# ========================================================"
   ]
  },
  {
   "cell_type": "markdown",
   "metadata": {},
   "source": [
    "# 이제 통계분석 시작\n",
    "- https://scikit-learn.org/stable/tutorial/text_analytics/working_with_text_data.html\n",
    "- https://ratsgo.github.io/machine%20learning/2017/05/18/naive/\n",
    "1. Naive Basian"
   ]
  },
  {
   "cell_type": "code",
   "execution_count": 11,
   "metadata": {},
   "outputs": [
    {
     "data": {
      "text/html": [
       "<div>\n",
       "<style scoped>\n",
       "    .dataframe tbody tr th:only-of-type {\n",
       "        vertical-align: middle;\n",
       "    }\n",
       "\n",
       "    .dataframe tbody tr th {\n",
       "        vertical-align: top;\n",
       "    }\n",
       "\n",
       "    .dataframe thead th {\n",
       "        text-align: right;\n",
       "    }\n",
       "</style>\n",
       "<table border=\"1\" class=\"dataframe\">\n",
       "  <thead>\n",
       "    <tr style=\"text-align: right;\">\n",
       "      <th></th>\n",
       "      <th>Date</th>\n",
       "      <th>NOUNS</th>\n",
       "      <th>Open</th>\n",
       "      <th>Close</th>\n",
       "      <th>day1C</th>\n",
       "      <th>day3C</th>\n",
       "      <th>day5C</th>\n",
       "      <th>day10C</th>\n",
       "      <th>day1V</th>\n",
       "      <th>day3V</th>\n",
       "      <th>...</th>\n",
       "      <th>Diff5</th>\n",
       "      <th>Diff10</th>\n",
       "      <th>Diff1_per</th>\n",
       "      <th>Diff3_per</th>\n",
       "      <th>Diff5_per</th>\n",
       "      <th>Diff10_per</th>\n",
       "      <th>Diff1_clf</th>\n",
       "      <th>Diff3_clf</th>\n",
       "      <th>Diff5_clf</th>\n",
       "      <th>Diff10_clf</th>\n",
       "    </tr>\n",
       "  </thead>\n",
       "  <tbody>\n",
       "    <tr>\n",
       "      <th>0</th>\n",
       "      <td>2017-12-15</td>\n",
       "      <td>['부고', '송창', '씨', '법무', '법인', '세한', '변호사', '부친...</td>\n",
       "      <td>51240.0</td>\n",
       "      <td>50620.0</td>\n",
       "      <td>51060.0</td>\n",
       "      <td>52100.0</td>\n",
       "      <td>52000.0</td>\n",
       "      <td>50840.0</td>\n",
       "      <td>20310400.0</td>\n",
       "      <td>8765050.0</td>\n",
       "      <td>...</td>\n",
       "      <td>-1380.0</td>\n",
       "      <td>-220.0</td>\n",
       "      <td>-0.87</td>\n",
       "      <td>-2.92</td>\n",
       "      <td>-2.73</td>\n",
       "      <td>-0.43</td>\n",
       "      <td>-1등급</td>\n",
       "      <td>-2등급</td>\n",
       "      <td>-2등급</td>\n",
       "      <td>-1등급</td>\n",
       "    </tr>\n",
       "    <tr>\n",
       "      <th>1</th>\n",
       "      <td>2017-12-18</td>\n",
       "      <td>['주가', '반토막', '삼성', '중공업', '뒷북', '증권사', '뉴스', ...</td>\n",
       "      <td>50620.0</td>\n",
       "      <td>51200.0</td>\n",
       "      <td>50620.0</td>\n",
       "      <td>51320.0</td>\n",
       "      <td>51780.0</td>\n",
       "      <td>51340.0</td>\n",
       "      <td>14928550.0</td>\n",
       "      <td>11333700.0</td>\n",
       "      <td>...</td>\n",
       "      <td>-580.0</td>\n",
       "      <td>-140.0</td>\n",
       "      <td>1.13</td>\n",
       "      <td>-0.23</td>\n",
       "      <td>-1.13</td>\n",
       "      <td>-0.27</td>\n",
       "      <td>+2등급</td>\n",
       "      <td>-1등급</td>\n",
       "      <td>-2등급</td>\n",
       "      <td>-1등급</td>\n",
       "    </tr>\n",
       "    <tr>\n",
       "      <th>2</th>\n",
       "      <td>2017-12-19</td>\n",
       "      <td>['배당', '계절', '개인', '접근', '로', '배당', '주', '투자',...</td>\n",
       "      <td>51540.0</td>\n",
       "      <td>51560.0</td>\n",
       "      <td>51200.0</td>\n",
       "      <td>51060.0</td>\n",
       "      <td>52100.0</td>\n",
       "      <td>51260.0</td>\n",
       "      <td>7350250.0</td>\n",
       "      <td>20310400.0</td>\n",
       "      <td>...</td>\n",
       "      <td>-540.0</td>\n",
       "      <td>300.0</td>\n",
       "      <td>0.70</td>\n",
       "      <td>0.97</td>\n",
       "      <td>-1.05</td>\n",
       "      <td>0.58</td>\n",
       "      <td>+1등급</td>\n",
       "      <td>+1등급</td>\n",
       "      <td>-2등급</td>\n",
       "      <td>+1등급</td>\n",
       "    </tr>\n",
       "    <tr>\n",
       "      <th>3</th>\n",
       "      <td>2017-12-21</td>\n",
       "      <td>['공정위', '삼성', '물산', '합병', '가이드라인', '개정', '논란',...</td>\n",
       "      <td>51000.0</td>\n",
       "      <td>49140.0</td>\n",
       "      <td>51560.0</td>\n",
       "      <td>50620.0</td>\n",
       "      <td>51320.0</td>\n",
       "      <td>50020.0</td>\n",
       "      <td>11978600.0</td>\n",
       "      <td>14928550.0</td>\n",
       "      <td>...</td>\n",
       "      <td>-2180.0</td>\n",
       "      <td>-880.0</td>\n",
       "      <td>-4.92</td>\n",
       "      <td>-3.01</td>\n",
       "      <td>-4.44</td>\n",
       "      <td>-1.79</td>\n",
       "      <td>-3등급</td>\n",
       "      <td>-3등급</td>\n",
       "      <td>-3등급</td>\n",
       "      <td>-2등급</td>\n",
       "    </tr>\n",
       "    <tr>\n",
       "      <th>4</th>\n",
       "      <td>2017-12-22</td>\n",
       "      <td>['스팟', '삼성', '전자', '오른', '출발', '삼성', '전자', '출발...</td>\n",
       "      <td>49400.0</td>\n",
       "      <td>49700.0</td>\n",
       "      <td>49140.0</td>\n",
       "      <td>51200.0</td>\n",
       "      <td>51060.0</td>\n",
       "      <td>50740.0</td>\n",
       "      <td>15624300.0</td>\n",
       "      <td>7350250.0</td>\n",
       "      <td>...</td>\n",
       "      <td>-1360.0</td>\n",
       "      <td>-1040.0</td>\n",
       "      <td>1.13</td>\n",
       "      <td>-3.02</td>\n",
       "      <td>-2.74</td>\n",
       "      <td>-2.09</td>\n",
       "      <td>+2등급</td>\n",
       "      <td>-3등급</td>\n",
       "      <td>-2등급</td>\n",
       "      <td>-2등급</td>\n",
       "    </tr>\n",
       "  </tbody>\n",
       "</table>\n",
       "<p>5 rows × 32 columns</p>\n",
       "</div>"
      ],
      "text/plain": [
       "         Date                                              NOUNS     Open  \\\n",
       "0  2017-12-15  ['부고', '송창', '씨', '법무', '법인', '세한', '변호사', '부친...  51240.0   \n",
       "1  2017-12-18  ['주가', '반토막', '삼성', '중공업', '뒷북', '증권사', '뉴스', ...  50620.0   \n",
       "2  2017-12-19  ['배당', '계절', '개인', '접근', '로', '배당', '주', '투자',...  51540.0   \n",
       "3  2017-12-21  ['공정위', '삼성', '물산', '합병', '가이드라인', '개정', '논란',...  51000.0   \n",
       "4  2017-12-22  ['스팟', '삼성', '전자', '오른', '출발', '삼성', '전자', '출발...  49400.0   \n",
       "\n",
       "     Close    day1C    day3C    day5C   day10C       day1V       day3V  \\\n",
       "0  50620.0  51060.0  52100.0  52000.0  50840.0  20310400.0   8765050.0   \n",
       "1  51200.0  50620.0  51320.0  51780.0  51340.0  14928550.0  11333700.0   \n",
       "2  51560.0  51200.0  51060.0  52100.0  51260.0   7350250.0  20310400.0   \n",
       "3  49140.0  51560.0  50620.0  51320.0  50020.0  11978600.0  14928550.0   \n",
       "4  49700.0  49140.0  51200.0  51060.0  50740.0  15624300.0   7350250.0   \n",
       "\n",
       "      ...       Diff5  Diff10  Diff1_per  Diff3_per  Diff5_per  Diff10_per  \\\n",
       "0     ...     -1380.0  -220.0      -0.87      -2.92      -2.73       -0.43   \n",
       "1     ...      -580.0  -140.0       1.13      -0.23      -1.13       -0.27   \n",
       "2     ...      -540.0   300.0       0.70       0.97      -1.05        0.58   \n",
       "3     ...     -2180.0  -880.0      -4.92      -3.01      -4.44       -1.79   \n",
       "4     ...     -1360.0 -1040.0       1.13      -3.02      -2.74       -2.09   \n",
       "\n",
       "   Diff1_clf  Diff3_clf  Diff5_clf  Diff10_clf  \n",
       "0       -1등급       -2등급       -2등급        -1등급  \n",
       "1       +2등급       -1등급       -2등급        -1등급  \n",
       "2       +1등급       +1등급       -2등급        +1등급  \n",
       "3       -3등급       -3등급       -3등급        -2등급  \n",
       "4       +2등급       -3등급       -2등급        -2등급  \n",
       "\n",
       "[5 rows x 32 columns]"
      ]
     },
     "execution_count": 11,
     "metadata": {},
     "output_type": "execute_result"
    }
   ],
   "source": [
    "df.head()"
   ]
  },
  {
   "cell_type": "code",
   "execution_count": 12,
   "metadata": {},
   "outputs": [],
   "source": [
    "# train_test 나누기\n",
    "from sklearn.model_selection import train_test_split\n",
    "\n",
    "# X에는 뉴스에서 추출한 명사 데이터만\n",
    "X = df['NOUNS']\n",
    "\n",
    "# y에는 주가상승/하락 정리한 범주형 데이터로 비교\n",
    "y = df.loc[:, ['Diff1_clf', 'Diff3_clf', 'Diff5_clf', 'Diff10_clf']]\n",
    "\n",
    "# X훈련,테스트 / y훈련,테스트\n",
    "X_train, X_test, y_train, y_test = train_test_split(X, y, test_size = 0.05)"
   ]
  },
  {
   "cell_type": "markdown",
   "metadata": {},
   "source": [
    "## 분석 전, 데이터 가공 (토큰화, 벡터 -> tf/idf -> 분석 -> 테스트)\n",
    "### Tokenizing text with\n",
    "- https://scikit-learn.org/stable/tutorial/text_analytics/working_with_text_data.html#tokenizing-text-with-scikit-learn\n",
    "- https://scikit-learn.org/stable/modules/generated/sklearn.feature_extraction.text.CountVectorizer.html\n",
    "- https://datascienceschool.net/view-notebook/3e7aadbf88ed4f0d87a76f9ddc925d69/"
   ]
  },
  {
   "cell_type": "code",
   "execution_count": 21,
   "metadata": {},
   "outputs": [],
   "source": [
    "# 학습시킬 때 칼럼이 두 개 있으면 오류가 나서 일자별로 자르는 과정\n",
    "y_train1 = y_train.iloc[:,0]\n",
    "y_train2 = y_train.iloc[:,1]\n",
    "y_train3 = y_train.iloc[:,2]\n",
    "y_train4 = y_train.iloc[:,3]\n",
    "\n",
    "y_test1 = y_test.iloc[:,0]\n",
    "y_test2 = y_test.iloc[:,1]\n",
    "y_test3 = y_test.iloc[:,2]\n",
    "y_test4 = y_test.iloc[:,3]\n",
    "\n",
    "y1 = y.iloc[:,0]\n",
    "y2 = y.iloc[:,1]\n",
    "y3 = y.iloc[:,2]\n",
    "y4 = y.iloc[:,3]"
   ]
  },
  {
   "cell_type": "code",
   "execution_count": 13,
   "metadata": {},
   "outputs": [
    {
     "name": "stdout",
     "output_type": "stream",
     "text": [
      "(230,)\n",
      "(13,)\n",
      "(230, 4)\n",
      "(13, 4)\n"
     ]
    }
   ],
   "source": [
    "# 데이터 토크나이징 전\n",
    "print(X_train.shape)\n",
    "print(X_test.shape)\n",
    "\n",
    "print(y_train.shape)\n",
    "print(y_test.shape)"
   ]
  },
  {
   "cell_type": "code",
   "execution_count": 17,
   "metadata": {},
   "outputs": [
    {
     "name": "stdout",
     "output_type": "stream",
     "text": [
      "(230, 28195)\n",
      "(13, 8220)\n"
     ]
    }
   ],
   "source": [
    "# 데이터 벡터 형태로 토크나이징\n",
    "# 이 방법으로 토크나이징 하는게 맞나?? tf/idf같은 형식도 있던데??\n",
    "# 스탑워드는 따로 처리 안해도 되나??\n",
    "from sklearn.feature_extraction.text import CountVectorizer\n",
    "count_vect = CountVectorizer()\n",
    "\n",
    "# fit과 fit_transform의 차이는?? return term-document matrix 추가진행\n",
    "# fit_transform(..)은 두 과정을 한 방에 하려고 붙인 것\n",
    "X_train_counts = count_vect.fit_transform(X_train)\n",
    "print(X_train_counts.shape)\n",
    "\n",
    "X_test_counts = count_vect.fit_transform(X_test)\n",
    "print(X_test_counts.shape)\n",
    "# fit은 shape로 모양을 찍어볼 수 없다."
   ]
  },
  {
   "cell_type": "markdown",
   "metadata": {},
   "source": [
    "## 문서 길이가 길어지면 카운팅 값이 자연스레 높아져서 뭔가 불공평함\n",
    "- 그럴 때 tf/idf 토크나이징 사용...이 맞나??\n",
    "- 다른 단어와의 상대적 중요성이 필요할 때는 좋을 것 같지만, 주가 예측에 어떤 단어가 핫했나를 따지려면 굳이 필요 없을 듯...??"
   ]
  },
  {
   "cell_type": "code",
   "execution_count": 19,
   "metadata": {},
   "outputs": [],
   "source": [
    "# 토크나이징한 x의 벡터값들을 tf로 변환하는 과정\n",
    "# fit과 transform 진행\n",
    "from sklearn.feature_extraction.text import TfidfTransformer \n",
    "from sklearn.naive_bayes import MultinomialNB\n",
    "\n",
    "\n",
    "# 아까 벡터화한거 넣어서 fit과 transform\n",
    "train_tfidf_transformer = TfidfTransformer(use_idf=True).fit(X_train_counts) \n",
    "X_train_tfidf = train_tfidf_transformer.transform(X_train_counts)\n",
    "\n",
    "test_tfidf_transformer = TfidfTransformer(use_idf=True).fit(X_test_counts) \n",
    "X_test_tfidf = test_tfidf_transformer.transform(X_test_counts)"
   ]
  },
  {
   "cell_type": "code",
   "execution_count": 23,
   "metadata": {},
   "outputs": [
    {
     "name": "stdout",
     "output_type": "stream",
     "text": [
      "(230, 28195)\n",
      "(230,)\n",
      "(13, 8220)\n",
      "(13,)\n"
     ]
    }
   ],
   "source": [
    "print(X_train_tfidf.shape)\n",
    "print(y_train3.shape)\n",
    "print(X_test_tfidf.shape)\n",
    "print(y_test3.shape)"
   ]
  },
  {
   "cell_type": "code",
   "execution_count": 25,
   "metadata": {},
   "outputs": [
    {
     "name": "stdout",
     "output_type": "stream",
     "text": [
      "(230, 28195)\n",
      "(230,)\n",
      "======== 5일치 예측 ========\n",
      "tfidf로 변환한 예측률 : 0.21304347826086956\n"
     ]
    }
   ],
   "source": [
    "nb_clf = MultinomialNB().fit(X_train_tfidf, y_train3)\n",
    "test_predicted3 = nb_clf.predict(X_train_tfidf)\n",
    "\n",
    "print(X_train_tfidf.shape)\n",
    "print(test_predicted3.shape)\n",
    "\n",
    "print('======== 5일치 예측 ========')\n",
    "print('tfidf로 변환한 예측률 :',np.mean(test_predicted3 == y_train3))"
   ]
  },
  {
   "cell_type": "code",
   "execution_count": 26,
   "metadata": {},
   "outputs": [
    {
     "name": "stdout",
     "output_type": "stream",
     "text": [
      "======== 1일치 예측 ========\n"
     ]
    },
    {
     "ename": "ValueError",
     "evalue": "Found input variables with inconsistent numbers of samples: [230, 243]",
     "output_type": "error",
     "traceback": [
      "\u001b[1;31m---------------------------------------------------------------------------\u001b[0m",
      "\u001b[1;31mValueError\u001b[0m                                Traceback (most recent call last)",
      "\u001b[1;32m<ipython-input-26-adf02c914e88>\u001b[0m in \u001b[0;36m<module>\u001b[1;34m()\u001b[0m\n\u001b[0;32m      1\u001b[0m \u001b[0mprint\u001b[0m\u001b[1;33m(\u001b[0m\u001b[1;34m'======== 1일치 예측 ========'\u001b[0m\u001b[1;33m)\u001b[0m\u001b[1;33m\u001b[0m\u001b[0m\n\u001b[1;32m----> 2\u001b[1;33m \u001b[0mclf_tfidf\u001b[0m \u001b[1;33m=\u001b[0m \u001b[0mMultinomialNB\u001b[0m\u001b[1;33m(\u001b[0m\u001b[1;33m)\u001b[0m\u001b[1;33m.\u001b[0m\u001b[0mfit\u001b[0m\u001b[1;33m(\u001b[0m\u001b[0mX_train_tfidf\u001b[0m\u001b[1;33m,\u001b[0m \u001b[0my1\u001b[0m\u001b[1;33m)\u001b[0m\u001b[1;33m\u001b[0m\u001b[0m\n\u001b[0m\u001b[0;32m      3\u001b[0m \u001b[0mpredicted1\u001b[0m \u001b[1;33m=\u001b[0m \u001b[0mclf_tfidf\u001b[0m\u001b[1;33m.\u001b[0m\u001b[0mpredict\u001b[0m\u001b[1;33m(\u001b[0m\u001b[0mX_train_tfidf\u001b[0m\u001b[1;33m)\u001b[0m\u001b[1;33m\u001b[0m\u001b[0m\n\u001b[0;32m      4\u001b[0m \u001b[0mprint\u001b[0m\u001b[1;33m(\u001b[0m\u001b[1;34m'tfidf로 변환한 예측률 :'\u001b[0m\u001b[1;33m,\u001b[0m\u001b[0mnp\u001b[0m\u001b[1;33m.\u001b[0m\u001b[0mmean\u001b[0m\u001b[1;33m(\u001b[0m\u001b[0mpredicted1\u001b[0m \u001b[1;33m==\u001b[0m \u001b[0my1\u001b[0m\u001b[1;33m)\u001b[0m\u001b[1;33m)\u001b[0m\u001b[1;33m\u001b[0m\u001b[0m\n\u001b[0;32m      5\u001b[0m \u001b[1;33m\u001b[0m\u001b[0m\n",
      "\u001b[1;32m~\\Anaconda3\\lib\\site-packages\\sklearn\\naive_bayes.py\u001b[0m in \u001b[0;36mfit\u001b[1;34m(self, X, y, sample_weight)\u001b[0m\n\u001b[0;32m    577\u001b[0m             \u001b[0mReturns\u001b[0m \u001b[0mself\u001b[0m\u001b[1;33m.\u001b[0m\u001b[1;33m\u001b[0m\u001b[0m\n\u001b[0;32m    578\u001b[0m         \"\"\"\n\u001b[1;32m--> 579\u001b[1;33m         \u001b[0mX\u001b[0m\u001b[1;33m,\u001b[0m \u001b[0my\u001b[0m \u001b[1;33m=\u001b[0m \u001b[0mcheck_X_y\u001b[0m\u001b[1;33m(\u001b[0m\u001b[0mX\u001b[0m\u001b[1;33m,\u001b[0m \u001b[0my\u001b[0m\u001b[1;33m,\u001b[0m \u001b[1;34m'csr'\u001b[0m\u001b[1;33m)\u001b[0m\u001b[1;33m\u001b[0m\u001b[0m\n\u001b[0m\u001b[0;32m    580\u001b[0m         \u001b[0m_\u001b[0m\u001b[1;33m,\u001b[0m \u001b[0mn_features\u001b[0m \u001b[1;33m=\u001b[0m \u001b[0mX\u001b[0m\u001b[1;33m.\u001b[0m\u001b[0mshape\u001b[0m\u001b[1;33m\u001b[0m\u001b[0m\n\u001b[0;32m    581\u001b[0m \u001b[1;33m\u001b[0m\u001b[0m\n",
      "\u001b[1;32m~\\Anaconda3\\lib\\site-packages\\sklearn\\utils\\validation.py\u001b[0m in \u001b[0;36mcheck_X_y\u001b[1;34m(X, y, accept_sparse, dtype, order, copy, force_all_finite, ensure_2d, allow_nd, multi_output, ensure_min_samples, ensure_min_features, y_numeric, warn_on_dtype, estimator)\u001b[0m\n\u001b[0;32m    581\u001b[0m         \u001b[0my\u001b[0m \u001b[1;33m=\u001b[0m \u001b[0my\u001b[0m\u001b[1;33m.\u001b[0m\u001b[0mastype\u001b[0m\u001b[1;33m(\u001b[0m\u001b[0mnp\u001b[0m\u001b[1;33m.\u001b[0m\u001b[0mfloat64\u001b[0m\u001b[1;33m)\u001b[0m\u001b[1;33m\u001b[0m\u001b[0m\n\u001b[0;32m    582\u001b[0m \u001b[1;33m\u001b[0m\u001b[0m\n\u001b[1;32m--> 583\u001b[1;33m     \u001b[0mcheck_consistent_length\u001b[0m\u001b[1;33m(\u001b[0m\u001b[0mX\u001b[0m\u001b[1;33m,\u001b[0m \u001b[0my\u001b[0m\u001b[1;33m)\u001b[0m\u001b[1;33m\u001b[0m\u001b[0m\n\u001b[0m\u001b[0;32m    584\u001b[0m \u001b[1;33m\u001b[0m\u001b[0m\n\u001b[0;32m    585\u001b[0m     \u001b[1;32mreturn\u001b[0m \u001b[0mX\u001b[0m\u001b[1;33m,\u001b[0m \u001b[0my\u001b[0m\u001b[1;33m\u001b[0m\u001b[0m\n",
      "\u001b[1;32m~\\Anaconda3\\lib\\site-packages\\sklearn\\utils\\validation.py\u001b[0m in \u001b[0;36mcheck_consistent_length\u001b[1;34m(*arrays)\u001b[0m\n\u001b[0;32m    202\u001b[0m     \u001b[1;32mif\u001b[0m \u001b[0mlen\u001b[0m\u001b[1;33m(\u001b[0m\u001b[0muniques\u001b[0m\u001b[1;33m)\u001b[0m \u001b[1;33m>\u001b[0m \u001b[1;36m1\u001b[0m\u001b[1;33m:\u001b[0m\u001b[1;33m\u001b[0m\u001b[0m\n\u001b[0;32m    203\u001b[0m         raise ValueError(\"Found input variables with inconsistent numbers of\"\n\u001b[1;32m--> 204\u001b[1;33m                          \" samples: %r\" % [int(l) for l in lengths])\n\u001b[0m\u001b[0;32m    205\u001b[0m \u001b[1;33m\u001b[0m\u001b[0m\n\u001b[0;32m    206\u001b[0m \u001b[1;33m\u001b[0m\u001b[0m\n",
      "\u001b[1;31mValueError\u001b[0m: Found input variables with inconsistent numbers of samples: [230, 243]"
     ]
    }
   ],
   "source": [
    "print('======== 1일치 예측 ========')\n",
    "clf_tfidf = MultinomialNB().fit(X_train_tfidf, y1)\n",
    "predicted1 = clf_tfidf.predict(X_train_tfidf)\n",
    "print('tfidf로 변환한 예측률 :',np.mean(predicted1 == y1))\n",
    "\n",
    "print('======== 3일치 예측 ========')\n",
    "clf_tfidf = MultinomialNB().fit(X_train_tfidf, y2)\n",
    "predicted2 = clf_tfidf.predict(X_train_tfidf)\n",
    "print('tfidf로 변환한 예측률 :',np.mean(predicted2 == y2))\n",
    "\n",
    "print('======== 5일치 예측 ========')\n",
    "clf_tfidf = MultinomialNB().fit(X_train_tfidf, y3)\n",
    "predicted3 = clf_tfidf.predict(X_train_tfidf)\n",
    "print('tfidf로 변환한 예측률 :',np.mean(predicted2 == y3))\n",
    "\n",
    "print('======== 10일치 예측 ========')\n",
    "clf_tfidf = MultinomialNB().fit(X_train_tfidf, y4)\n",
    "predicted4 = clf_tfidf.predict(X_train_tfidf)\n",
    "print('tfidf로 변환한 예측률 :',np.mean(predicted4 == y4))"
   ]
  },
  {
   "cell_type": "code",
   "execution_count": 464,
   "metadata": {},
   "outputs": [
    {
     "name": "stdout",
     "output_type": "stream",
     "text": [
      "======== 1일치 예측값 나열 ========\n",
      "[ 1 -1 -1  1 -1 -1  1 -1 -1 -1  1  1  1  1  1  1  1  1  1 -1  1 -1  1  1\n",
      " -1 -1  1 -1 -1  1 -1 -1  1  1  1  1  1 -1  1 -1  1  1  1 -1  1 -1 -1 -1\n",
      "  1 -1  1 -1 -1  1  1 -1 -1 -1 -1 -1 -1  1  1 -1 -1 -1 -1 -1 -1 -1 -1  1\n",
      " -1  1 -1 -1  1  1 -1 -1 -1  1 -1  1 -1 -1  1  1  1 -1 -1 -1 -1  1 -1 -1\n",
      " -1  1 -1 -1 -1 -1  1 -1  1 -1 -1 -1 -1 -1  1  1 -1 -1 -1 -1 -1 -1 -1 -1\n",
      " -1  1 -1 -1  1 -1 -1 -1 -1  1 -1  1  1  1 -1 -1 -1 -1  1  1 -1 -1  1 -1\n",
      " -1 -1 -1 -1 -1  1  1  1  1 -1 -1 -1 -1 -1  1 -1  1  1  1  1  1 -1 -1  1\n",
      " -1 -1 -1 -1 -1  1 -1  1  1  1  1  1 -1  1 -1 -1 -1  1 -1 -1 -1 -1 -1  1\n",
      "  1  1  1  1 -1 -1 -1 -1 -1 -1  1 -1 -1 -1 -1  1 -1 -1 -1 -1 -1 -1 -1  1\n",
      " -1  1 -1 -1 -1 -1  1  1  1 -1 -1 -1  1 -1 -1 -1 -1  1 -1  1  1  1 -1 -1\n",
      " -1 -1 -1 -1  1 -1  1  1 -1 -1  1  1  1]\n",
      "y1값 분포 : \n",
      " -1    93\n",
      " 1    91\n",
      "-2    37\n",
      " 2    26\n",
      "-3     3\n",
      " 3     3\n",
      "Name: Diff1_clf, dtype: int64\n",
      "tfidf로 변환한 예측률 : 0.691699604743083\n",
      "\n",
      "======== 3일치 예측값 나열 ========\n",
      "[-1 -1 -1 -1 -1 -1 -1 -2 -1  1 -2 -2 -1  1 -1 -1 -1 -1 -1 -1 -1 -1 -1 -1\n",
      " -1 -1 -1 -1 -1 -2 -1  1 -1 -1 -1 -1 -1 -2 -1 -1 -1 -1 -1 -1 -1 -1 -1 -1\n",
      " -1 -2 -2 -1 -1 -1 -1 -2 -1 -1 -1 -1 -1 -1 -1 -1 -1 -1 -1 -1 -1 -1 -1 -1\n",
      " -1 -2 -2 -1 -1 -1 -1 -1 -1 -1 -1  1 -1  1 -1 -1 -1 -1  1 -1 -1 -2  1 -1\n",
      " -1 -1 -1 -2 -1 -2 -1 -2 -1 -1 -2 -1 -2 -1 -1 -1 -1 -1 -1 -1 -2 -1 -1 -1\n",
      " -1 -2 -2 -2 -2 -2 -2 -2 -1  1 -1 -1 -1  1 -1 -1 -1 -1 -1 -2 -1 -1 -1 -1\n",
      "  1  1  1  1  1 -1 -1 -1 -2 -1  1 -1 -1 -1 -1 -1 -1 -1 -1 -2 -2 -2 -2 -2\n",
      " -2 -2 -2 -1 -1  1  1 -1 -1 -1 -1 -1 -2 -2 -1 -2 -2 -1 -2  1  1 -1 -1 -1\n",
      " -1 -1 -1 -2 -2 -2 -2 -1 -2 -1 -2 -2 -2  1  1 -1 -1 -2 -2 -1 -2 -1 -1 -2\n",
      "  1 -1 -1 -1 -1 -1  1 -1 -1 -1 -2 -1 -1 -2 -2 -1 -1  1  1  1  1 -2 -1 -2\n",
      " -1 -1 -2 -2 -1 -1 -1 -2 -2 -2 -1 -1 -1]\n",
      "y2값 분포 : \n",
      " -1    62\n",
      "-2    59\n",
      " 1    57\n",
      " 2    32\n",
      " 3    20\n",
      "-3    16\n",
      "-4     5\n",
      " 4     2\n",
      "Name: Diff3_clf, dtype: int64\n",
      "tfidf로 변환한 예측률 : 0.549407114624506\n",
      "\n",
      "======== 5일치 예측값 나열 ========\n",
      "[-1 -1 -1 -1 -1 -1 -1 -1 -1 -1 -1 -1 -1 -1 -1 -1 -1 -1 -1 -1 -1 -1 -1 -1\n",
      " -1 -1 -1 -1 -1 -1 -1 -1 -1 -1 -1 -1 -1 -1 -1 -1 -1 -1 -1 -1 -1 -1 -1 -1\n",
      " -1 -1 -1 -1 -1 -1 -1 -1 -1 -1 -1 -1 -1 -1 -1 -1 -1 -1 -1 -1 -1 -1 -1 -1\n",
      " -1 -1 -1 -2 -1 -1 -1 -1 -1 -1 -1 -1 -1 -1 -1 -1 -1 -1 -1 -1 -1 -1 -1 -1\n",
      " -1 -1 -1 -1 -1 -1 -1 -1 -1 -1 -1 -1 -1 -1 -1 -1 -1 -1 -1 -1 -1 -1 -1 -1\n",
      " -1 -1 -1 -1 -1 -1 -1 -1 -1 -1 -1 -1 -1 -1 -1 -1 -1 -1 -1 -1 -1 -1 -1 -1\n",
      " -1 -1 -1 -1 -1 -1 -1 -1 -1 -1 -1 -1 -1 -1 -1 -1 -1 -1 -1 -1 -1 -1 -1 -1\n",
      " -1 -1 -1 -1 -1 -1 -1 -1 -1 -1 -1 -1 -1 -1 -1 -1 -1 -1 -1 -1 -1 -1 -1 -1\n",
      " -1 -1 -1 -1 -1 -1 -1 -1 -1 -1 -1 -1 -1 -1 -1 -1 -1 -1 -1 -1 -1 -1 -1 -1\n",
      " -1 -1 -1 -1 -1 -1 -1 -1 -1 -1 -1 -2 -1 -1 -1 -1 -1 -1 -1 -1 -1 -1 -1 -1\n",
      " -1 -1 -1 -1 -1 -1 -1 -2 -1 -1 -1 -1 -1]\n",
      "y3값 분포 : \n",
      " -1    57\n",
      "-2    48\n",
      " 2    42\n",
      " 1    34\n",
      "-3    28\n",
      " 3    18\n",
      "-4    15\n",
      " 4    11\n",
      "Name: Diff5_clf, dtype: int64\n",
      "tfidf로 변환한 예측률 : 0.23715415019762845\n",
      "\n",
      "======== 10일치 예측값 나열 ========\n",
      "[-2 -2 -2 -2 -2 -2 -2 -2 -2 -2 -2 -2 -2 -2 -2 -2 -2 -2 -2 -2 -2 -2 -2 -2\n",
      " -2 -2 -2 -2 -1 -2 -2 -2 -2 -2 -2 -2 -2 -2 -2 -2 -2 -2 -2 -2 -2 -2 -2 -2\n",
      " -2 -2 -2 -2 -2 -2 -2 -2 -2 -2 -2 -2 -2 -2 -2 -2 -2 -2 -2 -2 -2 -2 -2 -2\n",
      " -2 -2 -2 -2 -2 -2 -2 -2 -2 -2 -2 -2 -2 -2 -2 -2 -2 -2 -2 -2 -2 -2 -2 -2\n",
      " -2 -2 -2 -2 -2 -2 -2 -2 -2 -2 -2 -2 -2 -2 -2 -2 -2 -2 -2 -2 -2 -2 -2 -2\n",
      " -2 -2 -2 -2 -2 -2 -2 -2 -2 -2 -2 -2 -2 -2 -2 -2 -2 -2 -2 -2 -2 -2 -2 -2\n",
      " -2 -2 -2 -2 -2 -2 -2 -2 -2 -2 -2 -2 -2 -2 -2 -2 -2 -2 -2 -2 -1 -2 -2 -2\n",
      " -2 -2 -2 -2 -2 -2 -1 -2 -2 -2 -2 -2 -2 -2 -2 -2 -2 -2 -2 -2 -2 -2 -2 -1\n",
      " -1 -1 -1 -2 -2 -2 -2 -2 -2 -2 -2 -2 -2 -2 -2 -2 -2 -2 -2 -2 -2 -2 -2 -2\n",
      " -2 -2 -2 -2 -2 -2 -2 -2 -2 -2 -2 -2 -2 -2 -2 -2 -2 -2 -2 -2 -2 -2 -2 -2\n",
      " -2 -2 -2 -2 -2 -2 -2 -2 -2 -2 -2 -2 -2]\n",
      "y4값 분포 : \n",
      " -2    52\n",
      "-1    42\n",
      "-3    35\n",
      "-4    32\n",
      " 1    31\n",
      " 2    24\n",
      " 4    20\n",
      " 3    17\n",
      "Name: Diff10_clf, dtype: int64\n",
      "tfidf로 변환한 예측률 : 0.22924901185770752\n",
      "\n"
     ]
    }
   ],
   "source": [
    "print('======== 1일치 예측값 나열 ========')\n",
    "print(predicted1)\n",
    "print('y1값 분포 : \\n', y1.value_counts())\n",
    "print('tfidf로 변환한 예측률 :',np.mean(predicted1 == y1), end = '\\n\\n')\n",
    "\n",
    "\n",
    "print('======== 3일치 예측값 나열 ========')\n",
    "print(predicted2)\n",
    "print('y2값 분포 : \\n', y2.value_counts())\n",
    "print('tfidf로 변환한 예측률 :',np.mean(predicted2 == y2), end = '\\n\\n')\n",
    "\n",
    "\n",
    "print('======== 5일치 예측값 나열 ========')\n",
    "print(predicted3)\n",
    "print('y3값 분포 : \\n', y3.value_counts())\n",
    "print('tfidf로 변환한 예측률 :',np.mean(predicted3 == y3), end = '\\n\\n')\n",
    "\n",
    "\n",
    "print('======== 10일치 예측값 나열 ========')\n",
    "print(predicted4)\n",
    "print('y4값 분포 : \\n', y4.value_counts())\n",
    "print('tfidf로 변환한 예측률 :',np.mean(predicted4 == y4), end = '\\n\\n')"
   ]
  },
  {
   "cell_type": "code",
   "execution_count": 96,
   "metadata": {},
   "outputs": [
    {
     "data": {
      "text/plain": [
       "array([[<matplotlib.axes._subplots.AxesSubplot object at 0x00000246287FC828>,\n",
       "        <matplotlib.axes._subplots.AxesSubplot object at 0x00000246287472E8>],\n",
       "       [<matplotlib.axes._subplots.AxesSubplot object at 0x0000024629C5E5F8>,\n",
       "        <matplotlib.axes._subplots.AxesSubplot object at 0x000002462D957470>]],\n",
       "      dtype=object)"
      ]
     },
     "execution_count": 96,
     "metadata": {},
     "output_type": "execute_result"
    },
    {
     "data": {
      "text/plain": [
       "<Figure size 3600x1440 with 0 Axes>"
      ]
     },
     "metadata": {},
     "output_type": "display_data"
    },
    {
     "data": {
      "image/png": "[encoded data removed]",
      "text/plain": [
       "<Figure size 432x288 with 4 Axes>"
      ]
     },
     "metadata": {},
     "output_type": "display_data"
    },
    {
     "data": {
      "image/png": "[encoded data removed]",
      "text/plain": [
       "<Figure size 432x288 with 4 Axes>"
      ]
     },
     "metadata": {},
     "output_type": "display_data"
    }
   ],
   "source": [
    "# We can set the number of bins with the `bins` kwarg\n",
    "figure(figsize=(50,20))\n",
    "fig.savefig('foo.png')        \n",
    "fig, ax = plt.subplots( nrows=2, ncols=2 )\n",
    "y.hist()"
   ]
  },
  {
   "cell_type": "code",
   "execution_count": 466,
   "metadata": {},
   "outputs": [
    {
     "name": "stdout",
     "output_type": "stream",
     "text": [
      "(253,)\n",
      "(253, 4)\n"
     ]
    }
   ],
   "source": [
    "print(X.shape)\n",
    "print(y.shape)"
   ]
  },
  {
   "cell_type": "code",
   "execution_count": 91,
   "metadata": {},
   "outputs": [],
   "source": [
    "from sklearn.naive_bayes import MultinomialNB\n",
    "clf_tfidf = MultinomialNB().fit(X_train_tfidf, y3)   # X_train_tfidf, twenty_train.target"
   ]
  },
  {
   "cell_type": "code",
   "execution_count": 98,
   "metadata": {},
   "outputs": [
    {
     "name": "stdout",
     "output_type": "stream",
     "text": [
      "======== 5일치 예측 ========\n",
      "tfidf로 변환한 예측률 : 0.0\n"
     ]
    }
   ],
   "source": [
    "# Test셋 벡터로 변환\n",
    "X_test_counts = count_vect.transform(X)\n",
    "X_train_tfidf = tfidf_transformer.transform(X_test_counts)\n",
    "predicted = clf_tfidf.predict(X_train_tfidf)\n",
    "\n",
    "print('======== 5일치 예측 ========')\n",
    "print('tfidf로 변환한 예측률 :',np.mean(predicted == y3))"
   ]
  },
  {
   "cell_type": "markdown",
   "metadata": {},
   "source": [
    "## 학습시킨 모델을 Test셋으로 비교"
   ]
  },
  {
   "cell_type": "code",
   "execution_count": 22,
   "metadata": {},
   "outputs": [
    {
     "name": "stdout",
     "output_type": "stream",
     "text": [
      "(51,)\n",
      "(51,)\n"
     ]
    }
   ],
   "source": [
    "# 예측한 값이 predicted에 들어감\n",
    "print(predicted.shape)  # X_train->벡터->tfidf를 학습시켜 분류한 결과\n",
    "\n",
    "# 비교에 쓸 y_test 형태 파악\n",
    "print(y_test3.shape)"
   ]
  },
  {
   "cell_type": "code",
   "execution_count": 23,
   "metadata": {},
   "outputs": [
    {
     "name": "stdout",
     "output_type": "stream",
     "text": [
      "======== 1일치 예측 ========\n",
      "tfidf로 변환한 예측률 : 0.3137254901960784\n",
      "======== 3일치 예측 ========\n",
      "tfidf로 변환한 예측률 : 0.29411764705882354\n",
      "======== 5일치 예측 ========\n",
      "tfidf로 변환한 예측률 : 0.13725490196078433\n",
      "======== 10일치 예측 ========\n",
      "tfidf로 변환한 예측률 : 0.13725490196078433\n"
     ]
    }
   ],
   "source": [
    "print('======== 1일치 예측 ========')\n",
    "print('tfidf로 변환한 예측률 :',np.mean(predicted == y_test1))\n",
    "\n",
    "print('======== 3일치 예측 ========')\n",
    "print('tfidf로 변환한 예측률 :',np.mean(predicted == y_test2))\n",
    "\n",
    "\n",
    "\n",
    "print('======== 10일치 예측 ========')\n",
    "print('tfidf로 변환한 예측률 :',np.mean(predicted == y_test4))"
   ]
  },
  {
   "cell_type": "code",
   "execution_count": null,
   "metadata": {},
   "outputs": [],
   "source": []
  },
  {
   "cell_type": "markdown",
   "metadata": {},
   "source": [
    "# Building a pipeline\n",
    "- 분석기 이름 : nb_clf"
   ]
  },
  {
   "cell_type": "code",
   "execution_count": 108,
   "metadata": {},
   "outputs": [],
   "source": [
    "from sklearn.pipeline import Pipeline\n",
    "nb_clf = Pipeline([\n",
    "    ('vect', CountVectorizer()),\n",
    "    ('tfidf', TfidfTransformer()),\n",
    "    ('clf', MultinomialNB()),\n",
    "])"
   ]
  },
  {
   "cell_type": "markdown",
   "metadata": {},
   "source": [
    "#  Evaluation of the performance on the 'Test' set\n",
    "- 파이프라인에는 tfidf사용"
   ]
  },
  {
   "cell_type": "code",
   "execution_count": 118,
   "metadata": {},
   "outputs": [
    {
     "name": "stdout",
     "output_type": "stream",
     "text": [
      "======== TestSet 1일치 예측 ========\n"
     ]
    },
    {
     "data": {
      "text/plain": [
       "0.4031620553359684"
      ]
     },
     "execution_count": 118,
     "metadata": {},
     "output_type": "execute_result"
    }
   ],
   "source": [
    "# X트레인과 1일치y트레인 학습시켜 모델 구축\n",
    "nb_clf.fit(X, y1) \n",
    "\n",
    "# 만든 모델로 X테스트 학습 => y테스트 예측률 평가\n",
    "nb_predicted1 = nb_clf.predict(X)\n",
    "\n",
    "print('======== TestSet 1일치 예측 ========')\n",
    "np.mean(nb_predicted1 == y1) "
   ]
  },
  {
   "cell_type": "code",
   "execution_count": 120,
   "metadata": {},
   "outputs": [
    {
     "name": "stdout",
     "output_type": "stream",
     "text": [
      "======== TestSet 3일치 예측 ========\n"
     ]
    },
    {
     "data": {
      "text/plain": [
       "0.233201581027668"
      ]
     },
     "execution_count": 120,
     "metadata": {},
     "output_type": "execute_result"
    }
   ],
   "source": [
    "# X트레인과 1일치y트레인 학습시켜 모델 구축\n",
    "nb_clf.fit(X, y2) \n",
    "\n",
    "# 만든 모델로 X테스트 학습 => y테스트 예측률 평가\n",
    "nb_predicted2 = nb_clf.predict(X)\n",
    "\n",
    "print('======== TestSet 3일치 예측 ========')\n",
    "np.mean(nb_predicted1 == y2) "
   ]
  },
  {
   "cell_type": "code",
   "execution_count": 122,
   "metadata": {},
   "outputs": [
    {
     "name": "stdout",
     "output_type": "stream",
     "text": [
      "======== TestSet 5일치 예측 ========\n"
     ]
    },
    {
     "data": {
      "text/plain": [
       "0.15019762845849802"
      ]
     },
     "execution_count": 122,
     "metadata": {},
     "output_type": "execute_result"
    }
   ],
   "source": [
    "# X트레인과 1일치y트레인 학습시켜 모델 구축\n",
    "nb_clf.fit(X, y3) \n",
    "\n",
    "# 만든 모델로 X테스트 학습 => y테스트 예측률 평가\n",
    "nb_predicted3 = nb_clf.predict(X)\n",
    "\n",
    "print('======== TestSet 5일치 예측 ========')\n",
    "np.mean(nb_predicted1 == y3) "
   ]
  },
  {
   "cell_type": "code",
   "execution_count": 124,
   "metadata": {},
   "outputs": [
    {
     "name": "stdout",
     "output_type": "stream",
     "text": [
      "======== TestSet 10일치 예측 ========\n"
     ]
    },
    {
     "data": {
      "text/plain": [
       "0.13043478260869565"
      ]
     },
     "execution_count": 124,
     "metadata": {},
     "output_type": "execute_result"
    }
   ],
   "source": [
    "# X트레인과 1일치y트레인 학습시켜 모델 구축\n",
    "nb_clf.fit(X, y4) \n",
    "\n",
    "# 만든 모델로 X테스트 학습 => y테스트 예측률 평가\n",
    "nb_predicted4 = nb_clf.predict(X)\n",
    "\n",
    "print('======== TestSet 10일치 예측 ========')\n",
    "np.mean(nb_predicted1 == y4) "
   ]
  },
  {
   "cell_type": "markdown",
   "metadata": {},
   "source": [
    "## SVM - SGDClassifier"
   ]
  },
  {
   "cell_type": "code",
   "execution_count": 114,
   "metadata": {},
   "outputs": [
    {
     "data": {
      "text/plain": [
       "0.21568627450980393"
      ]
     },
     "execution_count": 114,
     "metadata": {},
     "output_type": "execute_result"
    }
   ],
   "source": [
    "from sklearn.linear_model import SGDClassifier\n",
    "from sklearn.pipeline import Pipeline\n",
    "svm_clf = Pipeline([\n",
    "    ('vect', CountVectorizer()),\n",
    "    ('tfidf', TfidfTransformer()),\n",
    "    ('clf', SGDClassifier(loss='hinge', penalty='l2',\n",
    "                          alpha=1e-3, random_state=42,\n",
    "                          max_iter=5, tol=None)),\n",
    "])\n",
    "\n",
    "svm_clf.fit(X_train, y_train4)  \n",
    "\n",
    "predicted = svm_clf.predict(X_test)\n",
    "np.mean(predicted == y_test4)"
   ]
  },
  {
   "cell_type": "code",
   "execution_count": null,
   "metadata": {},
   "outputs": [],
   "source": [
    "from sklearn import metrics\n",
    "print(metrics.classification_report(y_test3, predicted,\n",
    "    target_names=['-4','-3','-2','-1','1','2','3','4']))"
   ]
  },
  {
   "cell_type": "code",
   "execution_count": null,
   "metadata": {},
   "outputs": [],
   "source": [
    "from sklearn.metrics import confusion_matrix\n",
    "confusion_matrix(y_test3, predicted)"
   ]
  },
  {
   "cell_type": "raw",
   "metadata": {},
   "source": [
    "precision = 예측한것 중에 맞힌 비율  => 예측을 안하면 올라가고 recall이 떨어짐 (주식은 이게 중요 / 오답이 치명적이라) => 일부러 피팅시키기도 함\n",
    "recall = 전체 맞는 것 중 맞힌 비율  => reacall이 높으면 (검색은 이거)"
   ]
  },
  {
   "cell_type": "markdown",
   "metadata": {},
   "source": [
    "# SVC\n",
    "- https://scikit-learn.org/stable/modules/generated/sklearn.svm.SVC.html\n",
    "- https://tensorflow.blog/%ED%8C%8C%EC%9D%B4%EC%8D%AC-%EB%A8%B8%EC%8B%A0%EB%9F%AC%EB%8B%9D/2-3-7-%EC%BB%A4%EB%84%90-%EC%84%9C%ED%8F%AC%ED%8A%B8-%EB%B2%A1%ED%84%B0-%EB%A8%B8%EC%8B%A0/"
   ]
  },
  {
   "cell_type": "code",
   "execution_count": 251,
   "metadata": {},
   "outputs": [
    {
     "name": "stdout",
     "output_type": "stream",
     "text": [
      "훈련 셋 검증결과 : 0.975.\n",
      "테스트 셋 검증결과 : 0.235.\n",
      "[-4  1 -1 -4 -1 -2 -3  4  2 -1  1 -1 -3  1  1 -2  2 -1 -2  1 -1 -4 -4 -1\n",
      " -3 -1  4  2 -3  2  3  3 -2  3 -2 -3  4 -2  4 -1 -4  1  1  4 -2 -1 -4 -1\n",
      "  2  1  4  1 -3 -3  2 -1 -2  3 -1 -4 -2  1 -2 -2 -4 -1 -3 -1 -2 -2  4 -2\n",
      " -1  3 -4 -2 -1 -1 -4 -3 -2  2 -4 -1 -1 -2 -4 -4 -2 -3  3 -2  2  4  4 -4\n",
      "  1 -1 -1  1  1  2  1 -3 -2  4  4 -2  2  1  3 -2 -1 -4  1 -3 -2  1 -2 -4\n",
      "  1 -1  2 -2  1  2 -3  4  1  1  2  1 -2 -4 -3  1  4 -1  2 -2 -2  1 -1  3\n",
      " -4 -4  1 -3 -1 -2  1 -2 -1 -3 -2 -2  3 -4 -1 -4 -2 -1 -4 -3 -4  2  3 -1\n",
      " -4  4  2  2  1 -1 -1  3 -2  1 -3 -1  1 -4  4 -3 -1 -3  3 -3 -3 -1 -3 -2\n",
      " -3 -1  4 -4 -2 -2 -2  4 -1 -3]\n"
     ]
    }
   ],
   "source": [
    "from sklearn.svm import SVC\n",
    "from sklearn.pipeline import Pipeline\n",
    "clf_svc = Pipeline([\n",
    "    ('vect', CountVectorizer()),\n",
    "    ('tfidf', TfidfTransformer()),\n",
    "    ('clf', SVC(gamma=0.1, class_weight = \"balanced\", kernel='rbf', C=10)),\n",
    "])\n",
    "\n",
    "clf_svc.fit(X_train, y_train4)\n",
    "print('훈련 셋 검증결과 : {:.3f}.'.format(clf_svc.score(X_train, y_train4)))\n",
    "print('테스트 셋 검증결과 : {:.3f}.'.format(clf_svc.score(X_test, y_test4)))\n",
    "print(clf_svc.predict(X_train))"
   ]
  },
  {
   "cell_type": "code",
   "execution_count": 252,
   "metadata": {},
   "outputs": [
    {
     "name": "stdout",
     "output_type": "stream",
     "text": [
      "훈련 셋 검증결과 : 0.213.\n",
      "테스트 셋 검증결과 : 0.176.\n",
      "[-2 -2 -2 -2 -2 -2 -2 -2 -2 -2 -2 -2 -2 -2 -2 -2 -2 -2 -2 -2 -2 -2 -2 -2\n",
      " -2 -2 -2 -2 -2 -2 -2 -2 -2 -2 -2 -2 -2 -2 -2 -2 -2 -2 -2 -2 -2 -2 -2 -2\n",
      " -2 -2 -2 -2 -2 -2 -2 -2 -2 -2 -2 -2 -2 -2 -2 -2 -2 -2 -2 -2 -2 -2 -2 -2\n",
      " -2 -2 -2 -2 -2 -2 -2 -2 -2 -2 -2 -2 -2 -2 -2 -2 -2 -2 -2 -2 -2 -2 -2 -2\n",
      " -2 -2 -2 -2 -2 -2 -2 -2 -2 -2 -2 -2 -2 -2 -2 -2 -2 -2 -2 -2 -2 -2 -2 -2\n",
      " -2 -2 -2 -2 -2 -2 -2 -2 -2 -2 -2 -2 -2 -2 -2 -2 -2 -2 -2 -2 -2 -2 -2 -2\n",
      " -2 -2 -2 -2 -2 -2 -2 -2 -2 -2 -2 -2 -2 -2 -2 -2 -2 -2 -2 -2 -2 -2 -2 -2\n",
      " -2 -2 -2 -2 -2 -2 -2 -2 -2 -2 -2 -2 -2 -2 -2 -2 -2 -2 -2 -2 -2 -2 -2 -2\n",
      " -2 -2 -2 -2 -2 -2 -2 -2 -2 -2]\n"
     ]
    }
   ],
   "source": [
    "clf_svc = Pipeline([\n",
    "    ('vect', CountVectorizer()),\n",
    "    ('tfidf', TfidfTransformer()),\n",
    "    ('clf', SVC(gamma=0.1, class_weight = \"balanced\", kernel='rbf', C=1)),\n",
    "])\n",
    "\n",
    "clf_svc.fit(X_train, y_train4) \n",
    "print('훈련 셋 검증결과 : {:.3f}.'.format(clf_svc.score(X_train, y_train4)))\n",
    "print('테스트 셋 검증결과 : {:.3f}.'.format(clf_svc.score(X_test, y_test4)))\n",
    "print(clf_svc.predict(X_train))"
   ]
  },
  {
   "cell_type": "code",
   "execution_count": 195,
   "metadata": {},
   "outputs": [
    {
     "data": {
      "text/plain": [
       "<matplotlib.axes._subplots.AxesSubplot at 0x24637272d68>"
      ]
     },
     "execution_count": 195,
     "metadata": {},
     "output_type": "execute_result"
    },
    {
     "data": {
      "image/png": "[encoded data removed]",
      "text/plain": [
       "<Figure size 432x288 with 1 Axes>"
      ]
     },
     "metadata": {},
     "output_type": "display_data"
    }
   ],
   "source": [
    "y4.hist()"
   ]
  },
  {
   "cell_type": "markdown",
   "metadata": {},
   "source": [
    "# Feature Selection\n",
    "- 멘토님 시킨거\n",
    "- LDA"
   ]
  },
  {
   "cell_type": "markdown",
   "metadata": {},
   "source": [
    "## 1. Removing low variance feature"
   ]
  },
  {
   "cell_type": "code",
   "execution_count": 386,
   "metadata": {},
   "outputs": [
    {
     "data": {
      "text/plain": [
       "<253x83 sparse matrix of type '<class 'numpy.float64'>'\n",
       "\twith 9477 stored elements in Compressed Sparse Row format>"
      ]
     },
     "execution_count": 386,
     "metadata": {},
     "output_type": "execute_result"
    }
   ],
   "source": [
    "from sklearn.feature_selection import VarianceThreshold\n",
    "sel = VarianceThreshold(threshold=(0.001))\n",
    "X_varianceTh = sel.fit_transform(X_train_tfidf)\n",
    "X_varianceTh"
   ]
  },
  {
   "cell_type": "code",
   "execution_count": 387,
   "metadata": {},
   "outputs": [],
   "source": [
    "# 분산도를 기준으로 잘라낸 피처\n",
    "X_train, X_test2, y_train2, y_test2 = train_test_split(X_varianceTh, y, test_size = 0.2)"
   ]
  },
  {
   "cell_type": "code",
   "execution_count": 409,
   "metadata": {},
   "outputs": [
    {
     "name": "stdout",
     "output_type": "stream",
     "text": [
      "훈련 셋 검증결과 : 0.391.\n",
      "테스트 셋 검증결과 : 0.176.\n",
      "[-4 -3 -3  3  1  1 -3 -3 -3 -1 -3 -1 -3 -1 -3 -3 -3 -1  3 -3 -4 -4 -4 -3\n",
      "  3 -1 -4 -1 -3 -3  3  3 -2 -3 -4 -3 -3 -2 -3 -1 -4  1 -3  4 -3 -4 -4 -1\n",
      "  2 -2 -3 -3 -3 -3 -4 -1 -3  3  3 -3 -4  1 -3 -4 -4 -3 -3 -4 -2 -2 -3 -2\n",
      " -3  3 -4 -2 -1 -3 -1 -3 -3  2 -4 -3 -3  1 -4 -4 -3  2 -3 -3  2 -2 -3 -3\n",
      "  1 -3 -1  1 -3 -3 -4 -3 -3 -3 -3 -3  2 -3  3 -3 -4 -4  3 -4 -3 -4 -2 -3\n",
      " -3 -3 -1 -3 -4 -3 -3  4 -3 -3 -3  1 -3 -4 -3 -3  3  3  4 -3 -3  3 -3 -1\n",
      " -3 -4  1  1 -3 -2 -3 -3 -3 -3 -4  1 -4  2 -3 -4 -3 -1  1 -3  3  3  3 -3\n",
      " -4 -3 -3  2 -3 -4 -1 -3 -2 -3 -3 -4 -3 -4 -3  3 -3 -3  3 -3 -3 -3 -3 -3\n",
      " -3 -2  1  3 -1 -2 -3 -3 -1 -3]\n"
     ]
    }
   ],
   "source": [
    "from sklearn.svm import SVC\n",
    "from sklearn.pipeline import Pipeline\n",
    "svc = SVC(gamma=0.1, class_weight = \"balanced\", kernel='rbf', C=10)\n",
    "\n",
    "clf_svc = svc.fit(X_train2, y_train4) \n",
    "print('훈련 셋 검증결과 : {:.3f}.'.format(clf_svc.score(X_train2, y_train4)))\n",
    "print('테스트 셋 검증결과 : {:.3f}.'.format(clf_svc.score(X_test2, y_test4)))\n",
    "print(clf_svc.predict(X_train2))"
   ]
  },
  {
   "cell_type": "markdown",
   "metadata": {},
   "source": [
    "## 2. chi2"
   ]
  },
  {
   "cell_type": "markdown",
   "metadata": {},
   "source": [
    "### 10일치 주가예측\n",
    "- 1try : k=20000 / c=100 / gamma=0.01 => 0.385\n",
    "- 2try : k=5000 / c=100 / gamma=0.01 => 0.314\n",
    "- 3try : k=5000 / c=150 / gamma=0.01 => 0.333\n",
    "- 4try : k=5000 / c=500 / gamma=0.01 => 0.333"
   ]
  },
  {
   "cell_type": "code",
   "execution_count": 686,
   "metadata": {},
   "outputs": [
    {
     "data": {
      "text/plain": [
       "(253, 10000)"
      ]
     },
     "execution_count": 686,
     "metadata": {},
     "output_type": "execute_result"
    }
   ],
   "source": [
    "from sklearn.feature_selection import SelectKBest\n",
    "from sklearn.feature_selection import chi2\n",
    "\n",
    "X_new = SelectKBest(chi2, k=10000).fit_transform(X_train_tfidf, y3)\n",
    "X_new.shape"
   ]
  },
  {
   "cell_type": "code",
   "execution_count": 687,
   "metadata": {},
   "outputs": [],
   "source": [
    "# chi제곱 기준으로 잘라낸 피처\n",
    "X_train3, X_test3, y_train3, y_test3 = train_test_split(X_new, y4, test_size = 0.1)"
   ]
  },
  {
   "cell_type": "code",
   "execution_count": 688,
   "metadata": {},
   "outputs": [
    {
     "name": "stdout",
     "output_type": "stream",
     "text": [
      "훈련 셋 검증결과 : 0.960.\n",
      "테스트 셋 검증결과 : 0.423.\n",
      "[ 1  2  2 -4 -4 -4 -1  1 -2 -1 -1  1 -2  3 -4  3 -4 -2  4 -3 -2  1  1 -3\n",
      " -1 -2 -1 -3  2 -2 -4 -2 -3 -1 -3  3 -2  4  4 -3  2  3 -2  4  4  2 -3 -4\n",
      "  2 -3 -4 -2  1 -1 -4  2  2 -3  3  3 -1 -1 -1  4 -1 -4 -2  1  4  1  2  1\n",
      " -2  4 -2 -3 -3  4  4  3 -2 -2 -2 -3  3  2  2 -2 -3 -2 -1 -1  1 -2 -3 -4\n",
      "  1 -2  1 -2  1 -2 -4  2 -3 -2 -3  3 -4 -4  2 -1 -2 -4 -3 -1 -1 -4  1  3\n",
      " -1  3 -3  4 -4  2  2  1 -3 -4 -1 -1 -4  3 -1  1  2 -1  3 -2 -1 -4 -3 -4\n",
      "  1  2  3 -1 -1  3 -3 -1 -2 -2 -4 -3  1 -3 -1 -3 -1 -3  4  1  1 -2 -2 -3\n",
      " -2  1  1  2 -2 -1  2 -3 -2 -1  1  3 -1  1 -4  4 -4 -4 -4 -3 -3 -2 -1 -2\n",
      " -2  1  2 -1 -2 -2 -3  2  4  3 -2 -2 -1 -4  1  4 -2  2 -2 -2 -2 -1 -3  4\n",
      "  2  4  4 -4  1  1 -3 -1 -4  1 -4]\n"
     ]
    }
   ],
   "source": [
    "from sklearn.svm import SVC\n",
    "from sklearn.pipeline import Pipeline\n",
    "svc = SVC(gamma = 0.01, class_weight = \"balanced\", kernel='rbf', C = 100)\n",
    "\n",
    "clf_svc = svc.fit(X_train3, y_train3)\n",
    "print('훈련 셋 검증결과 : {:.3f}.'.format(clf_svc.score(X_train3, y_train3)))\n",
    "print('테스트 셋 검증결과 : {:.3f}.'.format(clf_svc.score(X_test3, y_test3)))\n",
    "print(clf_svc.predict(X_train3))"
   ]
  },
  {
   "cell_type": "code",
   "execution_count": 662,
   "metadata": {},
   "outputs": [
    {
     "data": {
      "text/plain": [
       "(3, 20000)"
      ]
     },
     "execution_count": 662,
     "metadata": {},
     "output_type": "execute_result"
    }
   ],
   "source": [
    "X_test3.shape"
   ]
  },
  {
   "cell_type": "code",
   "execution_count": null,
   "metadata": {},
   "outputs": [],
   "source": []
  },
  {
   "cell_type": "code",
   "execution_count": 371,
   "metadata": {},
   "outputs": [],
   "source": []
  },
  {
   "cell_type": "code",
   "execution_count": 308,
   "metadata": {},
   "outputs": [
    {
     "data": {
      "text/plain": [
       "(253, 3000)"
      ]
     },
     "execution_count": 308,
     "metadata": {},
     "output_type": "execute_result"
    }
   ],
   "source": []
  },
  {
   "cell_type": "code",
   "execution_count": null,
   "metadata": {},
   "outputs": [],
   "source": []
  },
  {
   "cell_type": "code",
   "execution_count": null,
   "metadata": {},
   "outputs": [],
   "source": []
  },
  {
   "cell_type": "code",
   "execution_count": null,
   "metadata": {},
   "outputs": [],
   "source": []
  },
  {
   "cell_type": "code",
   "execution_count": null,
   "metadata": {},
   "outputs": [],
   "source": []
  },
  {
   "cell_type": "code",
   "execution_count": null,
   "metadata": {},
   "outputs": [],
   "source": []
  },
  {
   "cell_type": "code",
   "execution_count": null,
   "metadata": {},
   "outputs": [],
   "source": []
  },
  {
   "cell_type": "code",
   "execution_count": null,
   "metadata": {},
   "outputs": [],
   "source": []
  },
  {
   "cell_type": "markdown",
   "metadata": {},
   "source": [
    "# Parameter tuning using grid search"
   ]
  },
  {
   "cell_type": "code",
   "execution_count": null,
   "metadata": {},
   "outputs": [],
   "source": [
    "from sklearn.model_selection import GridSearchCV\n",
    "parameters = {\n",
    "    'vect__ngram_range': [(1, 1), (1, 2)],\n",
    "    'tfidf__use_idf': (True, False),\n",
    "    'clf__alpha': (1e-2, 1e-3),   # 0.01 or 0.001\n",
    "}"
   ]
  },
  {
   "cell_type": "code",
   "execution_count": null,
   "metadata": {},
   "outputs": [],
   "source": [
    "gs_clf = GridSearchCV(text_clf, parameters, cv=5, iid=False, n_jobs=-1)"
   ]
  },
  {
   "cell_type": "code",
   "execution_count": null,
   "metadata": {},
   "outputs": [],
   "source": [
    "gs_clf = gs_clf.fit(X_train, y_train1)"
   ]
  },
  {
   "cell_type": "code",
   "execution_count": null,
   "metadata": {},
   "outputs": [],
   "source": [
    "text_clf.predict(X_test)"
   ]
  },
  {
   "cell_type": "code",
   "execution_count": null,
   "metadata": {},
   "outputs": [],
   "source": [
    "Grid_predicted = gs_clf.predict(X_test)"
   ]
  },
  {
   "cell_type": "code",
   "execution_count": null,
   "metadata": {},
   "outputs": [],
   "source": [
    "# 하이퍼 파라미터 돌린 모델 예측률 추정\n",
    "np.mean(Grid_predicted == y_test1) "
   ]
  },
  {
   "cell_type": "code",
   "execution_count": null,
   "metadata": {},
   "outputs": [],
   "source": [
    "gs_clf.best_score_                                  \n",
    "\n",
    "for param_name in sorted(parameters.keys()):\n",
    "    print(\"%s: %r\" % (param_name, gs_clf.best_params_[param_name]))"
   ]
  },
  {
   "cell_type": "code",
   "execution_count": null,
   "metadata": {},
   "outputs": [],
   "source": [
    "%matplotlib inline\n",
    "\n",
    "rcParams['axes.unicode_minus'] = False  # - 기호 깨짐 방지\n",
    "font_fname = 'C:\\Windows\\Fonts\\D2Coding.ttf'\n",
    "font_family = font_manager.FontProperties(fname=font_fname).get_name()\n",
    "print(font_family)\n",
    "rc('font', family=font_family)\n",
    "\n",
    "from matplotlib import font_manager\n",
    "font_manager._rebuild()"
   ]
  },
  {
   "cell_type": "code",
   "execution_count": null,
   "metadata": {},
   "outputs": [],
   "source": []
  },
  {
   "cell_type": "code",
   "execution_count": null,
   "metadata": {},
   "outputs": [],
   "source": []
  },
  {
   "cell_type": "code",
   "execution_count": null,
   "metadata": {},
   "outputs": [],
   "source": []
  },
  {
   "cell_type": "code",
   "execution_count": null,
   "metadata": {},
   "outputs": [],
   "source": []
  },
  {
   "cell_type": "code",
   "execution_count": null,
   "metadata": {},
   "outputs": [],
   "source": []
  },
  {
   "cell_type": "code",
   "execution_count": null,
   "metadata": {},
   "outputs": [],
   "source": [
    "unique, counts = np.unique(predicted1, return_counts = True)\n",
    "\n",
    "print(unique, counts)"
   ]
  },
  {
   "cell_type": "code",
   "execution_count": null,
   "metadata": {},
   "outputs": [],
   "source": [
    "fitting model on training data and transforming to test data????\n",
    "\n",
    "In layman's terms, fit_transform means to do some calculation and then do transformation \n",
    "(say calculating the means of columns from some data and then replacing the missing values). \n",
    "\n",
    "So for training set, you need to both calculate and do transformation.\n",
    "\n",
    "But for testing set, Machine learning applies prediction based on what was learned \n",
    "during the training set and so it doesn't need to calculate, it just performs the transformation."
   ]
  },
  {
   "cell_type": "code",
   "execution_count": null,
   "metadata": {},
   "outputs": [],
   "source": [
    "Code\n",
    "import numpy as np\n",
    "X_train, X_test, y_train, y_test = X[:60000], X[60000:], y[:60000], y[60000:]\n",
    "shuffle_index = np.random.permutation(60000)\n",
    "X_train, y_train = X_train[shuffle_index], y_train[shuffle_index]\n",
    "# 훈련 세트를 섞어 모든 교차 검증 폴드가 비슷해지도록 만들었습니다. 특정 학습 알고리즘은 훈련 샘플의 순서에 민감하게 반응해서 많은 비슷한 샘플이 연이어 나타나면 성능이 나빠집니다. 데이터셋을 섞으면 이러한 문제를 방지할 수 있습니다."
   ]
  },
  {
   "cell_type": "code",
   "execution_count": null,
   "metadata": {},
   "outputs": [],
   "source": [
    "# shift()함수는 밑으로 내리는 것\n",
    "# 그 전날꺼를 오른쪽에 붙이는 거 \n",
    "# day1C는 1일 전꺼의 가격을 의미\n",
    "df['day1C'] = df['Close'].shift(1)"
   ]
  }
 ],
 "metadata": {
  "kernelspec": {
   "display_name": "Python 3",
   "language": "python",
   "name": "python3"
  },
  "language_info": {
   "codemirror_mode": {
    "name": "ipython",
    "version": 3
   },
   "file_extension": ".py",
   "mimetype": "text/x-python",
   "name": "python",
   "nbconvert_exporter": "python",
   "pygments_lexer": "ipython3",
   "version": "3.6.5"
  }
 },
 "nbformat": 4,
 "nbformat_minor": 2
}
