{
 "cells": [
  {
   "cell_type": "code",
   "execution_count": 156,
   "metadata": {},
   "outputs": [],
   "source": [
    "import pandas as pd\n",
    "import numpy as np\n",
    "import datetime\n",
    "\n",
    "from matplotlib import font_manager, rc, rcParams\n",
    "import matplotlib.pyplot as plt"
   ]
  },
  {
   "cell_type": "code",
   "execution_count": 9,
   "metadata": {},
   "outputs": [],
   "source": [
    "import warnings\n",
    "warnings.filterwarnings('ignore')"
   ]
  },
  {
   "cell_type": "markdown",
   "metadata": {},
   "source": [
    "# 맵핑한 데이터 임포팅"
   ]
  },
  {
   "cell_type": "code",
   "execution_count": 32,
   "metadata": {},
   "outputs": [
    {
     "data": {
      "text/html": [
       "<div>\n",
       "<style scoped>\n",
       "    .dataframe tbody tr th:only-of-type {\n",
       "        vertical-align: middle;\n",
       "    }\n",
       "\n",
       "    .dataframe tbody tr th {\n",
       "        vertical-align: top;\n",
       "    }\n",
       "\n",
       "    .dataframe thead th {\n",
       "        text-align: right;\n",
       "    }\n",
       "</style>\n",
       "<table border=\"1\" class=\"dataframe\">\n",
       "  <thead>\n",
       "    <tr style=\"text-align: right;\">\n",
       "      <th></th>\n",
       "      <th>Unnamed: 0</th>\n",
       "      <th>Date</th>\n",
       "      <th>NOUNS</th>\n",
       "      <th>Open</th>\n",
       "      <th>High</th>\n",
       "      <th>Low</th>\n",
       "      <th>Close</th>\n",
       "      <th>Adj Close</th>\n",
       "      <th>Volume</th>\n",
       "      <th>day1C</th>\n",
       "      <th>...</th>\n",
       "      <th>Diff5</th>\n",
       "      <th>Diff10</th>\n",
       "      <th>Diff1_per</th>\n",
       "      <th>Diff3_per</th>\n",
       "      <th>Diff5_per</th>\n",
       "      <th>Diff10_per</th>\n",
       "      <th>Diff1_clf</th>\n",
       "      <th>Diff3_clf</th>\n",
       "      <th>Diff5_clf</th>\n",
       "      <th>Diff10_clf</th>\n",
       "    </tr>\n",
       "  </thead>\n",
       "  <tbody>\n",
       "    <tr>\n",
       "      <th>0</th>\n",
       "      <td>99</td>\n",
       "      <td>2017-12-15</td>\n",
       "      <td>['부고', '송창', '씨', '법무', '법인', '세한', '변호사', '부친...</td>\n",
       "      <td>51240.0</td>\n",
       "      <td>51480.0</td>\n",
       "      <td>50520.0</td>\n",
       "      <td>50620.0</td>\n",
       "      <td>17585.119141</td>\n",
       "      <td>14928550.0</td>\n",
       "      <td>51060.0</td>\n",
       "      <td>...</td>\n",
       "      <td>-1380.0</td>\n",
       "      <td>-220.0</td>\n",
       "      <td>-0.87</td>\n",
       "      <td>-2.92</td>\n",
       "      <td>-2.73</td>\n",
       "      <td>-0.43</td>\n",
       "      <td>-1등급</td>\n",
       "      <td>-2등급</td>\n",
       "      <td>-2등급</td>\n",
       "      <td>-1등급</td>\n",
       "    </tr>\n",
       "    <tr>\n",
       "      <th>1</th>\n",
       "      <td>102</td>\n",
       "      <td>2017-12-18</td>\n",
       "      <td>['주가', '반토막', '삼성', '중공업', '뒷북', '증권사', '뉴스', ...</td>\n",
       "      <td>50620.0</td>\n",
       "      <td>51240.0</td>\n",
       "      <td>50620.0</td>\n",
       "      <td>51200.0</td>\n",
       "      <td>17786.607422</td>\n",
       "      <td>7350250.0</td>\n",
       "      <td>50620.0</td>\n",
       "      <td>...</td>\n",
       "      <td>-580.0</td>\n",
       "      <td>-140.0</td>\n",
       "      <td>1.13</td>\n",
       "      <td>-0.23</td>\n",
       "      <td>-1.13</td>\n",
       "      <td>-0.27</td>\n",
       "      <td>+2등급</td>\n",
       "      <td>-1등급</td>\n",
       "      <td>-2등급</td>\n",
       "      <td>-1등급</td>\n",
       "    </tr>\n",
       "    <tr>\n",
       "      <th>2</th>\n",
       "      <td>103</td>\n",
       "      <td>2017-12-19</td>\n",
       "      <td>['배당', '계절', '개인', '접근', '로', '배당', '주', '투자',...</td>\n",
       "      <td>51540.0</td>\n",
       "      <td>52080.0</td>\n",
       "      <td>51520.0</td>\n",
       "      <td>51560.0</td>\n",
       "      <td>17911.669922</td>\n",
       "      <td>11978600.0</td>\n",
       "      <td>51200.0</td>\n",
       "      <td>...</td>\n",
       "      <td>-540.0</td>\n",
       "      <td>300.0</td>\n",
       "      <td>0.70</td>\n",
       "      <td>0.97</td>\n",
       "      <td>-1.05</td>\n",
       "      <td>0.58</td>\n",
       "      <td>+1등급</td>\n",
       "      <td>+1등급</td>\n",
       "      <td>-2등급</td>\n",
       "      <td>+1등급</td>\n",
       "    </tr>\n",
       "    <tr>\n",
       "      <th>3</th>\n",
       "      <td>105</td>\n",
       "      <td>2017-12-21</td>\n",
       "      <td>['공정위', '삼성', '물산', '합병', '가이드라인', '개정', '논란',...</td>\n",
       "      <td>51000.0</td>\n",
       "      <td>51060.0</td>\n",
       "      <td>49100.0</td>\n",
       "      <td>49140.0</td>\n",
       "      <td>17070.974609</td>\n",
       "      <td>15624300.0</td>\n",
       "      <td>51560.0</td>\n",
       "      <td>...</td>\n",
       "      <td>-2180.0</td>\n",
       "      <td>-880.0</td>\n",
       "      <td>-4.92</td>\n",
       "      <td>-3.01</td>\n",
       "      <td>-4.44</td>\n",
       "      <td>-1.79</td>\n",
       "      <td>-3등급</td>\n",
       "      <td>-3등급</td>\n",
       "      <td>-3등급</td>\n",
       "      <td>-2등급</td>\n",
       "    </tr>\n",
       "    <tr>\n",
       "      <th>4</th>\n",
       "      <td>106</td>\n",
       "      <td>2017-12-22</td>\n",
       "      <td>['스팟', '삼성', '전자', '오른', '출발', '삼성', '전자', '출발...</td>\n",
       "      <td>49400.0</td>\n",
       "      <td>49960.0</td>\n",
       "      <td>49240.0</td>\n",
       "      <td>49700.0</td>\n",
       "      <td>17265.515625</td>\n",
       "      <td>11199650.0</td>\n",
       "      <td>49140.0</td>\n",
       "      <td>...</td>\n",
       "      <td>-1360.0</td>\n",
       "      <td>-1040.0</td>\n",
       "      <td>1.13</td>\n",
       "      <td>-3.02</td>\n",
       "      <td>-2.74</td>\n",
       "      <td>-2.09</td>\n",
       "      <td>+2등급</td>\n",
       "      <td>-3등급</td>\n",
       "      <td>-2등급</td>\n",
       "      <td>-2등급</td>\n",
       "    </tr>\n",
       "  </tbody>\n",
       "</table>\n",
       "<p>5 rows × 37 columns</p>\n",
       "</div>"
      ],
      "text/plain": [
       "   Unnamed: 0        Date                                              NOUNS  \\\n",
       "0          99  2017-12-15  ['부고', '송창', '씨', '법무', '법인', '세한', '변호사', '부친...   \n",
       "1         102  2017-12-18  ['주가', '반토막', '삼성', '중공업', '뒷북', '증권사', '뉴스', ...   \n",
       "2         103  2017-12-19  ['배당', '계절', '개인', '접근', '로', '배당', '주', '투자',...   \n",
       "3         105  2017-12-21  ['공정위', '삼성', '물산', '합병', '가이드라인', '개정', '논란',...   \n",
       "4         106  2017-12-22  ['스팟', '삼성', '전자', '오른', '출발', '삼성', '전자', '출발...   \n",
       "\n",
       "      Open     High      Low    Close     Adj Close      Volume    day1C  \\\n",
       "0  51240.0  51480.0  50520.0  50620.0  17585.119141  14928550.0  51060.0   \n",
       "1  50620.0  51240.0  50620.0  51200.0  17786.607422   7350250.0  50620.0   \n",
       "2  51540.0  52080.0  51520.0  51560.0  17911.669922  11978600.0  51200.0   \n",
       "3  51000.0  51060.0  49100.0  49140.0  17070.974609  15624300.0  51560.0   \n",
       "4  49400.0  49960.0  49240.0  49700.0  17265.515625  11199650.0  49140.0   \n",
       "\n",
       "      ...       Diff5  Diff10  Diff1_per  Diff3_per  Diff5_per  Diff10_per  \\\n",
       "0     ...     -1380.0  -220.0      -0.87      -2.92      -2.73       -0.43   \n",
       "1     ...      -580.0  -140.0       1.13      -0.23      -1.13       -0.27   \n",
       "2     ...      -540.0   300.0       0.70       0.97      -1.05        0.58   \n",
       "3     ...     -2180.0  -880.0      -4.92      -3.01      -4.44       -1.79   \n",
       "4     ...     -1360.0 -1040.0       1.13      -3.02      -2.74       -2.09   \n",
       "\n",
       "   Diff1_clf  Diff3_clf  Diff5_clf  Diff10_clf  \n",
       "0       -1등급       -2등급       -2등급        -1등급  \n",
       "1       +2등급       -1등급       -2등급        -1등급  \n",
       "2       +1등급       +1등급       -2등급        +1등급  \n",
       "3       -3등급       -3등급       -3등급        -2등급  \n",
       "4       +2등급       -3등급       -2등급        -2등급  \n",
       "\n",
       "[5 rows x 37 columns]"
      ]
     },
     "execution_count": 32,
     "metadata": {},
     "output_type": "execute_result"
    }
   ],
   "source": [
    "df = pd.read_csv('news_stock_OK.csv', encoding = 'utf-8 sig')\n",
    "df.head()"
   ]
  },
  {
   "cell_type": "markdown",
   "metadata": {},
   "source": [
    "### 칼럼 너무 많아서 df_original에다가 보존시키고 내가 쓰는 것만 df로 작업"
   ]
  },
  {
   "cell_type": "code",
   "execution_count": 11,
   "metadata": {},
   "outputs": [
    {
     "data": {
      "text/plain": [
       "Index(['Unnamed: 0', 'Date', 'NOUNS', 'Open', 'High', 'Low', 'Close',\n",
       "       'Adj Close', 'Volume', 'day1C', 'day3C', 'day5C', 'day10C', 'day1V',\n",
       "       'day3V', 'day5V', 'day10V', 'ma1C', 'ma3C', 'ma5C', 'ma10C', 'ma1V',\n",
       "       'ma3V', 'ma5V', 'ma10V', 'Diff1', 'Diff3', 'Diff5', 'Diff10',\n",
       "       'Diff1_per', 'Diff3_per', 'Diff5_per', 'Diff10_per', 'Diff1_clf',\n",
       "       'Diff3_clf', 'Diff5_clf', 'Diff10_clf'],\n",
       "      dtype='object')"
      ]
     },
     "execution_count": 11,
     "metadata": {},
     "output_type": "execute_result"
    }
   ],
   "source": [
    "# 복제\n",
    "df_original = df.copy()\n",
    "df.columns"
   ]
  },
  {
   "cell_type": "code",
   "execution_count": 18,
   "metadata": {},
   "outputs": [],
   "source": [
    "# 칼럼 삭제\n",
    "df.drop(['Unnamed: 0', 'High', 'Low', 'Adj Close', 'Volume',\n",
    "       'day1C', 'day3C', 'day5C', 'day10C', 'day1V', 'day3V', 'day5V',\n",
    "       'day10V', 'ma1C', 'ma3C', 'ma5C', 'ma10C', 'ma1V', 'ma3V', 'ma5V',\n",
    "       'ma10V'], axis=1, inplace = True)"
   ]
  },
  {
   "cell_type": "code",
   "execution_count": 13,
   "metadata": {},
   "outputs": [
    {
     "data": {
      "text/plain": [
       "Index(['Date', 'NOUNS', 'Open', 'Close', 'Diff1', 'Diff3', 'Diff5', 'Diff10',\n",
       "       'Diff1_per', 'Diff3_per', 'Diff5_per', 'Diff10_per', 'Diff1_clf',\n",
       "       'Diff3_clf', 'Diff5_clf', 'Diff10_clf'],\n",
       "      dtype='object')"
      ]
     },
     "execution_count": 13,
     "metadata": {},
     "output_type": "execute_result"
    }
   ],
   "source": [
    "df.columns"
   ]
  },
  {
   "cell_type": "code",
   "execution_count": 14,
   "metadata": {},
   "outputs": [
    {
     "data": {
      "text/html": [
       "<div>\n",
       "<style scoped>\n",
       "    .dataframe tbody tr th:only-of-type {\n",
       "        vertical-align: middle;\n",
       "    }\n",
       "\n",
       "    .dataframe tbody tr th {\n",
       "        vertical-align: top;\n",
       "    }\n",
       "\n",
       "    .dataframe thead th {\n",
       "        text-align: right;\n",
       "    }\n",
       "</style>\n",
       "<table border=\"1\" class=\"dataframe\">\n",
       "  <thead>\n",
       "    <tr style=\"text-align: right;\">\n",
       "      <th></th>\n",
       "      <th>Date</th>\n",
       "      <th>NOUNS</th>\n",
       "      <th>Open</th>\n",
       "      <th>Close</th>\n",
       "      <th>Diff1</th>\n",
       "      <th>Diff3</th>\n",
       "      <th>Diff5</th>\n",
       "      <th>Diff10</th>\n",
       "      <th>Diff1_per</th>\n",
       "      <th>Diff3_per</th>\n",
       "      <th>Diff5_per</th>\n",
       "      <th>Diff10_per</th>\n",
       "      <th>Diff1_clf</th>\n",
       "      <th>Diff3_clf</th>\n",
       "      <th>Diff5_clf</th>\n",
       "      <th>Diff10_clf</th>\n",
       "    </tr>\n",
       "  </thead>\n",
       "  <tbody>\n",
       "    <tr>\n",
       "      <th>0</th>\n",
       "      <td>2017-12-15</td>\n",
       "      <td>['부고', '송창', '씨', '법무', '법인', '세한', '변호사', '부친...</td>\n",
       "      <td>51240.0</td>\n",
       "      <td>50620.0</td>\n",
       "      <td>-440.0</td>\n",
       "      <td>-1480.0</td>\n",
       "      <td>-1380.0</td>\n",
       "      <td>-220.0</td>\n",
       "      <td>-0.87</td>\n",
       "      <td>-2.92</td>\n",
       "      <td>-2.73</td>\n",
       "      <td>-0.43</td>\n",
       "      <td>-1등급</td>\n",
       "      <td>-2등급</td>\n",
       "      <td>-2등급</td>\n",
       "      <td>-1등급</td>\n",
       "    </tr>\n",
       "    <tr>\n",
       "      <th>1</th>\n",
       "      <td>2017-12-18</td>\n",
       "      <td>['주가', '반토막', '삼성', '중공업', '뒷북', '증권사', '뉴스', ...</td>\n",
       "      <td>50620.0</td>\n",
       "      <td>51200.0</td>\n",
       "      <td>580.0</td>\n",
       "      <td>-120.0</td>\n",
       "      <td>-580.0</td>\n",
       "      <td>-140.0</td>\n",
       "      <td>1.13</td>\n",
       "      <td>-0.23</td>\n",
       "      <td>-1.13</td>\n",
       "      <td>-0.27</td>\n",
       "      <td>+2등급</td>\n",
       "      <td>-1등급</td>\n",
       "      <td>-2등급</td>\n",
       "      <td>-1등급</td>\n",
       "    </tr>\n",
       "    <tr>\n",
       "      <th>2</th>\n",
       "      <td>2017-12-19</td>\n",
       "      <td>['배당', '계절', '개인', '접근', '로', '배당', '주', '투자',...</td>\n",
       "      <td>51540.0</td>\n",
       "      <td>51560.0</td>\n",
       "      <td>360.0</td>\n",
       "      <td>500.0</td>\n",
       "      <td>-540.0</td>\n",
       "      <td>300.0</td>\n",
       "      <td>0.70</td>\n",
       "      <td>0.97</td>\n",
       "      <td>-1.05</td>\n",
       "      <td>0.58</td>\n",
       "      <td>+1등급</td>\n",
       "      <td>+1등급</td>\n",
       "      <td>-2등급</td>\n",
       "      <td>+1등급</td>\n",
       "    </tr>\n",
       "    <tr>\n",
       "      <th>3</th>\n",
       "      <td>2017-12-21</td>\n",
       "      <td>['공정위', '삼성', '물산', '합병', '가이드라인', '개정', '논란',...</td>\n",
       "      <td>51000.0</td>\n",
       "      <td>49140.0</td>\n",
       "      <td>-2420.0</td>\n",
       "      <td>-1480.0</td>\n",
       "      <td>-2180.0</td>\n",
       "      <td>-880.0</td>\n",
       "      <td>-4.92</td>\n",
       "      <td>-3.01</td>\n",
       "      <td>-4.44</td>\n",
       "      <td>-1.79</td>\n",
       "      <td>-3등급</td>\n",
       "      <td>-3등급</td>\n",
       "      <td>-3등급</td>\n",
       "      <td>-2등급</td>\n",
       "    </tr>\n",
       "    <tr>\n",
       "      <th>4</th>\n",
       "      <td>2017-12-22</td>\n",
       "      <td>['스팟', '삼성', '전자', '오른', '출발', '삼성', '전자', '출발...</td>\n",
       "      <td>49400.0</td>\n",
       "      <td>49700.0</td>\n",
       "      <td>560.0</td>\n",
       "      <td>-1500.0</td>\n",
       "      <td>-1360.0</td>\n",
       "      <td>-1040.0</td>\n",
       "      <td>1.13</td>\n",
       "      <td>-3.02</td>\n",
       "      <td>-2.74</td>\n",
       "      <td>-2.09</td>\n",
       "      <td>+2등급</td>\n",
       "      <td>-3등급</td>\n",
       "      <td>-2등급</td>\n",
       "      <td>-2등급</td>\n",
       "    </tr>\n",
       "  </tbody>\n",
       "</table>\n",
       "</div>"
      ],
      "text/plain": [
       "         Date                                              NOUNS     Open  \\\n",
       "0  2017-12-15  ['부고', '송창', '씨', '법무', '법인', '세한', '변호사', '부친...  51240.0   \n",
       "1  2017-12-18  ['주가', '반토막', '삼성', '중공업', '뒷북', '증권사', '뉴스', ...  50620.0   \n",
       "2  2017-12-19  ['배당', '계절', '개인', '접근', '로', '배당', '주', '투자',...  51540.0   \n",
       "3  2017-12-21  ['공정위', '삼성', '물산', '합병', '가이드라인', '개정', '논란',...  51000.0   \n",
       "4  2017-12-22  ['스팟', '삼성', '전자', '오른', '출발', '삼성', '전자', '출발...  49400.0   \n",
       "\n",
       "     Close   Diff1   Diff3   Diff5  Diff10  Diff1_per  Diff3_per  Diff5_per  \\\n",
       "0  50620.0  -440.0 -1480.0 -1380.0  -220.0      -0.87      -2.92      -2.73   \n",
       "1  51200.0   580.0  -120.0  -580.0  -140.0       1.13      -0.23      -1.13   \n",
       "2  51560.0   360.0   500.0  -540.0   300.0       0.70       0.97      -1.05   \n",
       "3  49140.0 -2420.0 -1480.0 -2180.0  -880.0      -4.92      -3.01      -4.44   \n",
       "4  49700.0   560.0 -1500.0 -1360.0 -1040.0       1.13      -3.02      -2.74   \n",
       "\n",
       "   Diff10_per Diff1_clf Diff3_clf Diff5_clf Diff10_clf  \n",
       "0       -0.43      -1등급      -2등급      -2등급       -1등급  \n",
       "1       -0.27      +2등급      -1등급      -2등급       -1등급  \n",
       "2        0.58      +1등급      +1등급      -2등급       +1등급  \n",
       "3       -1.79      -3등급      -3등급      -3등급       -2등급  \n",
       "4       -2.09      +2등급      -3등급      -2등급       -2등급  "
      ]
     },
     "execution_count": 14,
     "metadata": {},
     "output_type": "execute_result"
    }
   ],
   "source": [
    "df.head()"
   ]
  },
  {
   "cell_type": "markdown",
   "metadata": {},
   "source": [
    "# 이제 통계분석 시작\n",
    "- https://scikit-learn.org/stable/tutorial/text_analytics/working_with_text_data.html\n",
    "- https://ratsgo.github.io/machine%20learning/2017/05/18/naive/\n",
    "1. Naive Basian"
   ]
  },
  {
   "cell_type": "code",
   "execution_count": 71,
   "metadata": {},
   "outputs": [
    {
     "data": {
      "text/html": [
       "<div>\n",
       "<style scoped>\n",
       "    .dataframe tbody tr th:only-of-type {\n",
       "        vertical-align: middle;\n",
       "    }\n",
       "\n",
       "    .dataframe tbody tr th {\n",
       "        vertical-align: top;\n",
       "    }\n",
       "\n",
       "    .dataframe thead th {\n",
       "        text-align: right;\n",
       "    }\n",
       "</style>\n",
       "<table border=\"1\" class=\"dataframe\">\n",
       "  <thead>\n",
       "    <tr style=\"text-align: right;\">\n",
       "      <th></th>\n",
       "      <th>Unnamed: 0</th>\n",
       "      <th>Date</th>\n",
       "      <th>NOUNS</th>\n",
       "      <th>Open</th>\n",
       "      <th>High</th>\n",
       "      <th>Low</th>\n",
       "      <th>Close</th>\n",
       "      <th>Adj Close</th>\n",
       "      <th>Volume</th>\n",
       "      <th>day1C</th>\n",
       "      <th>...</th>\n",
       "      <th>Diff5</th>\n",
       "      <th>Diff10</th>\n",
       "      <th>Diff1_per</th>\n",
       "      <th>Diff3_per</th>\n",
       "      <th>Diff5_per</th>\n",
       "      <th>Diff10_per</th>\n",
       "      <th>Diff1_clf</th>\n",
       "      <th>Diff3_clf</th>\n",
       "      <th>Diff5_clf</th>\n",
       "      <th>Diff10_clf</th>\n",
       "    </tr>\n",
       "  </thead>\n",
       "  <tbody>\n",
       "    <tr>\n",
       "      <th>0</th>\n",
       "      <td>99</td>\n",
       "      <td>2017-12-15</td>\n",
       "      <td>['부고', '송창', '씨', '법무', '법인', '세한', '변호사', '부친...</td>\n",
       "      <td>51240.0</td>\n",
       "      <td>51480.0</td>\n",
       "      <td>50520.0</td>\n",
       "      <td>50620.0</td>\n",
       "      <td>17585.119141</td>\n",
       "      <td>14928550.0</td>\n",
       "      <td>51060.0</td>\n",
       "      <td>...</td>\n",
       "      <td>-1380.0</td>\n",
       "      <td>-220.0</td>\n",
       "      <td>-0.87</td>\n",
       "      <td>-2.92</td>\n",
       "      <td>-2.73</td>\n",
       "      <td>-0.43</td>\n",
       "      <td>-1등급</td>\n",
       "      <td>-2등급</td>\n",
       "      <td>-2등급</td>\n",
       "      <td>-1등급</td>\n",
       "    </tr>\n",
       "    <tr>\n",
       "      <th>1</th>\n",
       "      <td>102</td>\n",
       "      <td>2017-12-18</td>\n",
       "      <td>['주가', '반토막', '삼성', '중공업', '뒷북', '증권사', '뉴스', ...</td>\n",
       "      <td>50620.0</td>\n",
       "      <td>51240.0</td>\n",
       "      <td>50620.0</td>\n",
       "      <td>51200.0</td>\n",
       "      <td>17786.607422</td>\n",
       "      <td>7350250.0</td>\n",
       "      <td>50620.0</td>\n",
       "      <td>...</td>\n",
       "      <td>-580.0</td>\n",
       "      <td>-140.0</td>\n",
       "      <td>1.13</td>\n",
       "      <td>-0.23</td>\n",
       "      <td>-1.13</td>\n",
       "      <td>-0.27</td>\n",
       "      <td>+2등급</td>\n",
       "      <td>-1등급</td>\n",
       "      <td>-2등급</td>\n",
       "      <td>-1등급</td>\n",
       "    </tr>\n",
       "    <tr>\n",
       "      <th>2</th>\n",
       "      <td>103</td>\n",
       "      <td>2017-12-19</td>\n",
       "      <td>['배당', '계절', '개인', '접근', '로', '배당', '주', '투자',...</td>\n",
       "      <td>51540.0</td>\n",
       "      <td>52080.0</td>\n",
       "      <td>51520.0</td>\n",
       "      <td>51560.0</td>\n",
       "      <td>17911.669922</td>\n",
       "      <td>11978600.0</td>\n",
       "      <td>51200.0</td>\n",
       "      <td>...</td>\n",
       "      <td>-540.0</td>\n",
       "      <td>300.0</td>\n",
       "      <td>0.70</td>\n",
       "      <td>0.97</td>\n",
       "      <td>-1.05</td>\n",
       "      <td>0.58</td>\n",
       "      <td>+1등급</td>\n",
       "      <td>+1등급</td>\n",
       "      <td>-2등급</td>\n",
       "      <td>+1등급</td>\n",
       "    </tr>\n",
       "    <tr>\n",
       "      <th>3</th>\n",
       "      <td>105</td>\n",
       "      <td>2017-12-21</td>\n",
       "      <td>['공정위', '삼성', '물산', '합병', '가이드라인', '개정', '논란',...</td>\n",
       "      <td>51000.0</td>\n",
       "      <td>51060.0</td>\n",
       "      <td>49100.0</td>\n",
       "      <td>49140.0</td>\n",
       "      <td>17070.974609</td>\n",
       "      <td>15624300.0</td>\n",
       "      <td>51560.0</td>\n",
       "      <td>...</td>\n",
       "      <td>-2180.0</td>\n",
       "      <td>-880.0</td>\n",
       "      <td>-4.92</td>\n",
       "      <td>-3.01</td>\n",
       "      <td>-4.44</td>\n",
       "      <td>-1.79</td>\n",
       "      <td>-3등급</td>\n",
       "      <td>-3등급</td>\n",
       "      <td>-3등급</td>\n",
       "      <td>-2등급</td>\n",
       "    </tr>\n",
       "    <tr>\n",
       "      <th>4</th>\n",
       "      <td>106</td>\n",
       "      <td>2017-12-22</td>\n",
       "      <td>['스팟', '삼성', '전자', '오른', '출발', '삼성', '전자', '출발...</td>\n",
       "      <td>49400.0</td>\n",
       "      <td>49960.0</td>\n",
       "      <td>49240.0</td>\n",
       "      <td>49700.0</td>\n",
       "      <td>17265.515625</td>\n",
       "      <td>11199650.0</td>\n",
       "      <td>49140.0</td>\n",
       "      <td>...</td>\n",
       "      <td>-1360.0</td>\n",
       "      <td>-1040.0</td>\n",
       "      <td>1.13</td>\n",
       "      <td>-3.02</td>\n",
       "      <td>-2.74</td>\n",
       "      <td>-2.09</td>\n",
       "      <td>+2등급</td>\n",
       "      <td>-3등급</td>\n",
       "      <td>-2등급</td>\n",
       "      <td>-2등급</td>\n",
       "    </tr>\n",
       "  </tbody>\n",
       "</table>\n",
       "<p>5 rows × 37 columns</p>\n",
       "</div>"
      ],
      "text/plain": [
       "   Unnamed: 0        Date                                              NOUNS  \\\n",
       "0          99  2017-12-15  ['부고', '송창', '씨', '법무', '법인', '세한', '변호사', '부친...   \n",
       "1         102  2017-12-18  ['주가', '반토막', '삼성', '중공업', '뒷북', '증권사', '뉴스', ...   \n",
       "2         103  2017-12-19  ['배당', '계절', '개인', '접근', '로', '배당', '주', '투자',...   \n",
       "3         105  2017-12-21  ['공정위', '삼성', '물산', '합병', '가이드라인', '개정', '논란',...   \n",
       "4         106  2017-12-22  ['스팟', '삼성', '전자', '오른', '출발', '삼성', '전자', '출발...   \n",
       "\n",
       "      Open     High      Low    Close     Adj Close      Volume    day1C  \\\n",
       "0  51240.0  51480.0  50520.0  50620.0  17585.119141  14928550.0  51060.0   \n",
       "1  50620.0  51240.0  50620.0  51200.0  17786.607422   7350250.0  50620.0   \n",
       "2  51540.0  52080.0  51520.0  51560.0  17911.669922  11978600.0  51200.0   \n",
       "3  51000.0  51060.0  49100.0  49140.0  17070.974609  15624300.0  51560.0   \n",
       "4  49400.0  49960.0  49240.0  49700.0  17265.515625  11199650.0  49140.0   \n",
       "\n",
       "      ...       Diff5  Diff10  Diff1_per  Diff3_per  Diff5_per  Diff10_per  \\\n",
       "0     ...     -1380.0  -220.0      -0.87      -2.92      -2.73       -0.43   \n",
       "1     ...      -580.0  -140.0       1.13      -0.23      -1.13       -0.27   \n",
       "2     ...      -540.0   300.0       0.70       0.97      -1.05        0.58   \n",
       "3     ...     -2180.0  -880.0      -4.92      -3.01      -4.44       -1.79   \n",
       "4     ...     -1360.0 -1040.0       1.13      -3.02      -2.74       -2.09   \n",
       "\n",
       "   Diff1_clf  Diff3_clf  Diff5_clf  Diff10_clf  \n",
       "0       -1등급       -2등급       -2등급        -1등급  \n",
       "1       +2등급       -1등급       -2등급        -1등급  \n",
       "2       +1등급       +1등급       -2등급        +1등급  \n",
       "3       -3등급       -3등급       -3등급        -2등급  \n",
       "4       +2등급       -3등급       -2등급        -2등급  \n",
       "\n",
       "[5 rows x 37 columns]"
      ]
     },
     "execution_count": 71,
     "metadata": {},
     "output_type": "execute_result"
    }
   ],
   "source": [
    "df.head()"
   ]
  },
  {
   "cell_type": "code",
   "execution_count": 20,
   "metadata": {},
   "outputs": [],
   "source": [
    "# train_test 나누기\n",
    "from sklearn.model_selection import train_test_split\n",
    "\n",
    "# X에는 뉴스에서 추출한 명사 데이터만\n",
    "X = df['NOUNS']\n",
    "\n",
    "# y에는 주가상승/하락 정리한 범주형 데이터로 비교\n",
    "y = df.loc[:, ['Diff1_clf', 'Diff3_clf', 'Diff5_clf', 'Diff10_clf']]\n",
    "\n",
    "# X훈련,테스트 / y훈련,테스트\n",
    "X_train, X_test, y_train, y_test = train_test_split(X, y, test_size = 0.2)"
   ]
  },
  {
   "cell_type": "markdown",
   "metadata": {},
   "source": [
    "## 분석 전, 데이터 가공 (토큰화, 벡터 -> tf/idf -> 분석 -> 테스트)\n",
    "### Tokenizing text with\n",
    "- https://scikit-learn.org/stable/tutorial/text_analytics/working_with_text_data.html#tokenizing-text-with-scikit-learn\n",
    "- https://scikit-learn.org/stable/modules/generated/sklearn.feature_extraction.text.CountVectorizer.html\n",
    "- https://datascienceschool.net/view-notebook/3e7aadbf88ed4f0d87a76f9ddc925d69/"
   ]
  },
  {
   "cell_type": "code",
   "execution_count": 33,
   "metadata": {},
   "outputs": [
    {
     "name": "stdout",
     "output_type": "stream",
     "text": [
      "(194,)\n",
      "(49,)\n",
      "(194, 4)\n",
      "(49, 4)\n"
     ]
    }
   ],
   "source": [
    "# 데이터 토크나이징 전\n",
    "print(X_train.shape)\n",
    "print(X_test.shape)\n",
    "\n",
    "print(y_train.shape)\n",
    "print(y_test.shape)"
   ]
  },
  {
   "cell_type": "code",
   "execution_count": 24,
   "metadata": {},
   "outputs": [
    {
     "data": {
      "text/plain": [
       "(194, 27130)"
      ]
     },
     "execution_count": 24,
     "metadata": {},
     "output_type": "execute_result"
    }
   ],
   "source": [
    "# 데이터 벡터 형태로 토크나이징\n",
    "# 이 방법으로 토크나이징 하는게 맞나?? tf/idf같은 형식도 있던데??\n",
    "# 스탑워드는 따로 처리 안해도 되나??\n",
    "from sklearn.feature_extraction.text import CountVectorizer\n",
    "count_vect = CountVectorizer()\n",
    "\n",
    "# fit과 fit_transform의 차이는?? return term-document matrix 추가진행\n",
    "# fit_transform(..)은 두 과정을 한 방에 하려고 붙인 것\n",
    "X_train_counts = count_vect.fit_transform(X_train)  \n",
    "X_train_counts.shape\n",
    "\n",
    "# fit은 shape로 모양을 찍어볼 수 없다."
   ]
  },
  {
   "cell_type": "code",
   "execution_count": 25,
   "metadata": {},
   "outputs": [
    {
     "data": {
      "text/plain": [
       "19009"
      ]
     },
     "execution_count": 25,
     "metadata": {},
     "output_type": "execute_result"
    }
   ],
   "source": [
    "# 이 함수는 특정 단어의 위치? 갯수? 를 가져오는듯\n",
    "# counts of N-grams of words or consecutive characters\n",
    "\n",
    "count_vect.vocabulary_.get(u'잘못')"
   ]
  },
  {
   "cell_type": "markdown",
   "metadata": {},
   "source": [
    "### 헷갈리니 중간점검\n",
    "- (194,)형태의 X_train데이터를 토큰화? 벡터화?\n",
    "- X_train_counts  라는 이름으로 fit과 transform진행"
   ]
  },
  {
   "cell_type": "markdown",
   "metadata": {},
   "source": [
    "## 문서 길이가 길어지면 카운팅 값이 자연스레 높아져서 뭔가 불공평함\n",
    "- 그럴 때 tf/idf 토크나이징 사용...이 맞나??\n",
    "- 다른 단어와의 상대적 중요성이 필요할 때는 좋을 것 같지만, 주가 예측에 어떤 단어가 핫했나를 따지려면 굳이 필요 없을 듯...??"
   ]
  },
  {
   "cell_type": "code",
   "execution_count": 35,
   "metadata": {},
   "outputs": [
    {
     "name": "stdout",
     "output_type": "stream",
     "text": [
      "TfidfTransformer(norm='l2', smooth_idf=True, sublinear_tf=False,\n",
      "         use_idf=False)\n",
      "(194, 27130)\n"
     ]
    }
   ],
   "source": [
    "# 토크나이징한 x의 벡터값들을 tf로 변환하는 과정\n",
    "# fit과 transform 진행\n",
    "from sklearn.feature_extraction.text import TfidfTransformer \n",
    "\n",
    "# 아까 벡터화한거 넣어서 fit\n",
    "tf_transformer = TfidfTransformer(use_idf=False).fit(X_train_counts) \n",
    "print(tf_transformer)\n",
    "\n",
    "# fit한걸 transform진행\n",
    "X_train_tf = tf_transformer.transform(X_train_counts) \n",
    "print(X_train_tf.shape)"
   ]
  },
  {
   "cell_type": "markdown",
   "metadata": {},
   "source": [
    "### 위랑 비슷하지만 idf도 같이 한 버전??"
   ]
  },
  {
   "cell_type": "code",
   "execution_count": 36,
   "metadata": {},
   "outputs": [
    {
     "name": "stdout",
     "output_type": "stream",
     "text": [
      "(194, 27130)\n"
     ]
    }
   ],
   "source": [
    "tfidf_transformer = TfidfTransformer()\n",
    "X_train_tfidf = tfidf_transformer.fit_transform(X_train_counts)\n",
    "print(X_train_tfidf.shape)"
   ]
  },
  {
   "cell_type": "code",
   "execution_count": 72,
   "metadata": {},
   "outputs": [],
   "source": [
    "# 학습시킬 때 칼럼이 두 개 있으면 오류가 나서 일자별로 자르는 과정\n",
    "y_train1 = y_train.iloc[:,0]\n",
    "y_train2 = y_train.iloc[:,1]\n",
    "y_train3 = y_train.iloc[:,2]\n",
    "y_train4 = y_train.iloc[:,3]\n",
    "\n",
    "y_test1 = y_test.iloc[:,0]\n",
    "y_test2 = y_test.iloc[:,1]\n",
    "y_test3 = y_test.iloc[:,2]\n",
    "y_test4 = y_test.iloc[:,3]"
   ]
  },
  {
   "cell_type": "code",
   "execution_count": 168,
   "metadata": {},
   "outputs": [
    {
     "data": {
      "text/plain": [
       "47     -1등급\n",
       "211    -1등급\n",
       "101    +1등급\n",
       "153    +2등급\n",
       "179    -2등급\n",
       "188    -1등급\n",
       "167    +1등급\n",
       "9      +2등급\n",
       "151    +1등급\n",
       "183    +2등급\n",
       "4      +2등급\n",
       "63     -3등급\n",
       "131    -1등급\n",
       "178    -2등급\n",
       "206    +1등급\n",
       "21     -2등급\n",
       "7      +3등급\n",
       "170    +2등급\n",
       "160    -1등급\n",
       "198    +2등급\n",
       "119    -2등급\n",
       "29     +1등급\n",
       "91     -1등급\n",
       "242    -1등급\n",
       "192    +1등급\n",
       "152    +1등급\n",
       "240    -2등급\n",
       "135    -1등급\n",
       "79     +2등급\n",
       "57     -1등급\n",
       "93     +2등급\n",
       "96     -1등급\n",
       "59     -1등급\n",
       "71     -2등급\n",
       "116    -2등급\n",
       "42     -1등급\n",
       "121    -1등급\n",
       "11     +2등급\n",
       "177    -2등급\n",
       "203    -2등급\n",
       "74     +2등급\n",
       "216    +2등급\n",
       "117    -2등급\n",
       "2      +1등급\n",
       "88     +2등급\n",
       "10     -2등급\n",
       "120    +1등급\n",
       "229    -1등급\n",
       "89     -1등급\n",
       "Name: Diff1_clf, dtype: object"
      ]
     },
     "execution_count": 168,
     "metadata": {},
     "output_type": "execute_result"
    }
   ],
   "source": [
    "y_test1"
   ]
  },
  {
   "cell_type": "code",
   "execution_count": 42,
   "metadata": {},
   "outputs": [
    {
     "name": "stdout",
     "output_type": "stream",
     "text": [
      "(194, 27130)\n",
      "(194, 27130)\n",
      "(194, 27130)\n",
      "(194,)\n",
      "(49,)\n"
     ]
    }
   ],
   "source": [
    "print(X_train_counts.shape)\n",
    "\n",
    "print(X_train_tf.shape)\n",
    "print(X_train_tfidf.shape)\n",
    "\n",
    "print(y_train1.shape)\n",
    "print(y_test1.shape)"
   ]
  },
  {
   "cell_type": "code",
   "execution_count": null,
   "metadata": {},
   "outputs": [],
   "source": [
    "x"
   ]
  },
  {
   "cell_type": "markdown",
   "metadata": {},
   "source": [
    "# 나이브 베이지안\n",
    "- 을 쓰려면 y가 범주형 데이터로 들어가야 하지 않나...?"
   ]
  },
  {
   "cell_type": "code",
   "execution_count": 83,
   "metadata": {},
   "outputs": [],
   "source": [
    "from sklearn.naive_bayes import MultinomialNB\n",
    "clf_tf = MultinomialNB().fit(X_train_tf, y_train1)\n",
    "clf_tfidf = MultinomialNB().fit(X_train_tfidf, y_train1)    # X_train_tfidf, twenty_train.target\n",
    "\n",
    "# 여기 예제에서 y값(twenty_train.target)은 n=4 카테고리컬 변수인데, 내가 필요한 주가 diff를 범주화해야하나??"
   ]
  },
  {
   "cell_type": "code",
   "execution_count": 84,
   "metadata": {},
   "outputs": [
    {
     "name": "stdout",
     "output_type": "stream",
     "text": [
      "MultinomialNB(alpha=1.0, class_prior=None, fit_prior=True)\n",
      "MultinomialNB(alpha=1.0, class_prior=None, fit_prior=True)\n"
     ]
    }
   ],
   "source": [
    "print(clf_tf)\n",
    "print(clf_tfidf)"
   ]
  },
  {
   "cell_type": "markdown",
   "metadata": {},
   "source": [
    "## 학습시킨 모델을 Test셋으로 비교"
   ]
  },
  {
   "cell_type": "code",
   "execution_count": 89,
   "metadata": {},
   "outputs": [
    {
     "data": {
      "text/plain": [
       "\"\\nfor doc, category in zip(X_train, predicted):\\n    print('%r => %s' % (doc, [category]))    \\n\""
      ]
     },
     "execution_count": 89,
     "metadata": {},
     "output_type": "execute_result"
    }
   ],
   "source": [
    "# Test셋 벡터로 변환\n",
    "X_test_counts = count_vect.transform(X_test)\n",
    "\n",
    "# Test셋 벡터값을 tf랑  tfidf로 변환\n",
    "X_train_tf = tf_transformer.transform(X_test_counts)\n",
    "X_train_tfidf = tfidf_transformer.transform(X_test_counts)\n",
    "\n",
    "\n",
    "predicted_tf = clf_tf.predict(X_train_tf)\n",
    "predicted_tfidf = clf_tfidf.predict(X_train_tfidf)\n",
    "\n",
    "'''\n",
    "for doc, category in zip(X_train, predicted):\n",
    "    print('%r => %s' % (doc, [category]))    \n",
    "'''\n",
    "\n",
    "# 'God is love' => soc.religion.christian\n",
    "# 'OpenGL on the GPU is fast' => comp.graphics"
   ]
  },
  {
   "cell_type": "code",
   "execution_count": 90,
   "metadata": {},
   "outputs": [
    {
     "name": "stdout",
     "output_type": "stream",
     "text": [
      "(49,)\n",
      "(49,)\n",
      "(49,)\n"
     ]
    }
   ],
   "source": [
    "# 예측한 값이 predicted에 들어감\n",
    "print(predicted_tf.shape)  # X_train->벡터->tf를 학습시켜 분류한 결과\n",
    "print(predicted_tfidf.shape)  # X_train->벡터->tfidf를 학습시켜 분류한 결과\n",
    "\n",
    "# 비교에 쓸 y_test 형태 파악\n",
    "print(y_test1.shape)"
   ]
  },
  {
   "cell_type": "code",
   "execution_count": 162,
   "metadata": {},
   "outputs": [
    {
     "name": "stdout",
     "output_type": "stream",
     "text": [
      "======== 1일치 예측 ========\n",
      "tf로 변환한 예측률 : 0.22448979591836735\n",
      "tfidf로 변환한 예측률 : 0.22448979591836735\n"
     ]
    }
   ],
   "source": [
    "print('======== 1일치 예측 ========')\n",
    "print('tf로 변환한 예측률 :', np.mean(predicted_tf == y_test1))\n",
    "print('tfidf로 변환한 예측률 :',np.mean(predicted_tfidf == y_test1))"
   ]
  },
  {
   "cell_type": "code",
   "execution_count": 92,
   "metadata": {},
   "outputs": [
    {
     "name": "stdout",
     "output_type": "stream",
     "text": [
      "======== 3일치 예측 ========\n",
      "tf로 변환한 예측률 : 0.30612244897959184\n",
      "tfidf로 변환한 예측률 : 0.30612244897959184\n",
      "======== 5일치 예측 ========\n",
      "tf로 변환한 예측률 : 0.16326530612244897\n",
      "tfidf로 변환한 예측률 : 0.16326530612244897\n",
      "======== 10일치 예측 ========\n",
      "tf로 변환한 예측률 : 0.14285714285714285\n",
      "tfidf로 변환한 예측률 : 0.12244897959183673\n"
     ]
    }
   ],
   "source": [
    "print('======== 3일치 예측 ========')\n",
    "print('tf로 변환한 예측률 :', np.mean(predicted_tf == y_test2))\n",
    "print('tfidf로 변환한 예측률 :',np.mean(predicted_tfidf == y_test2))\n",
    "\n",
    "print('======== 5일치 예측 ========')\n",
    "print('tf로 변환한 예측률 :', np.mean(predicted_tf == y_test3))\n",
    "print('tfidf로 변환한 예측률 :',np.mean(predicted_tfidf == y_test3))\n",
    "\n",
    "print('======== 10일치 예측 ========')\n",
    "print('tf로 변환한 예측률 :', np.mean(predicted_tf == y_test4))\n",
    "print('tfidf로 변환한 예측률 :',np.mean(predicted_tfidf == y_test4))"
   ]
  },
  {
   "cell_type": "code",
   "execution_count": null,
   "metadata": {},
   "outputs": [],
   "source": []
  },
  {
   "cell_type": "markdown",
   "metadata": {},
   "source": [
    "# Building a pipeline\n",
    "- 분석기 이름 : nb_clf"
   ]
  },
  {
   "cell_type": "code",
   "execution_count": 136,
   "metadata": {},
   "outputs": [],
   "source": [
    "from sklearn.pipeline import Pipeline\n",
    "nb_clf = Pipeline([\n",
    "    ('vect', CountVectorizer()),\n",
    "    ('tfidf', TfidfTransformer()),\n",
    "    ('clf', MultinomialNB()),\n",
    "])"
   ]
  },
  {
   "cell_type": "markdown",
   "metadata": {},
   "source": [
    "#  Evaluation of the performance on the 'Test' set\n",
    "- 파이프라인에는 tfidf사용"
   ]
  },
  {
   "cell_type": "code",
   "execution_count": 137,
   "metadata": {},
   "outputs": [
    {
     "name": "stdout",
     "output_type": "stream",
     "text": [
      "======== TestSet 1일치 예측 ========\n"
     ]
    },
    {
     "data": {
      "text/plain": [
       "0.22448979591836735"
      ]
     },
     "execution_count": 137,
     "metadata": {},
     "output_type": "execute_result"
    }
   ],
   "source": [
    "# X트레인과 1일치y트레인 학습시켜 모델 구축\n",
    "nb_clf.fit(X_train, y_train1) \n",
    "\n",
    "# 만든 모델로 X테스트 학습 => y테스트 예측률 평가\n",
    "nb_predicted1 = nb_clf.predict(X_test)\n",
    "\n",
    "print('======== TestSet 1일치 예측 ========')\n",
    "np.mean(nb_predicted1 == y_test1) "
   ]
  },
  {
   "cell_type": "code",
   "execution_count": 138,
   "metadata": {},
   "outputs": [
    {
     "name": "stdout",
     "output_type": "stream",
     "text": [
      "======== TestSet 3일치 예측 ========\n"
     ]
    },
    {
     "data": {
      "text/plain": [
       "0.1836734693877551"
      ]
     },
     "execution_count": 138,
     "metadata": {},
     "output_type": "execute_result"
    }
   ],
   "source": [
    "text_clf.fit(X_train, y_train2) \n",
    "nb_predicted2 = text_clf.predict(X_test)\n",
    "\n",
    "print('======== TestSet 3일치 예측 ========')\n",
    "np.mean(nb_predicted2 == y_test2) "
   ]
  },
  {
   "cell_type": "code",
   "execution_count": 179,
   "metadata": {},
   "outputs": [
    {
     "name": "stdout",
     "output_type": "stream",
     "text": [
      "======== TestSet 5일치 예측 ========\n"
     ]
    },
    {
     "data": {
      "text/plain": [
       "0.20408163265306123"
      ]
     },
     "execution_count": 179,
     "metadata": {},
     "output_type": "execute_result"
    }
   ],
   "source": [
    "text_clf.fit(X_train, y_train3) \n",
    "nb_predicted3 = text_clf.predict(X_test)\n",
    "\n",
    "print('======== TestSet 5일치 예측 ========')\n",
    "np.mean(nb_predicted3 == y_test3) "
   ]
  },
  {
   "cell_type": "code",
   "execution_count": 140,
   "metadata": {},
   "outputs": [
    {
     "name": "stdout",
     "output_type": "stream",
     "text": [
      "======== TestSet 10일치 예측 ========\n"
     ]
    },
    {
     "data": {
      "text/plain": [
       "0.22448979591836735"
      ]
     },
     "execution_count": 140,
     "metadata": {},
     "output_type": "execute_result"
    }
   ],
   "source": [
    "text_clf.fit(X_train, y_train4) \n",
    "nb_predicted4 = text_clf.predict(X_test)\n",
    "\n",
    "print('======== TestSet 10일치 예측 ========')\n",
    "np.mean(nb_predicted4 == y_test4) "
   ]
  },
  {
   "cell_type": "markdown",
   "metadata": {},
   "source": [
    "## SVM"
   ]
  },
  {
   "cell_type": "code",
   "execution_count": 130,
   "metadata": {},
   "outputs": [
    {
     "data": {
      "text/plain": [
       "0.22448979591836735"
      ]
     },
     "execution_count": 130,
     "metadata": {},
     "output_type": "execute_result"
    }
   ],
   "source": [
    "from sklearn.linear_model import SGDClassifier\n",
    "svm_clf = Pipeline([\n",
    "    ('vect', CountVectorizer()),\n",
    "    ('tfidf', TfidfTransformer()),\n",
    "    ('clf', SGDClassifier(loss='hinge', penalty='l2',\n",
    "                          alpha=1e-3, random_state=42,\n",
    "                          max_iter=5, tol=None)),\n",
    "])\n",
    "\n",
    "svm_clf.fit(X_train, y_train4)  \n",
    "\n",
    "predicted = svm_clf.predict(X_test)\n",
    "np.mean(predicted == y_test4)"
   ]
  },
  {
   "cell_type": "code",
   "execution_count": 112,
   "metadata": {},
   "outputs": [
    {
     "name": "stdout",
     "output_type": "stream",
     "text": [
      "             precision    recall  f1-score   support\n",
      "\n",
      "       -1등급       0.00      0.00      0.00         9\n",
      "       -1등급       0.00      0.00      0.00        12\n",
      "       +1등급       0.00      0.00      0.00         1\n",
      "       +2등급       0.33      0.07      0.11        15\n",
      "       -2등급       0.23      0.91      0.36        11\n",
      "       -1등급       0.00      0.00      0.00         1\n",
      "\n",
      "avg / total       0.15      0.22      0.12        49\n",
      "\n"
     ]
    }
   ],
   "source": [
    "from sklearn import metrics\n",
    "print(metrics.classification_report(y_test1, test_predicted1,\n",
    "    target_names=y_test1))"
   ]
  },
  {
   "cell_type": "code",
   "execution_count": 171,
   "metadata": {},
   "outputs": [
    {
     "data": {
      "text/plain": [
       "array([[ 0,  0,  0,  0,  9,  0],\n",
       "       [ 0,  0,  0,  1, 11,  0],\n",
       "       [ 0,  0,  0,  0,  1,  0],\n",
       "       [ 2,  0,  0,  1, 12,  0],\n",
       "       [ 0,  0,  0,  1, 10,  0],\n",
       "       [ 0,  0,  0,  0,  1,  0]], dtype=int64)"
      ]
     },
     "execution_count": 171,
     "metadata": {},
     "output_type": "execute_result"
    }
   ],
   "source": [
    "from sklearn.metrics import confusion_matrix\n",
    "confusion_matrix(y_test1, test_predicted1)\n"
   ]
  },
  {
   "cell_type": "code",
   "execution_count": 175,
   "metadata": {},
   "outputs": [
    {
     "data": {
      "text/plain": [
       "-1등급    15\n",
       "+2등급    12\n",
       "-2등급    11\n",
       "+1등급     9\n",
       "-3등급     1\n",
       "+3등급     1\n",
       "Name: Diff1_clf, dtype: int64"
      ]
     },
     "execution_count": 175,
     "metadata": {},
     "output_type": "execute_result"
    }
   ],
   "source": [
    "y_test1.value_counts()"
   ]
  },
  {
   "cell_type": "code",
   "execution_count": 176,
   "metadata": {},
   "outputs": [
    {
     "data": {
      "text/plain": [
       "-2등급    16\n",
       "+1등급     7\n",
       "+2등급     7\n",
       "-3등급     7\n",
       "+3등급     7\n",
       "-1등급     4\n",
       "-4등급     1\n",
       "Name: Diff3_clf, dtype: int64"
      ]
     },
     "execution_count": 176,
     "metadata": {},
     "output_type": "execute_result"
    }
   ],
   "source": [
    "y_test2.value_counts()"
   ]
  },
  {
   "cell_type": "code",
   "execution_count": 177,
   "metadata": {},
   "outputs": [
    {
     "data": {
      "text/plain": [
       "-3등급    9\n",
       "-2등급    8\n",
       "+3등급    8\n",
       "+2등급    8\n",
       "-4등급    8\n",
       "+4등급    3\n",
       "-1등급    3\n",
       "+1등급    2\n",
       "Name: Diff5_clf, dtype: int64"
      ]
     },
     "execution_count": 177,
     "metadata": {},
     "output_type": "execute_result"
    }
   ],
   "source": [
    "y_test3.value_counts()"
   ]
  },
  {
   "cell_type": "code",
   "execution_count": 178,
   "metadata": {},
   "outputs": [
    {
     "data": {
      "text/plain": [
       "-4등급    14\n",
       "-2등급     8\n",
       "+2등급     6\n",
       "+4등급     5\n",
       "-3등급     5\n",
       "+1등급     4\n",
       "+3등급     4\n",
       "-1등급     2\n",
       "5등급      1\n",
       "Name: Diff10_clf, dtype: int64"
      ]
     },
     "execution_count": 178,
     "metadata": {},
     "output_type": "execute_result"
    }
   ],
   "source": [
    "y_test4.value_counts()"
   ]
  },
  {
   "cell_type": "code",
   "execution_count": null,
   "metadata": {},
   "outputs": [],
   "source": []
  },
  {
   "cell_type": "code",
   "execution_count": null,
   "metadata": {},
   "outputs": [],
   "source": []
  },
  {
   "cell_type": "code",
   "execution_count": null,
   "metadata": {},
   "outputs": [],
   "source": [
    "precision = 예측한것 중에 맞힌 비율  => 예측을 안하면 올라가고 recall이 떨어짐 (주식은 이게 중요 / 오답이 치명적이라) => 일부러 피팅시키기도 함\n",
    "recall = 전체 맞는 것 중 맞힌 비율  => reacall이 높으면 (검색은 이거)"
   ]
  },
  {
   "cell_type": "markdown",
   "metadata": {},
   "source": [
    "# Parameter tuning using grid search"
   ]
  },
  {
   "cell_type": "code",
   "execution_count": 103,
   "metadata": {},
   "outputs": [],
   "source": [
    "from sklearn.model_selection import GridSearchCV\n",
    "parameters = {\n",
    "    'vect__ngram_range': [(1, 1), (1, 2)],\n",
    "    'tfidf__use_idf': (True, False),\n",
    "    'clf__alpha': (1e-2, 1e-3),   # 0.01 or 0.001\n",
    "}"
   ]
  },
  {
   "cell_type": "code",
   "execution_count": 104,
   "metadata": {},
   "outputs": [],
   "source": [
    "gs_clf = GridSearchCV(text_clf, parameters, cv=5, iid=False, n_jobs=-1)"
   ]
  },
  {
   "cell_type": "code",
   "execution_count": 106,
   "metadata": {},
   "outputs": [],
   "source": [
    "gs_clf = gs_clf.fit(X_train, y_train1)"
   ]
  },
  {
   "cell_type": "code",
   "execution_count": null,
   "metadata": {},
   "outputs": [],
   "source": [
    "text_clf.predict(X_test)"
   ]
  },
  {
   "cell_type": "code",
   "execution_count": 108,
   "metadata": {},
   "outputs": [],
   "source": [
    "Grid_predicted = gs_clf.predict(X_test)"
   ]
  },
  {
   "cell_type": "code",
   "execution_count": 110,
   "metadata": {},
   "outputs": [
    {
     "data": {
      "text/plain": [
       "0.24489795918367346"
      ]
     },
     "execution_count": 110,
     "metadata": {},
     "output_type": "execute_result"
    }
   ],
   "source": [
    "# 하이퍼 파라미터 돌린 모델 예측률 추정\n",
    "np.mean(Grid_predicted == y_test1) "
   ]
  },
  {
   "cell_type": "code",
   "execution_count": 109,
   "metadata": {},
   "outputs": [
    {
     "name": "stdout",
     "output_type": "stream",
     "text": [
      "clf__alpha: 0.01\n",
      "tfidf__use_idf: True\n",
      "vect__ngram_range: (1, 2)\n"
     ]
    }
   ],
   "source": [
    "gs_clf.best_score_                                  \n",
    "\n",
    "for param_name in sorted(parameters.keys()):\n",
    "    print(\"%s: %r\" % (param_name, gs_clf.best_params_[param_name]))"
   ]
  },
  {
   "cell_type": "code",
   "execution_count": 160,
   "metadata": {},
   "outputs": [
    {
     "ename": "FileNotFoundError",
     "evalue": "[Errno 2] No such file or directory: 'C:\\\\Windows\\\\Fonts\\\\D2Coding.ttf'",
     "output_type": "error",
     "traceback": [
      "\u001b[1;31m---------------------------------------------------------------------------\u001b[0m",
      "\u001b[1;31mFileNotFoundError\u001b[0m                         Traceback (most recent call last)",
      "\u001b[1;32m<ipython-input-160-c68b6b96cc78>\u001b[0m in \u001b[0;36m<module>\u001b[1;34m()\u001b[0m\n\u001b[0;32m      1\u001b[0m \u001b[0mrcParams\u001b[0m\u001b[1;33m[\u001b[0m\u001b[1;34m'axes.unicode_minus'\u001b[0m\u001b[1;33m]\u001b[0m \u001b[1;33m=\u001b[0m \u001b[1;32mFalse\u001b[0m  \u001b[1;31m# - 기호 깨짐 방지\u001b[0m\u001b[1;33m\u001b[0m\u001b[0m\n\u001b[0;32m      2\u001b[0m \u001b[0mfont_fname\u001b[0m \u001b[1;33m=\u001b[0m \u001b[1;34m'C:\\Windows\\Fonts\\D2Coding.ttf'\u001b[0m\u001b[1;33m\u001b[0m\u001b[0m\n\u001b[1;32m----> 3\u001b[1;33m \u001b[0mfont_family\u001b[0m \u001b[1;33m=\u001b[0m \u001b[0mfont_manager\u001b[0m\u001b[1;33m.\u001b[0m\u001b[0mFontProperties\u001b[0m\u001b[1;33m(\u001b[0m\u001b[0mfname\u001b[0m\u001b[1;33m=\u001b[0m\u001b[0mfont_fname\u001b[0m\u001b[1;33m)\u001b[0m\u001b[1;33m.\u001b[0m\u001b[0mget_name\u001b[0m\u001b[1;33m(\u001b[0m\u001b[1;33m)\u001b[0m\u001b[1;33m\u001b[0m\u001b[0m\n\u001b[0m\u001b[0;32m      4\u001b[0m \u001b[0mprint\u001b[0m\u001b[1;33m(\u001b[0m\u001b[0mfont_family\u001b[0m\u001b[1;33m)\u001b[0m\u001b[1;33m\u001b[0m\u001b[0m\n\u001b[0;32m      5\u001b[0m \u001b[0mrc\u001b[0m\u001b[1;33m(\u001b[0m\u001b[1;34m'font'\u001b[0m\u001b[1;33m,\u001b[0m \u001b[0mfamily\u001b[0m\u001b[1;33m=\u001b[0m\u001b[0mfont_family\u001b[0m\u001b[1;33m)\u001b[0m\u001b[1;33m\u001b[0m\u001b[0m\n",
      "\u001b[1;32m~\\Anaconda3\\lib\\site-packages\\matplotlib\\font_manager.py\u001b[0m in \u001b[0;36mget_name\u001b[1;34m(self)\u001b[0m\n\u001b[0;32m    739\u001b[0m         \u001b[0mproperties\u001b[0m\u001b[1;33m.\u001b[0m\u001b[1;33m\u001b[0m\u001b[0m\n\u001b[0;32m    740\u001b[0m         \"\"\"\n\u001b[1;32m--> 741\u001b[1;33m         \u001b[1;32mreturn\u001b[0m \u001b[0mget_font\u001b[0m\u001b[1;33m(\u001b[0m\u001b[0mfindfont\u001b[0m\u001b[1;33m(\u001b[0m\u001b[0mself\u001b[0m\u001b[1;33m)\u001b[0m\u001b[1;33m)\u001b[0m\u001b[1;33m.\u001b[0m\u001b[0mfamily_name\u001b[0m\u001b[1;33m\u001b[0m\u001b[0m\n\u001b[0m\u001b[0;32m    742\u001b[0m \u001b[1;33m\u001b[0m\u001b[0m\n\u001b[0;32m    743\u001b[0m     \u001b[1;32mdef\u001b[0m \u001b[0mget_style\u001b[0m\u001b[1;33m(\u001b[0m\u001b[0mself\u001b[0m\u001b[1;33m)\u001b[0m\u001b[1;33m:\u001b[0m\u001b[1;33m\u001b[0m\u001b[0m\n",
      "\u001b[1;32m~\\Anaconda3\\lib\\site-packages\\matplotlib\\font_manager.py\u001b[0m in \u001b[0;36mget_font\u001b[1;34m(filename, hinting_factor)\u001b[0m\n\u001b[0;32m   1384\u001b[0m     \u001b[1;32mif\u001b[0m \u001b[0mhinting_factor\u001b[0m \u001b[1;32mis\u001b[0m \u001b[1;32mNone\u001b[0m\u001b[1;33m:\u001b[0m\u001b[1;33m\u001b[0m\u001b[0m\n\u001b[0;32m   1385\u001b[0m         \u001b[0mhinting_factor\u001b[0m \u001b[1;33m=\u001b[0m \u001b[0mrcParams\u001b[0m\u001b[1;33m[\u001b[0m\u001b[1;34m'text.hinting_factor'\u001b[0m\u001b[1;33m]\u001b[0m\u001b[1;33m\u001b[0m\u001b[0m\n\u001b[1;32m-> 1386\u001b[1;33m     \u001b[1;32mreturn\u001b[0m \u001b[0m_get_font\u001b[0m\u001b[1;33m(\u001b[0m\u001b[0mfilename\u001b[0m\u001b[1;33m,\u001b[0m \u001b[0mhinting_factor\u001b[0m\u001b[1;33m)\u001b[0m\u001b[1;33m\u001b[0m\u001b[0m\n\u001b[0m\u001b[0;32m   1387\u001b[0m \u001b[1;33m\u001b[0m\u001b[0m\n\u001b[0;32m   1388\u001b[0m \u001b[1;33m\u001b[0m\u001b[0m\n",
      "\u001b[1;31mFileNotFoundError\u001b[0m: [Errno 2] No such file or directory: 'C:\\\\Windows\\\\Fonts\\\\D2Coding.ttf'"
     ]
    }
   ],
   "source": [
    "%matplotlib inline\n",
    "\n",
    "rcParams['axes.unicode_minus'] = False  # - 기호 깨짐 방지\n",
    "font_fname = 'C:\\Windows\\Fonts\\D2Coding.ttf'\n",
    "font_family = font_manager.FontProperties(fname=font_fname).get_name()\n",
    "print(font_family)\n",
    "rc('font', family=font_family)\n",
    "\n",
    "from matplotlib import font_manager\n",
    "font_manager._rebuild()"
   ]
  },
  {
   "cell_type": "code",
   "execution_count": null,
   "metadata": {},
   "outputs": [],
   "source": []
  },
  {
   "cell_type": "code",
   "execution_count": null,
   "metadata": {},
   "outputs": [],
   "source": []
  },
  {
   "cell_type": "code",
   "execution_count": null,
   "metadata": {},
   "outputs": [],
   "source": []
  },
  {
   "cell_type": "code",
   "execution_count": 166,
   "metadata": {},
   "outputs": [
    {
     "data": {
      "text/html": [
       "<div>\n",
       "<style scoped>\n",
       "    .dataframe tbody tr th:only-of-type {\n",
       "        vertical-align: middle;\n",
       "    }\n",
       "\n",
       "    .dataframe tbody tr th {\n",
       "        vertical-align: top;\n",
       "    }\n",
       "\n",
       "    .dataframe thead th {\n",
       "        text-align: right;\n",
       "    }\n",
       "</style>\n",
       "<table border=\"1\" class=\"dataframe\">\n",
       "  <thead>\n",
       "    <tr style=\"text-align: right;\">\n",
       "      <th></th>\n",
       "      <th>Diff1_clf</th>\n",
       "      <th>Diff3_clf</th>\n",
       "      <th>Diff5_clf</th>\n",
       "      <th>Diff10_clf</th>\n",
       "    </tr>\n",
       "  </thead>\n",
       "  <tbody>\n",
       "    <tr>\n",
       "      <th>47</th>\n",
       "      <td>-1등급</td>\n",
       "      <td>-1등급</td>\n",
       "      <td>-1등급</td>\n",
       "      <td>+2등급</td>\n",
       "    </tr>\n",
       "    <tr>\n",
       "      <th>211</th>\n",
       "      <td>-1등급</td>\n",
       "      <td>+3등급</td>\n",
       "      <td>+4등급</td>\n",
       "      <td>+1등급</td>\n",
       "    </tr>\n",
       "    <tr>\n",
       "      <th>101</th>\n",
       "      <td>+1등급</td>\n",
       "      <td>+1등급</td>\n",
       "      <td>-3등급</td>\n",
       "      <td>-4등급</td>\n",
       "    </tr>\n",
       "    <tr>\n",
       "      <th>153</th>\n",
       "      <td>+2등급</td>\n",
       "      <td>+2등급</td>\n",
       "      <td>+1등급</td>\n",
       "      <td>+2등급</td>\n",
       "    </tr>\n",
       "    <tr>\n",
       "      <th>179</th>\n",
       "      <td>-2등급</td>\n",
       "      <td>-3등급</td>\n",
       "      <td>-3등급</td>\n",
       "      <td>-4등급</td>\n",
       "    </tr>\n",
       "    <tr>\n",
       "      <th>188</th>\n",
       "      <td>-1등급</td>\n",
       "      <td>-2등급</td>\n",
       "      <td>+1등급</td>\n",
       "      <td>+3등급</td>\n",
       "    </tr>\n",
       "    <tr>\n",
       "      <th>167</th>\n",
       "      <td>+1등급</td>\n",
       "      <td>+1등급</td>\n",
       "      <td>+3등급</td>\n",
       "      <td>+3등급</td>\n",
       "    </tr>\n",
       "    <tr>\n",
       "      <th>9</th>\n",
       "      <td>+2등급</td>\n",
       "      <td>+3등급</td>\n",
       "      <td>+3등급</td>\n",
       "      <td>+2등급</td>\n",
       "    </tr>\n",
       "    <tr>\n",
       "      <th>151</th>\n",
       "      <td>+1등급</td>\n",
       "      <td>-2등급</td>\n",
       "      <td>-2등급</td>\n",
       "      <td>-3등급</td>\n",
       "    </tr>\n",
       "    <tr>\n",
       "      <th>183</th>\n",
       "      <td>+2등급</td>\n",
       "      <td>+1등급</td>\n",
       "      <td>+3등급</td>\n",
       "      <td>-1등급</td>\n",
       "    </tr>\n",
       "    <tr>\n",
       "      <th>4</th>\n",
       "      <td>+2등급</td>\n",
       "      <td>-3등급</td>\n",
       "      <td>-2등급</td>\n",
       "      <td>-2등급</td>\n",
       "    </tr>\n",
       "    <tr>\n",
       "      <th>63</th>\n",
       "      <td>-3등급</td>\n",
       "      <td>-2등급</td>\n",
       "      <td>-2등급</td>\n",
       "      <td>-1등급</td>\n",
       "    </tr>\n",
       "    <tr>\n",
       "      <th>131</th>\n",
       "      <td>-1등급</td>\n",
       "      <td>+1등급</td>\n",
       "      <td>-2등급</td>\n",
       "      <td>-2등급</td>\n",
       "    </tr>\n",
       "    <tr>\n",
       "      <th>178</th>\n",
       "      <td>-2등급</td>\n",
       "      <td>-1등급</td>\n",
       "      <td>-3등급</td>\n",
       "      <td>-4등급</td>\n",
       "    </tr>\n",
       "    <tr>\n",
       "      <th>206</th>\n",
       "      <td>+1등급</td>\n",
       "      <td>-2등급</td>\n",
       "      <td>-4등급</td>\n",
       "      <td>-4등급</td>\n",
       "    </tr>\n",
       "    <tr>\n",
       "      <th>21</th>\n",
       "      <td>-2등급</td>\n",
       "      <td>-2등급</td>\n",
       "      <td>+2등급</td>\n",
       "      <td>-4등급</td>\n",
       "    </tr>\n",
       "    <tr>\n",
       "      <th>7</th>\n",
       "      <td>+3등급</td>\n",
       "      <td>+2등급</td>\n",
       "      <td>-2등급</td>\n",
       "      <td>-2등급</td>\n",
       "    </tr>\n",
       "    <tr>\n",
       "      <th>170</th>\n",
       "      <td>+2등급</td>\n",
       "      <td>+3등급</td>\n",
       "      <td>+3등급</td>\n",
       "      <td>+4등급</td>\n",
       "    </tr>\n",
       "    <tr>\n",
       "      <th>160</th>\n",
       "      <td>-1등급</td>\n",
       "      <td>-2등급</td>\n",
       "      <td>-4등급</td>\n",
       "      <td>-3등급</td>\n",
       "    </tr>\n",
       "    <tr>\n",
       "      <th>198</th>\n",
       "      <td>+2등급</td>\n",
       "      <td>+1등급</td>\n",
       "      <td>-2등급</td>\n",
       "      <td>-3등급</td>\n",
       "    </tr>\n",
       "    <tr>\n",
       "      <th>119</th>\n",
       "      <td>-2등급</td>\n",
       "      <td>-4등급</td>\n",
       "      <td>-4등급</td>\n",
       "      <td>-4등급</td>\n",
       "    </tr>\n",
       "    <tr>\n",
       "      <th>29</th>\n",
       "      <td>+1등급</td>\n",
       "      <td>-2등급</td>\n",
       "      <td>+2등급</td>\n",
       "      <td>+1등급</td>\n",
       "    </tr>\n",
       "    <tr>\n",
       "      <th>91</th>\n",
       "      <td>-1등급</td>\n",
       "      <td>-1등급</td>\n",
       "      <td>+3등급</td>\n",
       "      <td>+3등급</td>\n",
       "    </tr>\n",
       "    <tr>\n",
       "      <th>242</th>\n",
       "      <td>-1등급</td>\n",
       "      <td>-2등급</td>\n",
       "      <td>-3등급</td>\n",
       "      <td>-4등급</td>\n",
       "    </tr>\n",
       "    <tr>\n",
       "      <th>192</th>\n",
       "      <td>+1등급</td>\n",
       "      <td>-2등급</td>\n",
       "      <td>-3등급</td>\n",
       "      <td>-2등급</td>\n",
       "    </tr>\n",
       "    <tr>\n",
       "      <th>152</th>\n",
       "      <td>+1등급</td>\n",
       "      <td>-2등급</td>\n",
       "      <td>-2등급</td>\n",
       "      <td>-2등급</td>\n",
       "    </tr>\n",
       "    <tr>\n",
       "      <th>240</th>\n",
       "      <td>-2등급</td>\n",
       "      <td>-3등급</td>\n",
       "      <td>-4등급</td>\n",
       "      <td>-4등급</td>\n",
       "    </tr>\n",
       "    <tr>\n",
       "      <th>135</th>\n",
       "      <td>-1등급</td>\n",
       "      <td>+2등급</td>\n",
       "      <td>-1등급</td>\n",
       "      <td>-3등급</td>\n",
       "    </tr>\n",
       "    <tr>\n",
       "      <th>79</th>\n",
       "      <td>+2등급</td>\n",
       "      <td>+2등급</td>\n",
       "      <td>+2등급</td>\n",
       "      <td>+3등급</td>\n",
       "    </tr>\n",
       "    <tr>\n",
       "      <th>57</th>\n",
       "      <td>-1등급</td>\n",
       "      <td>+3등급</td>\n",
       "      <td>+3등급</td>\n",
       "      <td>+4등급</td>\n",
       "    </tr>\n",
       "    <tr>\n",
       "      <th>93</th>\n",
       "      <td>+2등급</td>\n",
       "      <td>-1등급</td>\n",
       "      <td>-1등급</td>\n",
       "      <td>+2등급</td>\n",
       "    </tr>\n",
       "    <tr>\n",
       "      <th>96</th>\n",
       "      <td>-1등급</td>\n",
       "      <td>-2등급</td>\n",
       "      <td>-3등급</td>\n",
       "      <td>+2등급</td>\n",
       "    </tr>\n",
       "    <tr>\n",
       "      <th>59</th>\n",
       "      <td>-1등급</td>\n",
       "      <td>-2등급</td>\n",
       "      <td>+2등급</td>\n",
       "      <td>5등급</td>\n",
       "    </tr>\n",
       "    <tr>\n",
       "      <th>71</th>\n",
       "      <td>-2등급</td>\n",
       "      <td>-3등급</td>\n",
       "      <td>-3등급</td>\n",
       "      <td>-4등급</td>\n",
       "    </tr>\n",
       "    <tr>\n",
       "      <th>116</th>\n",
       "      <td>-2등급</td>\n",
       "      <td>-2등급</td>\n",
       "      <td>-3등급</td>\n",
       "      <td>-4등급</td>\n",
       "    </tr>\n",
       "    <tr>\n",
       "      <th>42</th>\n",
       "      <td>-1등급</td>\n",
       "      <td>-3등급</td>\n",
       "      <td>+3등급</td>\n",
       "      <td>-2등급</td>\n",
       "    </tr>\n",
       "    <tr>\n",
       "      <th>121</th>\n",
       "      <td>-1등급</td>\n",
       "      <td>-2등급</td>\n",
       "      <td>-4등급</td>\n",
       "      <td>-4등급</td>\n",
       "    </tr>\n",
       "    <tr>\n",
       "      <th>11</th>\n",
       "      <td>+2등급</td>\n",
       "      <td>+2등급</td>\n",
       "      <td>+4등급</td>\n",
       "      <td>+2등급</td>\n",
       "    </tr>\n",
       "    <tr>\n",
       "      <th>177</th>\n",
       "      <td>-2등급</td>\n",
       "      <td>-2등급</td>\n",
       "      <td>-4등급</td>\n",
       "      <td>-3등급</td>\n",
       "    </tr>\n",
       "    <tr>\n",
       "      <th>203</th>\n",
       "      <td>-2등급</td>\n",
       "      <td>-3등급</td>\n",
       "      <td>-3등급</td>\n",
       "      <td>-4등급</td>\n",
       "    </tr>\n",
       "    <tr>\n",
       "      <th>74</th>\n",
       "      <td>+2등급</td>\n",
       "      <td>+3등급</td>\n",
       "      <td>+2등급</td>\n",
       "      <td>-2등급</td>\n",
       "    </tr>\n",
       "    <tr>\n",
       "      <th>216</th>\n",
       "      <td>+2등급</td>\n",
       "      <td>+2등급</td>\n",
       "      <td>+3등급</td>\n",
       "      <td>+4등급</td>\n",
       "    </tr>\n",
       "    <tr>\n",
       "      <th>117</th>\n",
       "      <td>-2등급</td>\n",
       "      <td>-3등급</td>\n",
       "      <td>-4등급</td>\n",
       "      <td>-4등급</td>\n",
       "    </tr>\n",
       "    <tr>\n",
       "      <th>2</th>\n",
       "      <td>+1등급</td>\n",
       "      <td>+1등급</td>\n",
       "      <td>-2등급</td>\n",
       "      <td>+1등급</td>\n",
       "    </tr>\n",
       "    <tr>\n",
       "      <th>88</th>\n",
       "      <td>+2등급</td>\n",
       "      <td>+3등급</td>\n",
       "      <td>+2등급</td>\n",
       "      <td>+4등급</td>\n",
       "    </tr>\n",
       "    <tr>\n",
       "      <th>10</th>\n",
       "      <td>-2등급</td>\n",
       "      <td>+1등급</td>\n",
       "      <td>+4등급</td>\n",
       "      <td>+1등급</td>\n",
       "    </tr>\n",
       "    <tr>\n",
       "      <th>120</th>\n",
       "      <td>+1등급</td>\n",
       "      <td>-2등급</td>\n",
       "      <td>-4등급</td>\n",
       "      <td>-4등급</td>\n",
       "    </tr>\n",
       "    <tr>\n",
       "      <th>229</th>\n",
       "      <td>-1등급</td>\n",
       "      <td>+2등급</td>\n",
       "      <td>+2등급</td>\n",
       "      <td>-2등급</td>\n",
       "    </tr>\n",
       "    <tr>\n",
       "      <th>89</th>\n",
       "      <td>-1등급</td>\n",
       "      <td>+3등급</td>\n",
       "      <td>+2등급</td>\n",
       "      <td>+4등급</td>\n",
       "    </tr>\n",
       "  </tbody>\n",
       "</table>\n",
       "</div>"
      ],
      "text/plain": [
       "    Diff1_clf Diff3_clf Diff5_clf Diff10_clf\n",
       "47       -1등급      -1등급      -1등급       +2등급\n",
       "211      -1등급      +3등급      +4등급       +1등급\n",
       "101      +1등급      +1등급      -3등급       -4등급\n",
       "153      +2등급      +2등급      +1등급       +2등급\n",
       "179      -2등급      -3등급      -3등급       -4등급\n",
       "188      -1등급      -2등급      +1등급       +3등급\n",
       "167      +1등급      +1등급      +3등급       +3등급\n",
       "9        +2등급      +3등급      +3등급       +2등급\n",
       "151      +1등급      -2등급      -2등급       -3등급\n",
       "183      +2등급      +1등급      +3등급       -1등급\n",
       "4        +2등급      -3등급      -2등급       -2등급\n",
       "63       -3등급      -2등급      -2등급       -1등급\n",
       "131      -1등급      +1등급      -2등급       -2등급\n",
       "178      -2등급      -1등급      -3등급       -4등급\n",
       "206      +1등급      -2등급      -4등급       -4등급\n",
       "21       -2등급      -2등급      +2등급       -4등급\n",
       "7        +3등급      +2등급      -2등급       -2등급\n",
       "170      +2등급      +3등급      +3등급       +4등급\n",
       "160      -1등급      -2등급      -4등급       -3등급\n",
       "198      +2등급      +1등급      -2등급       -3등급\n",
       "119      -2등급      -4등급      -4등급       -4등급\n",
       "29       +1등급      -2등급      +2등급       +1등급\n",
       "91       -1등급      -1등급      +3등급       +3등급\n",
       "242      -1등급      -2등급      -3등급       -4등급\n",
       "192      +1등급      -2등급      -3등급       -2등급\n",
       "152      +1등급      -2등급      -2등급       -2등급\n",
       "240      -2등급      -3등급      -4등급       -4등급\n",
       "135      -1등급      +2등급      -1등급       -3등급\n",
       "79       +2등급      +2등급      +2등급       +3등급\n",
       "57       -1등급      +3등급      +3등급       +4등급\n",
       "93       +2등급      -1등급      -1등급       +2등급\n",
       "96       -1등급      -2등급      -3등급       +2등급\n",
       "59       -1등급      -2등급      +2등급        5등급\n",
       "71       -2등급      -3등급      -3등급       -4등급\n",
       "116      -2등급      -2등급      -3등급       -4등급\n",
       "42       -1등급      -3등급      +3등급       -2등급\n",
       "121      -1등급      -2등급      -4등급       -4등급\n",
       "11       +2등급      +2등급      +4등급       +2등급\n",
       "177      -2등급      -2등급      -4등급       -3등급\n",
       "203      -2등급      -3등급      -3등급       -4등급\n",
       "74       +2등급      +3등급      +2등급       -2등급\n",
       "216      +2등급      +2등급      +3등급       +4등급\n",
       "117      -2등급      -3등급      -4등급       -4등급\n",
       "2        +1등급      +1등급      -2등급       +1등급\n",
       "88       +2등급      +3등급      +2등급       +4등급\n",
       "10       -2등급      +1등급      +4등급       +1등급\n",
       "120      +1등급      -2등급      -4등급       -4등급\n",
       "229      -1등급      +2등급      +2등급       -2등급\n",
       "89       -1등급      +3등급      +2등급       +4등급"
      ]
     },
     "execution_count": 166,
     "metadata": {},
     "output_type": "execute_result"
    }
   ],
   "source": [
    "y_test"
   ]
  },
  {
   "cell_type": "code",
   "execution_count": 154,
   "metadata": {},
   "outputs": [
    {
     "data": {
      "text/plain": [
       "array(['-4등급', '+2등급', '-2등급', '-5등급', '-1등급', '+4등급', '+3등급', '-3등급',\n",
       "       '+1등급', '5등급'], dtype=object)"
      ]
     },
     "execution_count": 154,
     "metadata": {},
     "output_type": "execute_result"
    }
   ],
   "source": [
    "y_train4.unique()"
   ]
  },
  {
   "cell_type": "code",
   "execution_count": 150,
   "metadata": {},
   "outputs": [
    {
     "data": {
      "text/plain": [
       "array(['+2등급', '+1등급', '-4등급', '+3등급', '-3등급', '-1등급', '-2등급', '+4등급',\n",
       "       '5등급'], dtype=object)"
      ]
     },
     "execution_count": 150,
     "metadata": {},
     "output_type": "execute_result"
    }
   ],
   "source": [
    "y_test4.unique()"
   ]
  },
  {
   "cell_type": "code",
   "execution_count": null,
   "metadata": {},
   "outputs": [],
   "source": []
  },
  {
   "cell_type": "code",
   "execution_count": null,
   "metadata": {},
   "outputs": [],
   "source": []
  },
  {
   "cell_type": "code",
   "execution_count": null,
   "metadata": {},
   "outputs": [],
   "source": []
  },
  {
   "cell_type": "code",
   "execution_count": null,
   "metadata": {},
   "outputs": [],
   "source": []
  },
  {
   "cell_type": "code",
   "execution_count": null,
   "metadata": {},
   "outputs": [],
   "source": [
    "fitting model on training data and transforming to test data????\n",
    "\n",
    "In layman's terms, fit_transform means to do some calculation and then do transformation \n",
    "(say calculating the means of columns from some data and then replacing the missing values). \n",
    "\n",
    "So for training set, you need to both calculate and do transformation.\n",
    "\n",
    "But for testing set, Machine learning applies prediction based on what was learned \n",
    "during the training set and so it doesn't need to calculate, it just performs the transformation."
   ]
  },
  {
   "cell_type": "code",
   "execution_count": null,
   "metadata": {},
   "outputs": [],
   "source": [
    "Code\n",
    "import numpy as np\n",
    "X_train, X_test, y_train, y_test = X[:60000], X[60000:], y[:60000], y[60000:]\n",
    "shuffle_index = np.random.permutation(60000)\n",
    "X_train, y_train = X_train[shuffle_index], y_train[shuffle_index]\n",
    "# 훈련 세트를 섞어 모든 교차 검증 폴드가 비슷해지도록 만들었습니다. 특정 학습 알고리즘은 훈련 샘플의 순서에 민감하게 반응해서 많은 비슷한 샘플이 연이어 나타나면 성능이 나빠집니다. 데이터셋을 섞으면 이러한 문제를 방지할 수 있습니다."
   ]
  },
  {
   "cell_type": "code",
   "execution_count": null,
   "metadata": {},
   "outputs": [],
   "source": [
    "# shift()함수는 밑으로 내리는 것\n",
    "# 그 전날꺼를 오른쪽에 붙이는 거 \n",
    "# day1C는 1일 전꺼의 가격을 의미\n",
    "df['day1C'] = df['Close'].shift(1)"
   ]
  }
 ],
 "metadata": {
  "kernelspec": {
   "display_name": "Python 3",
   "language": "python",
   "name": "python3"
  },
  "language_info": {
   "codemirror_mode": {
    "name": "ipython",
    "version": 3
   },
   "file_extension": ".py",
   "mimetype": "text/x-python",
   "name": "python",
   "nbconvert_exporter": "python",
   "pygments_lexer": "ipython3",
   "version": "3.6.5"
  }
 },
 "nbformat": 4,
 "nbformat_minor": 2
}
