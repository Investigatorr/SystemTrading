{
 "cells": [
  {
   "cell_type": "markdown",
   "metadata": {},
   "source": [
    "# 피보나치 수열구하기(멀티X)\n",
    "- 진행시간 측정 : time라이브러리의 time.time()함수\n",
    "- https://beomi.github.io/2017/07/05/HowToMakeWebCrawler-with-Multiprocess/"
   ]
  },
  {
   "cell_type": "code",
   "execution_count": null,
   "metadata": {},
   "outputs": [],
   "source": [
    "import time\n",
    "\n",
    "start_time = time.time()\n",
    "\n",
    "def fibo(n): # 회귀적 피보나치 함수\n",
    "    if n == 0:\n",
    "        return 0\n",
    "    elif n == 1:\n",
    "        return 1\n",
    "    else:\n",
    "        return fibo(n-1) + fibo(n-2)\n",
    "\n",
    "num_list = [31, 32, 33, 34]\n",
    "result_list = []\n",
    "for num in num_list:\n",
    "    result_list.append(fibo(num))\n",
    "\n",
    "print(result_list)\n",
    "print(\"--- %s seconds ---\" % (time.time() - start_time))"
   ]
  },
  {
   "cell_type": "markdown",
   "metadata": {},
   "source": [
    "# 피보나치 수열구하기(멀티O)"
   ]
  },
  {
   "cell_type": "code",
   "execution_count": null,
   "metadata": {},
   "outputs": [],
   "source": [
    "from multiprocessing import Pool\n",
    "import time\n",
    "\n",
    "start_time = time.time()\n",
    "\n",
    "def fibo(n):\n",
    "    if n == 0:\n",
    "        return 0\n",
    "    elif n == 1:\n",
    "        return 1\n",
    "    else:\n",
    "        return fibo(n-1) + fibo(n-2)\n",
    "\n",
    "def print_fibo(n): # 피보나치 결과를 확인합니다.\n",
    "    print(fibo(n))\n",
    "\n",
    "num_list = [31, 32, 33, 34]\n",
    "    \n",
    "pool = Pool(processes=2) # 4개의 프로세스를 사용합니다.\n",
    "pool.map(print_fibo, num_list) # pool에 일을 던져줍니다.\n",
    "\n",
    "print(\"--- %s seconds ---\" % (time.time() - start_time))"
   ]
  },
  {
   "cell_type": "markdown",
   "metadata": {},
   "source": [
    "# 블로그 제목 크롤러(멀티X)"
   ]
  },
  {
   "cell_type": "code",
   "execution_count": null,
   "metadata": {},
   "outputs": [],
   "source": [
    "# parser.py\n",
    "import requests\n",
    "from bs4 import BeautifulSoup as bs\n",
    "import time\n",
    "\n",
    "\n",
    "def get_links(): # 블로그의 게시글 링크들을 가져옵니다.\n",
    "    req = requests.get('https://beomi.github.io/beomi.github.io_old/')\n",
    "    html = req.text\n",
    "    soup = bs(html, 'html.parser')\n",
    "    my_titles = soup.select(\n",
    "        'h3 > a'\n",
    "        )\n",
    "    data = []\n",
    "\n",
    "    for title in my_titles:\n",
    "        data.append(title.get('href'))\n",
    "    return data\n",
    "\n",
    "def get_content(link):\n",
    "    abs_link = 'https://beomi.github.io'+link\n",
    "    req = requests.get(abs_link)\n",
    "    html = req.text\n",
    "    soup = bs(html, 'html.parser')\n",
    "    # 가져온 데이터로 뭔가 할 수 있겠죠?\n",
    "    # 하지만 일단 여기서는 시간만 확인해봅시다.\n",
    "    print(soup.select('h1')[0].text) # 첫 h1 태그를 봅시다.\n",
    "\n",
    "if __name__=='__main__':\n",
    "    start_time = time.time()\n",
    "    for link in get_links():\n",
    "        get_content(link)\n",
    "    print(\"--- %s seconds ---\" % (time.time() - start_time))"
   ]
  },
  {
   "cell_type": "markdown",
   "metadata": {},
   "source": [
    "# 블로그 제목 크롤러(멀티O)"
   ]
  },
  {
   "cell_type": "code",
   "execution_count": null,
   "metadata": {},
   "outputs": [],
   "source": [
    "# parser.py\n",
    "import requests\n",
    "from bs4 import BeautifulSoup as bs\n",
    "import time\n",
    "\n",
    "from multiprocessing import Pool # Pool import하기\n",
    "\n",
    "\n",
    "def get_links(): # 블로그의 게시글 링크들을 가져옵니다.\n",
    "    req = requests.get('https://beomi.github.io/beomi.github.io_old/')\n",
    "    html = req.text\n",
    "    soup = bs(html, 'html.parser')\n",
    "    my_titles = soup.select(\n",
    "        'h3 > a'\n",
    "        )\n",
    "    data = []\n",
    "\n",
    "    for title in my_titles:\n",
    "        data.append(title.get('href'))\n",
    "    return data\n",
    "\n",
    "def get_content(link):\n",
    "    abs_link = 'https://beomi.github.io'+link\n",
    "    req = requests.get(abs_link)\n",
    "    html = req.text\n",
    "    soup = bs(html, 'html.parser')\n",
    "    # 가져온 데이터로 뭔가 할 수 있겠죠?\n",
    "    # 하지만 일단 여기서는 시간만 확인해봅시다.\n",
    "    print(soup.select('h1')[0].text) # 첫 h1 태그를 봅시다.\n",
    "\n",
    "if __name__=='__main__':\n",
    "    start_time = time.time()\n",
    "    pool = Pool(processes=4) # 4개의 프로세스를 사용합니다.\n",
    "    pool.map(get_content, get_links()) # get_contetn 함수를 넣어줍시다.\n",
    "    print(\"--- %s seconds ---\" % (time.time() - start_time))"
   ]
  },
  {
   "cell_type": "code",
   "execution_count": null,
   "metadata": {},
   "outputs": [],
   "source": []
  },
  {
   "cell_type": "code",
   "execution_count": null,
   "metadata": {},
   "outputs": [],
   "source": []
  },
  {
   "cell_type": "code",
   "execution_count": null,
   "metadata": {},
   "outputs": [],
   "source": []
  },
  {
   "cell_type": "code",
   "execution_count": null,
   "metadata": {},
   "outputs": [],
   "source": []
  },
  {
   "cell_type": "code",
   "execution_count": null,
   "metadata": {},
   "outputs": [],
   "source": []
  }
 ],
 "metadata": {
  "kernelspec": {
   "display_name": "Python 3",
   "language": "python",
   "name": "python3"
  },
  "language_info": {
   "codemirror_mode": {
    "name": "ipython",
    "version": 3
   },
   "file_extension": ".py",
   "mimetype": "text/x-python",
   "name": "python",
   "nbconvert_exporter": "python",
   "pygments_lexer": "ipython3",
   "version": "3.6.5"
  }
 },
 "nbformat": 4,
 "nbformat_minor": 2
}
