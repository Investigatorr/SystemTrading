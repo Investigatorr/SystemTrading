{
 "cells": [
  {
   "cell_type": "markdown",
   "metadata": {},
   "source": [
    "# Doc2Vec"
   ]
  },
  {
   "cell_type": "markdown",
   "metadata": {},
   "source": [
    "### 위키+뉴스+30벡터"
   ]
  },
  {
   "cell_type": "code",
   "execution_count": null,
   "metadata": {},
   "outputs": [],
   "source": [
    "import gensim\n",
    "\n",
    "model = gensim.models.Doc2Vec.load(\"wiki_news_30/all_terms_30vectors\")"
   ]
  },
  {
   "cell_type": "code",
   "execution_count": null,
   "metadata": {},
   "outputs": [],
   "source": [
    "from pprint import pprint\n",
    "pprint(model.most_similar(u'', topn=20))"
   ]
  },
  {
   "cell_type": "code",
   "execution_count": null,
   "metadata": {},
   "outputs": [],
   "source": [
    "pprint(model.most_similar(positive=['여자', '왕'], negative=['남자']))"
   ]
  },
  {
   "cell_type": "markdown",
   "metadata": {},
   "source": [
    "### 위키+뉴스+100벡터"
   ]
  },
  {
   "cell_type": "code",
   "execution_count": null,
   "metadata": {},
   "outputs": [],
   "source": [
    "import gensim\n",
    "\n",
    "model = gensim.models.Doc2Vec.load(\"wiki_news_100/all_terms_50vectors\")"
   ]
  },
  {
   "cell_type": "code",
   "execution_count": null,
   "metadata": {},
   "outputs": [],
   "source": [
    "pprint(model.most_similar(positive=['여자', '왕'], negative=['남자']))"
   ]
  },
  {
   "cell_type": "code",
   "execution_count": null,
   "metadata": {},
   "outputs": [],
   "source": []
  },
  {
   "cell_type": "code",
   "execution_count": null,
   "metadata": {},
   "outputs": [],
   "source": []
  },
  {
   "cell_type": "markdown",
   "metadata": {},
   "source": [
    "# 이게 제일 학습 잘 된듯"
   ]
  },
  {
   "cell_type": "markdown",
   "metadata": {},
   "source": [
    "### 위키+1000벡터"
   ]
  },
  {
   "cell_type": "code",
   "execution_count": null,
   "metadata": {},
   "outputs": [],
   "source": [
    "import gensim\n",
    "\n",
    "model = gensim.models.KeyedVectors.load_word2vec_format(\"wiki_1000/wiki_dmpv_1000_no_taginfo_word2vec_format.bin\", binary = True)"
   ]
  },
  {
   "cell_type": "code",
   "execution_count": null,
   "metadata": {},
   "outputs": [],
   "source": [
    "pprint(model.most_similar(positive=['여자', '왕'], negative=['남자']))  # 여왕\n",
    "pprint(model.most_similar(positive=['한국', '도쿄'], negative=['서울'])) # 일본\n",
    "pprint(model.most_similar(positive=['한국', '대마도'], negative=['제주도'])) # 일본\n",
    "# pprint(model.most_similar(positive=['김정은', '한국'], negative=['북한'])) # 근데 인식 잘 안됨"
   ]
  },
  {
   "cell_type": "code",
   "execution_count": null,
   "metadata": {},
   "outputs": [],
   "source": []
  },
  {
   "cell_type": "code",
   "execution_count": null,
   "metadata": {},
   "outputs": [],
   "source": []
  },
  {
   "cell_type": "markdown",
   "metadata": {},
   "source": [
    "# Online Learning시킬 뉴스데이터 전처리"
   ]
  },
  {
   "cell_type": "code",
   "execution_count": null,
   "metadata": {},
   "outputs": [],
   "source": [
    "from eunjeon import Mecab\n",
    "from konlpy.tag import Twitter\n",
    "twitter = Twitter()\n",
    "mecab = Mecab()\n",
    "\n",
    "def read_data(filename):\n",
    "    with open(filename, 'r', encoding = 'utf-8') as f:\n",
    "        data =[line.split('\\t') for line in f.read().splitlines()]\n",
    "    from random import randint\n",
    "    random_data = [data[randint(1, len(data))] for no in range(int(len(data)/10))]\n",
    "    return random_data\n",
    "\n",
    "def tokenize(doc):\n",
    "    return ['/'.join(t) for t in mecab.pos(doc)]"
   ]
  },
  {
   "cell_type": "code",
   "execution_count": null,
   "metadata": {},
   "outputs": [],
   "source": [
    "maptrain_data[1]"
   ]
  },
  {
   "cell_type": "code",
   "execution_count": null,
   "metadata": {},
   "outputs": [],
   "source": [
    "from collections import namedtuple\n",
    "train_data = read_data('news_all.txt')"
   ]
  },
  {
   "cell_type": "code",
   "execution_count": null,
   "metadata": {},
   "outputs": [],
   "source": [
    "for row in train_data[1:5]:\n",
    "    print(row)"
   ]
  },
  {
   "cell_type": "markdown",
   "metadata": {},
   "source": [
    "### map (함수: 반복 가능한 자료형)\n",
    "- https://wayhome25.github.io/cs/2017/04/03/cs-03/\n",
    "- 리스트를 다룰 땐, 원소 갯수를 고려해 indexing을 해야한다.! 남의 코드 생각없이 넣으면 큰일."
   ]
  },
  {
   "cell_type": "code",
   "execution_count": null,
   "metadata": {},
   "outputs": [],
   "source": [
    "# for문 사용\n",
    "# train_docs = [(tokenize(row[0])) for row in train_data[1:5]]\n",
    "\n",
    "# 람다와 맵 사용\n",
    "train_docs = list(map(lambda x: tokenize(x[0]), train_data))"
   ]
  },
  {
   "cell_type": "markdown",
   "metadata": {},
   "source": [
    "### mecab 형태소 태그 설명\n",
    "- http://openuiz.blogspot.com/2016/07/mecab-ko-dic.html"
   ]
  },
  {
   "cell_type": "code",
   "execution_count": null,
   "metadata": {},
   "outputs": [],
   "source": [
    "train_docs[-1:]"
   ]
  },
  {
   "cell_type": "code",
   "execution_count": null,
   "metadata": {},
   "outputs": [],
   "source": [
    "len(train_docs)"
   ]
  },
  {
   "cell_type": "code",
   "execution_count": null,
   "metadata": {},
   "outputs": [],
   "source": [
    "a = '그래 니 똥 굵다.'\n",
    "print(twitter.pos(a))\n",
    "print(mecab.pos(a))"
   ]
  },
  {
   "cell_type": "markdown",
   "metadata": {},
   "source": [
    "# Online Learning 진행\n",
    "- 은 online training 기능 지원 안함~ 수고~\n",
    "- https://stackoverflow.com/questions/53616003/doc2vec-online-training"
   ]
  },
  {
   "cell_type": "code",
   "execution_count": null,
   "metadata": {},
   "outputs": [],
   "source": [
    "%%time\n",
    "from gensim.models import doc2vec\n",
    "doc_vectorizer = doc2vec.Doc2Vec(vector_size = 300, alpha = 0.025, min_alpha = 0.025, seed = 1234)\n",
    "doc_vectorizer.build_vacab(tagged_train_docs)\n",
    "\n",
    "for epoch in range(10):\n",
    "    doc_vectorizer.train(train_docs,\n",
    "                        total_examples = doc_vectorizer.corpus_count,\n",
    "                        epochs = doc_vectorizer.epochs)\n",
    "    doc_vectorizer.alpha -= 0.002\n",
    "    doc_vectorizer.min_alpha = doc_vectorizer.alpha\n",
    "    \n",
    "# 학습이 완료된 모델 데이터 저장\n",
    "doc_vectorizer.save('doc2vec_sample.model')"
   ]
  },
  {
   "cell_type": "markdown",
   "metadata": {},
   "source": [
    "# wiki 원본데이터 임포트\n",
    "- pos tagging형태가 다를 수 있음... 후...\n",
    "- 일단은 txt만 임포트해서 전처리 후 합치기 (1번+3번)"
   ]
  },
  {
   "cell_type": "code",
   "execution_count": null,
   "metadata": {},
   "outputs": [],
   "source": [
    "with open(\"1.wiki_data_mine.txt\" , \"r\", encoding = 'utf-8') as bigfile:\n",
    "    reader_original = bigfile.read()"
   ]
  },
  {
   "cell_type": "code",
   "execution_count": null,
   "metadata": {},
   "outputs": [],
   "source": [
    "reader_original[:10]"
   ]
  },
  {
   "cell_type": "code",
   "execution_count": null,
   "metadata": {},
   "outputs": [],
   "source": []
  },
  {
   "cell_type": "code",
   "execution_count": null,
   "metadata": {},
   "outputs": [],
   "source": []
  },
  {
   "cell_type": "code",
   "execution_count": null,
   "metadata": {},
   "outputs": [],
   "source": [
    "import codecs\n",
    "\n",
    "tagger = Twitter()\n",
    "corpus = codecs.open('corpus.txt', 'w', encoding='utf-8')\n",
    "\n",
    "def flat(content):\n",
    "    return [\"{}/{}\".format(word, tag) for word, tag in tagger.pos(content)]\n",
    "\n",
    "corpus.write(' '.join(flat(\"메이드복 입은 제이미 귀엽다\")) + '\\n')\n",
    "# 메이드/Noun 복/Noun 입은/Verb 제이/Noun 미/Adjective 귀엽/Adjective 다/Eomi"
   ]
  },
  {
   "cell_type": "code",
   "execution_count": null,
   "metadata": {},
   "outputs": [],
   "source": [
    "class SentenceReader:\n",
    "\n",
    "    def __init__(self, filepath):\n",
    "        self.filepath = filepath\n",
    "\n",
    "    def __iter__(self):\n",
    "        for line in codecs.open(self.filepath, encoding='utf-8'):\n",
    "            yield line.split(' ')"
   ]
  },
  {
   "cell_type": "code",
   "execution_count": null,
   "metadata": {},
   "outputs": [],
   "source": [
    "sentences_vocab = SentenceReader('2.wiki_data_pos_tokenizer_with_tag.txt')\n",
    "sentences_train = SentenceReader('corpus.txt')\n",
    "\n",
    "model = gensim.models.Word2Vec()\n",
    "model.build_vocab(sentences_vocab)\n",
    "model.train(sentences_train)"
   ]
  },
  {
   "cell_type": "code",
   "execution_count": null,
   "metadata": {},
   "outputs": [],
   "source": [
    "# 겐심 튜토리얼"
   ]
  },
  {
   "cell_type": "code",
   "execution_count": null,
   "metadata": {},
   "outputs": [],
   "source": []
  },
  {
   "cell_type": "code",
   "execution_count": null,
   "metadata": {},
   "outputs": [],
   "source": [
    "with open(\"1.wiki_data_mine.txt\" , \"r\", encoding = 'utf-8') as bigfile:\n",
    "    test1 = bigfile.read()"
   ]
  },
  {
   "cell_type": "code",
   "execution_count": 3,
   "metadata": {},
   "outputs": [],
   "source": [
    "test1 = ''"
   ]
  },
  {
   "cell_type": "code",
   "execution_count": null,
   "metadata": {},
   "outputs": [],
   "source": [
    "with open(\"1.wiki_data_mine.txt\" , \"r\", encoding = 'utf-8') as bigfile:\n",
    "    for line in bigfile:\n",
    "        test1 += line"
   ]
  },
  {
   "cell_type": "code",
   "execution_count": 1,
   "metadata": {},
   "outputs": [],
   "source": [
    "with open(\"3.news_all.txt\" , \"r\", encoding = 'utf-8') as bigfile:\n",
    "    test2 = bigfile.read()"
   ]
  },
  {
   "cell_type": "code",
   "execution_count": null,
   "metadata": {},
   "outputs": [],
   "source": [
    "import pandas as pd"
   ]
  },
  {
   "cell_type": "code",
   "execution_count": null,
   "metadata": {},
   "outputs": [],
   "source": []
  },
  {
   "cell_type": "code",
   "execution_count": null,
   "metadata": {},
   "outputs": [],
   "source": []
  }
 ],
 "metadata": {
  "kernelspec": {
   "display_name": "Python 3",
   "language": "python",
   "name": "python3"
  },
  "language_info": {
   "codemirror_mode": {
    "name": "ipython",
    "version": 3
   },
   "file_extension": ".py",
   "mimetype": "text/x-python",
   "name": "python",
   "nbconvert_exporter": "python",
   "pygments_lexer": "ipython3",
   "version": "3.6.5"
  }
 },
 "nbformat": 4,
 "nbformat_minor": 2
}
