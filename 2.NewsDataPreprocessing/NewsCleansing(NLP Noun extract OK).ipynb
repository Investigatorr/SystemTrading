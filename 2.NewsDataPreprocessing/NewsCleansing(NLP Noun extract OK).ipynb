{
 "cells": [
  {
   "cell_type": "code",
   "execution_count": 1,
   "metadata": {},
   "outputs": [],
   "source": [
    "import pandas as pd\n",
    "import numpy as np\n",
    "import re"
   ]
  },
  {
   "cell_type": "code",
   "execution_count": 2,
   "metadata": {},
   "outputs": [
    {
     "name": "stderr",
     "output_type": "stream",
     "text": [
      "C:\\Users\\sbg02\\Anaconda3\\lib\\site-packages\\konlpy\\tag\\_okt.py:16: UserWarning: \"Twitter\" has changed to \"Okt\" since KoNLPy v0.4.5.\n",
      "  warn('\"Twitter\" has changed to \"Okt\" since KoNLPy v0.4.5.')\n"
     ]
    }
   ],
   "source": [
    "from konlpy.tag import Twitter\n",
    "twitter = Twitter()"
   ]
  },
  {
   "cell_type": "markdown",
   "metadata": {},
   "source": [
    "### 데이터 불러오기"
   ]
  },
  {
   "cell_type": "code",
   "execution_count": 3,
   "metadata": {},
   "outputs": [
    {
     "data": {
      "text/html": [
       "<div>\n",
       "<style scoped>\n",
       "    .dataframe tbody tr th:only-of-type {\n",
       "        vertical-align: middle;\n",
       "    }\n",
       "\n",
       "    .dataframe tbody tr th {\n",
       "        vertical-align: top;\n",
       "    }\n",
       "\n",
       "    .dataframe thead th {\n",
       "        text-align: right;\n",
       "    }\n",
       "</style>\n",
       "<table border=\"1\" class=\"dataframe\">\n",
       "  <thead>\n",
       "    <tr style=\"text-align: right;\">\n",
       "      <th></th>\n",
       "      <th>TITLE</th>\n",
       "      <th>BODY</th>\n",
       "      <th>TIME</th>\n",
       "    </tr>\n",
       "  </thead>\n",
       "  <tbody>\n",
       "    <tr>\n",
       "      <th>0</th>\n",
       "      <td>삼성전자 강경훈 부사장 19일 구속심사</td>\n",
       "      <td>[theL]삼성에버랜드 노조 설립 방해·노조 와해 혐의에버랜드 노조 와해 의혹을 수...</td>\n",
       "      <td>2018.12.181953</td>\n",
       "    </tr>\n",
       "    <tr>\n",
       "      <th>1</th>\n",
       "      <td>檢 '노조 와해 의혹' 강경훈 삼성전자 부사장 구속영장 청구</td>\n",
       "      <td>[the L]'삼성 노조 와해 의혹'을 수사 중인 검찰이 강경훈 삼성전자 부사장에 ...</td>\n",
       "      <td>2018.12.181943</td>\n",
       "    </tr>\n",
       "    <tr>\n",
       "      <th>2</th>\n",
       "      <td>\"사회가 건강해야 기업도 발전\" 20년 넘은 삼성 나눔의 비결</td>\n",
       "      <td>[특집]삼성전자는 1995년 국내 기업 최초로 사회봉사단을 창단 사회문제 해결을 위...</td>\n",
       "      <td>2018.12.181830</td>\n",
       "    </tr>\n",
       "    <tr>\n",
       "      <th>3</th>\n",
       "      <td>4차 산업 혁신기업 인탑스, 스마트팩토리 중소벤처기업부 장관상 수상</td>\n",
       "      <td>인탑스(주)(대표 김근하 정사진)가 스마트팩토리 도입을 추진해 경북창조경제혁신센터가...</td>\n",
       "      <td>&amp;2018.12.181745</td>\n",
       "    </tr>\n",
       "    <tr>\n",
       "      <th>4</th>\n",
       "      <td>'에버랜드 노조와해' 삼성 노사총괄 부사장 내일 영장심사</td>\n",
       "      <td>염호석씨 시신탈취 과정서 뇌물수수 경찰관도 함께(서울=뉴스1) 나연준 기자 = 삼성...</td>\n",
       "      <td>12018.12.181710</td>\n",
       "    </tr>\n",
       "  </tbody>\n",
       "</table>\n",
       "</div>"
      ],
      "text/plain": [
       "                                   TITLE  \\\n",
       "0                  삼성전자 강경훈 부사장 19일 구속심사   \n",
       "1      檢 '노조 와해 의혹' 강경훈 삼성전자 부사장 구속영장 청구   \n",
       "2     \"사회가 건강해야 기업도 발전\" 20년 넘은 삼성 나눔의 비결   \n",
       "3  4차 산업 혁신기업 인탑스, 스마트팩토리 중소벤처기업부 장관상 수상   \n",
       "4        '에버랜드 노조와해' 삼성 노사총괄 부사장 내일 영장심사   \n",
       "\n",
       "                                                BODY             TIME  \n",
       "0  [theL]삼성에버랜드 노조 설립 방해·노조 와해 혐의에버랜드 노조 와해 의혹을 수...   2018.12.181953  \n",
       "1  [the L]'삼성 노조 와해 의혹'을 수사 중인 검찰이 강경훈 삼성전자 부사장에 ...   2018.12.181943  \n",
       "2  [특집]삼성전자는 1995년 국내 기업 최초로 사회봉사단을 창단 사회문제 해결을 위...   2018.12.181830  \n",
       "3  인탑스(주)(대표 김근하 정사진)가 스마트팩토리 도입을 추진해 경북창조경제혁신센터가...  &2018.12.181745  \n",
       "4  염호석씨 시신탈취 과정서 뇌물수수 경찰관도 함께(서울=뉴스1) 나연준 기자 = 삼성...  12018.12.181710  "
      ]
     },
     "execution_count": 3,
     "metadata": {},
     "output_type": "execute_result"
    }
   ],
   "source": [
    "df = pd.read_csv('C:/newsdata/삼성전자.csv',  encoding = 'utf-8 sig', engine = 'python')\n",
    "df.head()"
   ]
  },
  {
   "cell_type": "markdown",
   "metadata": {},
   "source": [
    "# 데이터 전처리"
   ]
  },
  {
   "cell_type": "markdown",
   "metadata": {},
   "source": [
    "### TIME클렌징1 - TIME칼럼 EDA\n",
    "1. for문 => 너무 복잡 & 시간이 필요<br>\n",
    "<코드>  ???\n",
    "2. RE => str으로 변환 뒤 '12018.' => '2018.'  으로 바꿔야 하는데 결과값이 Series가 아니라 \\t처리된 str으로 나온다.<br>\n",
    "<코드> pre3 = re.sub('[1\\d]{4}8\\.', '2018.', str(pre1))"
   ]
  },
  {
   "cell_type": "markdown",
   "metadata": {},
   "source": [
    "### (아래에서 끌어온 결과)\n",
    "#### 데이터 3등분 \n",
    "<코드> time['year'].unique()\n",
    "\n",
    "=> 결과<br>\n",
    "array(['2018', '12018', '-2018', '', '--2018', '3002018', '22018',\n",
    "       '+2018', '122018', '2017', '12017', '-2017', '22017', '112017',\n",
    "       '122017']<br><br>\n",
    "=> 뒤 숫자 4개만 남기면 정리될 듯?"
   ]
  },
  {
   "cell_type": "markdown",
   "metadata": {},
   "source": [
    "### 연도 클렌징 - 특수문자 &클렌징    (뒤에 더 좋은 방법이 있어서 불필요할듯...)"
   ]
  },
  {
   "cell_type": "code",
   "execution_count": 4,
   "metadata": {},
   "outputs": [
    {
     "data": {
      "text/plain": [
       "0     2018.12.181953\n",
       "1     2018.12.181943\n",
       "2     2018.12.181830\n",
       "3     2018.12.181745\n",
       "4    12018.12.181710\n",
       "Name: TIME, dtype: object"
      ]
     },
     "execution_count": 4,
     "metadata": {},
     "output_type": "execute_result"
    }
   ],
   "source": [
    "pre1 = pd.Series(df['TIME']).str.replace('&', '')\n",
    "pre1.head()"
   ]
  },
  {
   "cell_type": "markdown",
   "metadata": {},
   "source": [
    "### 연도 클렌징 - '.' 기준으로 칼럼 3등분 나누어 접근"
   ]
  },
  {
   "cell_type": "code",
   "execution_count": 5,
   "metadata": {},
   "outputs": [
    {
     "data": {
      "text/html": [
       "<div>\n",
       "<style scoped>\n",
       "    .dataframe tbody tr th:only-of-type {\n",
       "        vertical-align: middle;\n",
       "    }\n",
       "\n",
       "    .dataframe tbody tr th {\n",
       "        vertical-align: top;\n",
       "    }\n",
       "\n",
       "    .dataframe thead th {\n",
       "        text-align: right;\n",
       "    }\n",
       "</style>\n",
       "<table border=\"1\" class=\"dataframe\">\n",
       "  <thead>\n",
       "    <tr style=\"text-align: right;\">\n",
       "      <th></th>\n",
       "      <th>year</th>\n",
       "      <th>month</th>\n",
       "      <th>time</th>\n",
       "    </tr>\n",
       "  </thead>\n",
       "  <tbody>\n",
       "    <tr>\n",
       "      <th>0</th>\n",
       "      <td>2018</td>\n",
       "      <td>12</td>\n",
       "      <td>181953</td>\n",
       "    </tr>\n",
       "    <tr>\n",
       "      <th>1</th>\n",
       "      <td>2018</td>\n",
       "      <td>12</td>\n",
       "      <td>181943</td>\n",
       "    </tr>\n",
       "    <tr>\n",
       "      <th>2</th>\n",
       "      <td>2018</td>\n",
       "      <td>12</td>\n",
       "      <td>181830</td>\n",
       "    </tr>\n",
       "    <tr>\n",
       "      <th>3</th>\n",
       "      <td>2018</td>\n",
       "      <td>12</td>\n",
       "      <td>181745</td>\n",
       "    </tr>\n",
       "    <tr>\n",
       "      <th>4</th>\n",
       "      <td>12018</td>\n",
       "      <td>12</td>\n",
       "      <td>181710</td>\n",
       "    </tr>\n",
       "  </tbody>\n",
       "</table>\n",
       "</div>"
      ],
      "text/plain": [
       "    year month    time\n",
       "0   2018    12  181953\n",
       "1   2018    12  181943\n",
       "2   2018    12  181830\n",
       "3   2018    12  181745\n",
       "4  12018    12  181710"
      ]
     },
     "execution_count": 5,
     "metadata": {},
     "output_type": "execute_result"
    }
   ],
   "source": [
    "time = pd.DataFrame(pre1.str.split('.',2).tolist(), columns = ['year','month','time'])\n",
    "time.head()"
   ]
  },
  {
   "cell_type": "code",
   "execution_count": 6,
   "metadata": {},
   "outputs": [
    {
     "data": {
      "text/plain": [
       "'\\nhttps://www.geeksforgeeks.org/python-pandas-series-str-slice/\\nyear_clean = time.year[-4:]\\n\\nfor i in range(0,len(df)):\\n    df.iloc[i].col = df.iloc[i].col[:9]\\n    \\ndf.col = df.col.str[:9]   \\n    '"
      ]
     },
     "execution_count": 6,
     "metadata": {},
     "output_type": "execute_result"
    }
   ],
   "source": [
    "'''\n",
    "https://www.geeksforgeeks.org/python-pandas-series-str-slice/\n",
    "year_clean = time.year[-4:]\n",
    "\n",
    "for i in range(0,len(df)):\n",
    "    df.iloc[i].col = df.iloc[i].col[:9]\n",
    "    \n",
    "df.col = df.col.str[:9]   \n",
    "    '''"
   ]
  },
  {
   "cell_type": "markdown",
   "metadata": {},
   "source": [
    "### 연도 클렌징(실패) - 슬라이싱한 부분을 삭제하는 코드....ㅠ"
   ]
  },
  {
   "cell_type": "code",
   "execution_count": 7,
   "metadata": {},
   "outputs": [
    {
     "data": {
      "text/plain": [
       "'\\n# start stop and step variables \\nstart, stop, step = 0, -4, 1\\n  \\n# converting to string data type \\ndata[\"Salary\"]= data[\"Salary\"].astype(str) \\n  \\n# slicing till 4rd last element \\ntime[\\'year\\'] = time[\\'year\\'].str.slice(start, stop, step) \\n  \\n# display \\ntime.head()\\n'"
      ]
     },
     "execution_count": 7,
     "metadata": {},
     "output_type": "execute_result"
    }
   ],
   "source": [
    "'''\n",
    "# start stop and step variables \n",
    "start, stop, step = 0, -4, 1\n",
    "  \n",
    "# converting to string data type \n",
    "data[\"Salary\"]= data[\"Salary\"].astype(str) \n",
    "  \n",
    "# slicing till 4rd last element \n",
    "time['year'] = time['year'].str.slice(start, stop, step) \n",
    "  \n",
    "# display \n",
    "time.head()\n",
    "'''"
   ]
  },
  {
   "cell_type": "markdown",
   "metadata": {},
   "source": [
    "### 연도 클렌징(성공) - 람다 사용해 단순 백슬라이싱"
   ]
  },
  {
   "cell_type": "code",
   "execution_count": 8,
   "metadata": {},
   "outputs": [
    {
     "data": {
      "text/plain": [
       "array(['2018', '', '2017'], dtype=object)"
      ]
     },
     "execution_count": 8,
     "metadata": {},
     "output_type": "execute_result"
    }
   ],
   "source": [
    "time['year'] = time['year'].apply(lambda x: x[-4:])\n",
    "time['year'].unique()"
   ]
  },
  {
   "cell_type": "markdown",
   "metadata": {},
   "source": [
    "### 시간 클렌징 - 초 삭제"
   ]
  },
  {
   "cell_type": "code",
   "execution_count": 9,
   "metadata": {},
   "outputs": [
    {
     "data": {
      "text/html": [
       "<div>\n",
       "<style scoped>\n",
       "    .dataframe tbody tr th:only-of-type {\n",
       "        vertical-align: middle;\n",
       "    }\n",
       "\n",
       "    .dataframe tbody tr th {\n",
       "        vertical-align: top;\n",
       "    }\n",
       "\n",
       "    .dataframe thead th {\n",
       "        text-align: right;\n",
       "    }\n",
       "</style>\n",
       "<table border=\"1\" class=\"dataframe\">\n",
       "  <thead>\n",
       "    <tr style=\"text-align: right;\">\n",
       "      <th></th>\n",
       "      <th>year</th>\n",
       "      <th>month</th>\n",
       "      <th>time</th>\n",
       "    </tr>\n",
       "  </thead>\n",
       "  <tbody>\n",
       "    <tr>\n",
       "      <th>0</th>\n",
       "      <td>2018</td>\n",
       "      <td>12</td>\n",
       "      <td>1819</td>\n",
       "    </tr>\n",
       "    <tr>\n",
       "      <th>1</th>\n",
       "      <td>2018</td>\n",
       "      <td>12</td>\n",
       "      <td>1819</td>\n",
       "    </tr>\n",
       "    <tr>\n",
       "      <th>2</th>\n",
       "      <td>2018</td>\n",
       "      <td>12</td>\n",
       "      <td>1818</td>\n",
       "    </tr>\n",
       "    <tr>\n",
       "      <th>3</th>\n",
       "      <td>2018</td>\n",
       "      <td>12</td>\n",
       "      <td>1817</td>\n",
       "    </tr>\n",
       "    <tr>\n",
       "      <th>4</th>\n",
       "      <td>2018</td>\n",
       "      <td>12</td>\n",
       "      <td>1817</td>\n",
       "    </tr>\n",
       "  </tbody>\n",
       "</table>\n",
       "</div>"
      ],
      "text/plain": [
       "   year month  time\n",
       "0  2018    12  1819\n",
       "1  2018    12  1819\n",
       "2  2018    12  1818\n",
       "3  2018    12  1817\n",
       "4  2018    12  1817"
      ]
     },
     "execution_count": 9,
     "metadata": {},
     "output_type": "execute_result"
    }
   ],
   "source": [
    "# start stop and step variables \n",
    "start, stop, step = 0, -2, 1\n",
    "  \n",
    "# slicing till 2nd last element \n",
    "time['time'] = time['time'].str.slice(start, stop, step) \n",
    "  \n",
    "# display \n",
    "time.head()"
   ]
  },
  {
   "cell_type": "markdown",
   "metadata": {},
   "source": [
    "### 마무리 - 원본에 붙이기"
   ]
  },
  {
   "cell_type": "code",
   "execution_count": 10,
   "metadata": {},
   "outputs": [],
   "source": [
    "# 칼럼 삭제\n",
    "del df['TIME']"
   ]
  },
  {
   "cell_type": "code",
   "execution_count": 11,
   "metadata": {},
   "outputs": [
    {
     "data": {
      "text/html": [
       "<div>\n",
       "<style scoped>\n",
       "    .dataframe tbody tr th:only-of-type {\n",
       "        vertical-align: middle;\n",
       "    }\n",
       "\n",
       "    .dataframe tbody tr th {\n",
       "        vertical-align: top;\n",
       "    }\n",
       "\n",
       "    .dataframe thead th {\n",
       "        text-align: right;\n",
       "    }\n",
       "</style>\n",
       "<table border=\"1\" class=\"dataframe\">\n",
       "  <thead>\n",
       "    <tr style=\"text-align: right;\">\n",
       "      <th></th>\n",
       "      <th>TITLE</th>\n",
       "      <th>BODY</th>\n",
       "      <th>year</th>\n",
       "      <th>month</th>\n",
       "      <th>time</th>\n",
       "    </tr>\n",
       "  </thead>\n",
       "  <tbody>\n",
       "    <tr>\n",
       "      <th>0</th>\n",
       "      <td>삼성전자 강경훈 부사장 19일 구속심사</td>\n",
       "      <td>[theL]삼성에버랜드 노조 설립 방해·노조 와해 혐의에버랜드 노조 와해 의혹을 수...</td>\n",
       "      <td>2018</td>\n",
       "      <td>12</td>\n",
       "      <td>1819</td>\n",
       "    </tr>\n",
       "    <tr>\n",
       "      <th>1</th>\n",
       "      <td>檢 '노조 와해 의혹' 강경훈 삼성전자 부사장 구속영장 청구</td>\n",
       "      <td>[the L]'삼성 노조 와해 의혹'을 수사 중인 검찰이 강경훈 삼성전자 부사장에 ...</td>\n",
       "      <td>2018</td>\n",
       "      <td>12</td>\n",
       "      <td>1819</td>\n",
       "    </tr>\n",
       "    <tr>\n",
       "      <th>2</th>\n",
       "      <td>\"사회가 건강해야 기업도 발전\" 20년 넘은 삼성 나눔의 비결</td>\n",
       "      <td>[특집]삼성전자는 1995년 국내 기업 최초로 사회봉사단을 창단 사회문제 해결을 위...</td>\n",
       "      <td>2018</td>\n",
       "      <td>12</td>\n",
       "      <td>1818</td>\n",
       "    </tr>\n",
       "    <tr>\n",
       "      <th>3</th>\n",
       "      <td>4차 산업 혁신기업 인탑스, 스마트팩토리 중소벤처기업부 장관상 수상</td>\n",
       "      <td>인탑스(주)(대표 김근하 정사진)가 스마트팩토리 도입을 추진해 경북창조경제혁신센터가...</td>\n",
       "      <td>2018</td>\n",
       "      <td>12</td>\n",
       "      <td>1817</td>\n",
       "    </tr>\n",
       "    <tr>\n",
       "      <th>4</th>\n",
       "      <td>'에버랜드 노조와해' 삼성 노사총괄 부사장 내일 영장심사</td>\n",
       "      <td>염호석씨 시신탈취 과정서 뇌물수수 경찰관도 함께(서울=뉴스1) 나연준 기자 = 삼성...</td>\n",
       "      <td>2018</td>\n",
       "      <td>12</td>\n",
       "      <td>1817</td>\n",
       "    </tr>\n",
       "  </tbody>\n",
       "</table>\n",
       "</div>"
      ],
      "text/plain": [
       "                                   TITLE  \\\n",
       "0                  삼성전자 강경훈 부사장 19일 구속심사   \n",
       "1      檢 '노조 와해 의혹' 강경훈 삼성전자 부사장 구속영장 청구   \n",
       "2     \"사회가 건강해야 기업도 발전\" 20년 넘은 삼성 나눔의 비결   \n",
       "3  4차 산업 혁신기업 인탑스, 스마트팩토리 중소벤처기업부 장관상 수상   \n",
       "4        '에버랜드 노조와해' 삼성 노사총괄 부사장 내일 영장심사   \n",
       "\n",
       "                                                BODY  year month  time  \n",
       "0  [theL]삼성에버랜드 노조 설립 방해·노조 와해 혐의에버랜드 노조 와해 의혹을 수...  2018    12  1819  \n",
       "1  [the L]'삼성 노조 와해 의혹'을 수사 중인 검찰이 강경훈 삼성전자 부사장에 ...  2018    12  1819  \n",
       "2  [특집]삼성전자는 1995년 국내 기업 최초로 사회봉사단을 창단 사회문제 해결을 위...  2018    12  1818  \n",
       "3  인탑스(주)(대표 김근하 정사진)가 스마트팩토리 도입을 추진해 경북창조경제혁신센터가...  2018    12  1817  \n",
       "4  염호석씨 시신탈취 과정서 뇌물수수 경찰관도 함께(서울=뉴스1) 나연준 기자 = 삼성...  2018    12  1817  "
      ]
     },
     "execution_count": 11,
     "metadata": {},
     "output_type": "execute_result"
    }
   ],
   "source": [
    "# 칼럼 합치기\n",
    "df_timeok = pd.concat([df, time], axis = 1, sort = False)\n",
    "df_timeok.head()"
   ]
  },
  {
   "cell_type": "markdown",
   "metadata": {},
   "source": [
    "# 시간정제 끝!!   -결과 = df"
   ]
  },
  {
   "cell_type": "code",
   "execution_count": 12,
   "metadata": {},
   "outputs": [],
   "source": [
    "df = df_timeok"
   ]
  },
  {
   "cell_type": "code",
   "execution_count": 13,
   "metadata": {},
   "outputs": [
    {
     "data": {
      "text/html": [
       "<div>\n",
       "<style scoped>\n",
       "    .dataframe tbody tr th:only-of-type {\n",
       "        vertical-align: middle;\n",
       "    }\n",
       "\n",
       "    .dataframe tbody tr th {\n",
       "        vertical-align: top;\n",
       "    }\n",
       "\n",
       "    .dataframe thead th {\n",
       "        text-align: right;\n",
       "    }\n",
       "</style>\n",
       "<table border=\"1\" class=\"dataframe\">\n",
       "  <thead>\n",
       "    <tr style=\"text-align: right;\">\n",
       "      <th></th>\n",
       "      <th>TITLE</th>\n",
       "      <th>BODY</th>\n",
       "      <th>year</th>\n",
       "      <th>month</th>\n",
       "      <th>time</th>\n",
       "    </tr>\n",
       "  </thead>\n",
       "  <tbody>\n",
       "    <tr>\n",
       "      <th>0</th>\n",
       "      <td>삼성전자 강경훈 부사장 19일 구속심사</td>\n",
       "      <td>[theL]삼성에버랜드 노조 설립 방해·노조 와해 혐의에버랜드 노조 와해 의혹을 수...</td>\n",
       "      <td>2018</td>\n",
       "      <td>12</td>\n",
       "      <td>1819</td>\n",
       "    </tr>\n",
       "    <tr>\n",
       "      <th>1</th>\n",
       "      <td>檢 '노조 와해 의혹' 강경훈 삼성전자 부사장 구속영장 청구</td>\n",
       "      <td>[the L]'삼성 노조 와해 의혹'을 수사 중인 검찰이 강경훈 삼성전자 부사장에 ...</td>\n",
       "      <td>2018</td>\n",
       "      <td>12</td>\n",
       "      <td>1819</td>\n",
       "    </tr>\n",
       "    <tr>\n",
       "      <th>2</th>\n",
       "      <td>\"사회가 건강해야 기업도 발전\" 20년 넘은 삼성 나눔의 비결</td>\n",
       "      <td>[특집]삼성전자는 1995년 국내 기업 최초로 사회봉사단을 창단 사회문제 해결을 위...</td>\n",
       "      <td>2018</td>\n",
       "      <td>12</td>\n",
       "      <td>1818</td>\n",
       "    </tr>\n",
       "    <tr>\n",
       "      <th>3</th>\n",
       "      <td>4차 산업 혁신기업 인탑스, 스마트팩토리 중소벤처기업부 장관상 수상</td>\n",
       "      <td>인탑스(주)(대표 김근하 정사진)가 스마트팩토리 도입을 추진해 경북창조경제혁신센터가...</td>\n",
       "      <td>2018</td>\n",
       "      <td>12</td>\n",
       "      <td>1817</td>\n",
       "    </tr>\n",
       "    <tr>\n",
       "      <th>4</th>\n",
       "      <td>'에버랜드 노조와해' 삼성 노사총괄 부사장 내일 영장심사</td>\n",
       "      <td>염호석씨 시신탈취 과정서 뇌물수수 경찰관도 함께(서울=뉴스1) 나연준 기자 = 삼성...</td>\n",
       "      <td>2018</td>\n",
       "      <td>12</td>\n",
       "      <td>1817</td>\n",
       "    </tr>\n",
       "  </tbody>\n",
       "</table>\n",
       "</div>"
      ],
      "text/plain": [
       "                                   TITLE  \\\n",
       "0                  삼성전자 강경훈 부사장 19일 구속심사   \n",
       "1      檢 '노조 와해 의혹' 강경훈 삼성전자 부사장 구속영장 청구   \n",
       "2     \"사회가 건강해야 기업도 발전\" 20년 넘은 삼성 나눔의 비결   \n",
       "3  4차 산업 혁신기업 인탑스, 스마트팩토리 중소벤처기업부 장관상 수상   \n",
       "4        '에버랜드 노조와해' 삼성 노사총괄 부사장 내일 영장심사   \n",
       "\n",
       "                                                BODY  year month  time  \n",
       "0  [theL]삼성에버랜드 노조 설립 방해·노조 와해 혐의에버랜드 노조 와해 의혹을 수...  2018    12  1819  \n",
       "1  [the L]'삼성 노조 와해 의혹'을 수사 중인 검찰이 강경훈 삼성전자 부사장에 ...  2018    12  1819  \n",
       "2  [특집]삼성전자는 1995년 국내 기업 최초로 사회봉사단을 창단 사회문제 해결을 위...  2018    12  1818  \n",
       "3  인탑스(주)(대표 김근하 정사진)가 스마트팩토리 도입을 추진해 경북창조경제혁신센터가...  2018    12  1817  \n",
       "4  염호석씨 시신탈취 과정서 뇌물수수 경찰관도 함께(서울=뉴스1) 나연준 기자 = 삼성...  2018    12  1817  "
      ]
     },
     "execution_count": 13,
     "metadata": {},
     "output_type": "execute_result"
    }
   ],
   "source": [
    "df.head()"
   ]
  },
  {
   "cell_type": "markdown",
   "metadata": {},
   "source": [
    "### sample데이터만으로 pilot분석\n",
    "### 쉽게 해볼까?"
   ]
  },
  {
   "cell_type": "code",
   "execution_count": null,
   "metadata": {},
   "outputs": [],
   "source": [
    "df.head()"
   ]
  },
  {
   "cell_type": "code",
   "execution_count": null,
   "metadata": {},
   "outputs": [],
   "source": [
    "# 퍼포먼스 위해 일단 5개 data만 사용\n",
    "dfdf = df.head()\n",
    "dfdf"
   ]
  },
  {
   "cell_type": "code",
   "execution_count": null,
   "metadata": {},
   "outputs": [],
   "source": [
    "# title과 body부분을 한방에 먼저 합쳐버림\n",
    "dfdf['ab'] = dfdf.apply(lambda x : '{}|||{}'.format(x['TITLE'], x['BODY']), axis = 1)"
   ]
  },
  {
   "cell_type": "code",
   "execution_count": null,
   "metadata": {},
   "outputs": [],
   "source": [
    "dfdf"
   ]
  },
  {
   "cell_type": "code",
   "execution_count": null,
   "metadata": {},
   "outputs": [],
   "source": [
    "dfdf['ab'] = dfdf['ab'].astype(str)\n",
    "dfdf['abc'] = dfdf['ab'].apply(lambda x : twitter.nouns(x))"
   ]
  },
  {
   "cell_type": "code",
   "execution_count": null,
   "metadata": {},
   "outputs": [],
   "source": [
    "# 정상적으로 분석됐는지 확인 => 결과 양호\n",
    "dfdf.loc[0,'abc']"
   ]
  },
  {
   "cell_type": "markdown",
   "metadata": {},
   "source": [
    "### pilot분석 성공!!"
   ]
  },
  {
   "cell_type": "markdown",
   "metadata": {},
   "source": [
    "# 형태소 분석 - 명사 추출\n",
    "### pilot 성공 후 본겜!!"
   ]
  },
  {
   "cell_type": "code",
   "execution_count": 14,
   "metadata": {},
   "outputs": [],
   "source": [
    "# title과 body 합쳐서 새로운 칼럼 추가  구분자 : |||\n",
    "df['title_body_sum'] = df.apply(lambda x : '{}|||{}'.format(x['TITLE'], x['BODY']), axis = 1)"
   ]
  },
  {
   "cell_type": "code",
   "execution_count": 15,
   "metadata": {
    "scrolled": true
   },
   "outputs": [
    {
     "data": {
      "text/html": [
       "<div>\n",
       "<style scoped>\n",
       "    .dataframe tbody tr th:only-of-type {\n",
       "        vertical-align: middle;\n",
       "    }\n",
       "\n",
       "    .dataframe tbody tr th {\n",
       "        vertical-align: top;\n",
       "    }\n",
       "\n",
       "    .dataframe thead th {\n",
       "        text-align: right;\n",
       "    }\n",
       "</style>\n",
       "<table border=\"1\" class=\"dataframe\">\n",
       "  <thead>\n",
       "    <tr style=\"text-align: right;\">\n",
       "      <th></th>\n",
       "      <th>TITLE</th>\n",
       "      <th>BODY</th>\n",
       "      <th>year</th>\n",
       "      <th>month</th>\n",
       "      <th>time</th>\n",
       "      <th>title_body_sum</th>\n",
       "    </tr>\n",
       "  </thead>\n",
       "  <tbody>\n",
       "    <tr>\n",
       "      <th>0</th>\n",
       "      <td>삼성전자 강경훈 부사장 19일 구속심사</td>\n",
       "      <td>[theL]삼성에버랜드 노조 설립 방해·노조 와해 혐의에버랜드 노조 와해 의혹을 수...</td>\n",
       "      <td>2018</td>\n",
       "      <td>12</td>\n",
       "      <td>1819</td>\n",
       "      <td>삼성전자 강경훈 부사장 19일 구속심사|||[theL]삼성에버랜드 노조 설립 방해·...</td>\n",
       "    </tr>\n",
       "    <tr>\n",
       "      <th>1</th>\n",
       "      <td>檢 '노조 와해 의혹' 강경훈 삼성전자 부사장 구속영장 청구</td>\n",
       "      <td>[the L]'삼성 노조 와해 의혹'을 수사 중인 검찰이 강경훈 삼성전자 부사장에 ...</td>\n",
       "      <td>2018</td>\n",
       "      <td>12</td>\n",
       "      <td>1819</td>\n",
       "      <td>檢 '노조 와해 의혹' 강경훈 삼성전자 부사장 구속영장 청구|||[the L]'삼성...</td>\n",
       "    </tr>\n",
       "    <tr>\n",
       "      <th>2</th>\n",
       "      <td>\"사회가 건강해야 기업도 발전\" 20년 넘은 삼성 나눔의 비결</td>\n",
       "      <td>[특집]삼성전자는 1995년 국내 기업 최초로 사회봉사단을 창단 사회문제 해결을 위...</td>\n",
       "      <td>2018</td>\n",
       "      <td>12</td>\n",
       "      <td>1818</td>\n",
       "      <td>\"사회가 건강해야 기업도 발전\" 20년 넘은 삼성 나눔의 비결|||[특집]삼성전자는...</td>\n",
       "    </tr>\n",
       "    <tr>\n",
       "      <th>3</th>\n",
       "      <td>4차 산업 혁신기업 인탑스, 스마트팩토리 중소벤처기업부 장관상 수상</td>\n",
       "      <td>인탑스(주)(대표 김근하 정사진)가 스마트팩토리 도입을 추진해 경북창조경제혁신센터가...</td>\n",
       "      <td>2018</td>\n",
       "      <td>12</td>\n",
       "      <td>1817</td>\n",
       "      <td>4차 산업 혁신기업 인탑스, 스마트팩토리 중소벤처기업부 장관상 수상|||인탑스(주)...</td>\n",
       "    </tr>\n",
       "    <tr>\n",
       "      <th>4</th>\n",
       "      <td>'에버랜드 노조와해' 삼성 노사총괄 부사장 내일 영장심사</td>\n",
       "      <td>염호석씨 시신탈취 과정서 뇌물수수 경찰관도 함께(서울=뉴스1) 나연준 기자 = 삼성...</td>\n",
       "      <td>2018</td>\n",
       "      <td>12</td>\n",
       "      <td>1817</td>\n",
       "      <td>'에버랜드 노조와해' 삼성 노사총괄 부사장 내일 영장심사|||염호석씨 시신탈취 과정...</td>\n",
       "    </tr>\n",
       "  </tbody>\n",
       "</table>\n",
       "</div>"
      ],
      "text/plain": [
       "                                   TITLE  \\\n",
       "0                  삼성전자 강경훈 부사장 19일 구속심사   \n",
       "1      檢 '노조 와해 의혹' 강경훈 삼성전자 부사장 구속영장 청구   \n",
       "2     \"사회가 건강해야 기업도 발전\" 20년 넘은 삼성 나눔의 비결   \n",
       "3  4차 산업 혁신기업 인탑스, 스마트팩토리 중소벤처기업부 장관상 수상   \n",
       "4        '에버랜드 노조와해' 삼성 노사총괄 부사장 내일 영장심사   \n",
       "\n",
       "                                                BODY  year month  time  \\\n",
       "0  [theL]삼성에버랜드 노조 설립 방해·노조 와해 혐의에버랜드 노조 와해 의혹을 수...  2018    12  1819   \n",
       "1  [the L]'삼성 노조 와해 의혹'을 수사 중인 검찰이 강경훈 삼성전자 부사장에 ...  2018    12  1819   \n",
       "2  [특집]삼성전자는 1995년 국내 기업 최초로 사회봉사단을 창단 사회문제 해결을 위...  2018    12  1818   \n",
       "3  인탑스(주)(대표 김근하 정사진)가 스마트팩토리 도입을 추진해 경북창조경제혁신센터가...  2018    12  1817   \n",
       "4  염호석씨 시신탈취 과정서 뇌물수수 경찰관도 함께(서울=뉴스1) 나연준 기자 = 삼성...  2018    12  1817   \n",
       "\n",
       "                                      title_body_sum  \n",
       "0  삼성전자 강경훈 부사장 19일 구속심사|||[theL]삼성에버랜드 노조 설립 방해·...  \n",
       "1  檢 '노조 와해 의혹' 강경훈 삼성전자 부사장 구속영장 청구|||[the L]'삼성...  \n",
       "2  \"사회가 건강해야 기업도 발전\" 20년 넘은 삼성 나눔의 비결|||[특집]삼성전자는...  \n",
       "3  4차 산업 혁신기업 인탑스, 스마트팩토리 중소벤처기업부 장관상 수상|||인탑스(주)...  \n",
       "4  '에버랜드 노조와해' 삼성 노사총괄 부사장 내일 영장심사|||염호석씨 시신탈취 과정...  "
      ]
     },
     "execution_count": 15,
     "metadata": {},
     "output_type": "execute_result"
    }
   ],
   "source": [
    "# 확인\n",
    "df.head()\n",
    "#df.loc[1, 'title_body_sum']"
   ]
  },
  {
   "cell_type": "markdown",
   "metadata": {},
   "source": [
    "### 아래는 형태소 분석기 돌리는 코드\n",
    "#### 시간이 오래걸립니다!!!"
   ]
  },
  {
   "cell_type": "code",
   "execution_count": 16,
   "metadata": {},
   "outputs": [],
   "source": [
    "# 분석할 칼럼을 str으로 변환 확인 후 분석기 돌리기 (가끔 오류가 납니다...)\n",
    "df['title_body_sum'] = df['title_body_sum'].astype(str)\n",
    "df['NOUNS'] = df['title_body_sum'].apply(lambda x : twitter.nouns(x))"
   ]
  },
  {
   "cell_type": "code",
   "execution_count": 17,
   "metadata": {},
   "outputs": [
    {
     "data": {
      "text/html": [
       "<div>\n",
       "<style scoped>\n",
       "    .dataframe tbody tr th:only-of-type {\n",
       "        vertical-align: middle;\n",
       "    }\n",
       "\n",
       "    .dataframe tbody tr th {\n",
       "        vertical-align: top;\n",
       "    }\n",
       "\n",
       "    .dataframe thead th {\n",
       "        text-align: right;\n",
       "    }\n",
       "</style>\n",
       "<table border=\"1\" class=\"dataframe\">\n",
       "  <thead>\n",
       "    <tr style=\"text-align: right;\">\n",
       "      <th></th>\n",
       "      <th>TITLE</th>\n",
       "      <th>BODY</th>\n",
       "      <th>year</th>\n",
       "      <th>month</th>\n",
       "      <th>time</th>\n",
       "      <th>title_body_sum</th>\n",
       "      <th>NOUNS</th>\n",
       "    </tr>\n",
       "  </thead>\n",
       "  <tbody>\n",
       "    <tr>\n",
       "      <th>0</th>\n",
       "      <td>삼성전자 강경훈 부사장 19일 구속심사</td>\n",
       "      <td>[theL]삼성에버랜드 노조 설립 방해·노조 와해 혐의에버랜드 노조 와해 의혹을 수...</td>\n",
       "      <td>2018</td>\n",
       "      <td>12</td>\n",
       "      <td>1819</td>\n",
       "      <td>삼성전자 강경훈 부사장 19일 구속심사|||[theL]삼성에버랜드 노조 설립 방해·...</td>\n",
       "      <td>[삼성, 전자, 강경, 훈, 부사, 구속, 심사, 삼성, 에버랜드, 노조, 설립, ...</td>\n",
       "    </tr>\n",
       "    <tr>\n",
       "      <th>1</th>\n",
       "      <td>檢 '노조 와해 의혹' 강경훈 삼성전자 부사장 구속영장 청구</td>\n",
       "      <td>[the L]'삼성 노조 와해 의혹'을 수사 중인 검찰이 강경훈 삼성전자 부사장에 ...</td>\n",
       "      <td>2018</td>\n",
       "      <td>12</td>\n",
       "      <td>1819</td>\n",
       "      <td>檢 '노조 와해 의혹' 강경훈 삼성전자 부사장 구속영장 청구|||[the L]'삼성...</td>\n",
       "      <td>[노조, 의혹, 강경, 훈, 삼성, 전자, 부사, 구속영장, 청구, 삼성, 노조, ...</td>\n",
       "    </tr>\n",
       "    <tr>\n",
       "      <th>2</th>\n",
       "      <td>\"사회가 건강해야 기업도 발전\" 20년 넘은 삼성 나눔의 비결</td>\n",
       "      <td>[특집]삼성전자는 1995년 국내 기업 최초로 사회봉사단을 창단 사회문제 해결을 위...</td>\n",
       "      <td>2018</td>\n",
       "      <td>12</td>\n",
       "      <td>1818</td>\n",
       "      <td>\"사회가 건강해야 기업도 발전\" 20년 넘은 삼성 나눔의 비결|||[특집]삼성전자는...</td>\n",
       "      <td>[사회, 기업, 발전, 삼성, 나눔, 비결, 특집, 전자, 국내, 기업, 최초, 사...</td>\n",
       "    </tr>\n",
       "    <tr>\n",
       "      <th>3</th>\n",
       "      <td>4차 산업 혁신기업 인탑스, 스마트팩토리 중소벤처기업부 장관상 수상</td>\n",
       "      <td>인탑스(주)(대표 김근하 정사진)가 스마트팩토리 도입을 추진해 경북창조경제혁신센터가...</td>\n",
       "      <td>2018</td>\n",
       "      <td>12</td>\n",
       "      <td>1817</td>\n",
       "      <td>4차 산업 혁신기업 인탑스, 스마트팩토리 중소벤처기업부 장관상 수상|||인탑스(주)...</td>\n",
       "      <td>[차, 산업, 혁신, 기업, 인탑스, 스마트, 팩토리, 중소, 벤처기업, 부, 장관...</td>\n",
       "    </tr>\n",
       "    <tr>\n",
       "      <th>4</th>\n",
       "      <td>'에버랜드 노조와해' 삼성 노사총괄 부사장 내일 영장심사</td>\n",
       "      <td>염호석씨 시신탈취 과정서 뇌물수수 경찰관도 함께(서울=뉴스1) 나연준 기자 = 삼성...</td>\n",
       "      <td>2018</td>\n",
       "      <td>12</td>\n",
       "      <td>1817</td>\n",
       "      <td>'에버랜드 노조와해' 삼성 노사총괄 부사장 내일 영장심사|||염호석씨 시신탈취 과정...</td>\n",
       "      <td>[에버랜드, 노조, 해, 삼성, 노사, 총괄, 부사, 내일, 영장, 심사, 염호, ...</td>\n",
       "    </tr>\n",
       "  </tbody>\n",
       "</table>\n",
       "</div>"
      ],
      "text/plain": [
       "                                   TITLE  \\\n",
       "0                  삼성전자 강경훈 부사장 19일 구속심사   \n",
       "1      檢 '노조 와해 의혹' 강경훈 삼성전자 부사장 구속영장 청구   \n",
       "2     \"사회가 건강해야 기업도 발전\" 20년 넘은 삼성 나눔의 비결   \n",
       "3  4차 산업 혁신기업 인탑스, 스마트팩토리 중소벤처기업부 장관상 수상   \n",
       "4        '에버랜드 노조와해' 삼성 노사총괄 부사장 내일 영장심사   \n",
       "\n",
       "                                                BODY  year month  time  \\\n",
       "0  [theL]삼성에버랜드 노조 설립 방해·노조 와해 혐의에버랜드 노조 와해 의혹을 수...  2018    12  1819   \n",
       "1  [the L]'삼성 노조 와해 의혹'을 수사 중인 검찰이 강경훈 삼성전자 부사장에 ...  2018    12  1819   \n",
       "2  [특집]삼성전자는 1995년 국내 기업 최초로 사회봉사단을 창단 사회문제 해결을 위...  2018    12  1818   \n",
       "3  인탑스(주)(대표 김근하 정사진)가 스마트팩토리 도입을 추진해 경북창조경제혁신센터가...  2018    12  1817   \n",
       "4  염호석씨 시신탈취 과정서 뇌물수수 경찰관도 함께(서울=뉴스1) 나연준 기자 = 삼성...  2018    12  1817   \n",
       "\n",
       "                                      title_body_sum  \\\n",
       "0  삼성전자 강경훈 부사장 19일 구속심사|||[theL]삼성에버랜드 노조 설립 방해·...   \n",
       "1  檢 '노조 와해 의혹' 강경훈 삼성전자 부사장 구속영장 청구|||[the L]'삼성...   \n",
       "2  \"사회가 건강해야 기업도 발전\" 20년 넘은 삼성 나눔의 비결|||[특집]삼성전자는...   \n",
       "3  4차 산업 혁신기업 인탑스, 스마트팩토리 중소벤처기업부 장관상 수상|||인탑스(주)...   \n",
       "4  '에버랜드 노조와해' 삼성 노사총괄 부사장 내일 영장심사|||염호석씨 시신탈취 과정...   \n",
       "\n",
       "                                               NOUNS  \n",
       "0  [삼성, 전자, 강경, 훈, 부사, 구속, 심사, 삼성, 에버랜드, 노조, 설립, ...  \n",
       "1  [노조, 의혹, 강경, 훈, 삼성, 전자, 부사, 구속영장, 청구, 삼성, 노조, ...  \n",
       "2  [사회, 기업, 발전, 삼성, 나눔, 비결, 특집, 전자, 국내, 기업, 최초, 사...  \n",
       "3  [차, 산업, 혁신, 기업, 인탑스, 스마트, 팩토리, 중소, 벤처기업, 부, 장관...  \n",
       "4  [에버랜드, 노조, 해, 삼성, 노사, 총괄, 부사, 내일, 영장, 심사, 염호, ...  "
      ]
     },
     "execution_count": 17,
     "metadata": {},
     "output_type": "execute_result"
    }
   ],
   "source": [
    "df.head()"
   ]
  },
  {
   "cell_type": "code",
   "execution_count": 20,
   "metadata": {
    "scrolled": false
   },
   "outputs": [],
   "source": [
    "#df.loc[1, 'NOUNS']"
   ]
  },
  {
   "cell_type": "code",
   "execution_count": null,
   "metadata": {},
   "outputs": [],
   "source": []
  },
  {
   "cell_type": "code",
   "execution_count": null,
   "metadata": {},
   "outputs": [],
   "source": []
  },
  {
   "cell_type": "markdown",
   "metadata": {},
   "source": [
    "# ============================================================="
   ]
  },
  {
   "cell_type": "markdown",
   "metadata": {},
   "source": [
    "# 형태소 분석 삽질Part..... (공부용으로 사용)"
   ]
  },
  {
   "cell_type": "code",
   "execution_count": null,
   "metadata": {},
   "outputs": [],
   "source": [
    "# 제목에서 명사만 추출해 a라는 변수에 list형태로 저장\n",
    "# df['TITLE'].apply(lambda x : twitter.nouns(x))\n",
    "\n",
    "df['TITLE'] = df['TITLE'].astype(str)\n",
    "df['a'] = df['TITLE'].apply(lambda x : twitter.nouns(x))"
   ]
  },
  {
   "cell_type": "code",
   "execution_count": null,
   "metadata": {},
   "outputs": [],
   "source": [
    "# 오류때문에 본문을 str타입으로 변환하는 작업을 진행\n",
    "# 본문에서 명사만 추출해 b라는 변수에 list로 저장\n",
    "\n",
    "df['BODY'] = df['BODY'].astype(str)\n",
    "df['b'] = df['BODY'].apply(lambda x : twitter.nouns(x))"
   ]
  },
  {
   "cell_type": "code",
   "execution_count": null,
   "metadata": {},
   "outputs": [],
   "source": [
    "dfdf"
   ]
  },
  {
   "cell_type": "markdown",
   "metadata": {},
   "source": [
    "### title과 body의 데이터 합쳐서 원본df 옆에 새 칼럼 추가하기\n",
    "* 방법 1 : Series 형태로 나온걸 합친 뒤 df에 추가\n",
    "* 방법 2 : 각각 df에 추가한 뒤 두 칼럼 하나로 합치기\n",
    "    * => 방법 1이 더 퍼포먼스가 좋을 듯??\n",
    "* 아니면 애초에 title과 body를 합치고 분석기 돌리는게 나을수도...    =>    위에서 결국 쉽게 풀어버림...\n",
    "\n",
    "퍼포먼스를 고려한 합치기 timespend (멘토님말대로 람다가 최고)\n",
    "https://stackoverflow.com/questions/19377969/combine-two-columns-of-text-in-dataframe-in-pandas-python"
   ]
  },
  {
   "cell_type": "markdown",
   "metadata": {},
   "source": [
    "### 방법2"
   ]
  },
  {
   "cell_type": "code",
   "execution_count": null,
   "metadata": {},
   "outputs": [],
   "source": [
    "# 뽑아낸 데이터 만지기 위해 축소\n",
    "aa = a[:5]\n",
    "bb = b[:5]\n",
    "# 요렇게 하고 이것저것 실험"
   ]
  },
  {
   "cell_type": "code",
   "execution_count": null,
   "metadata": {},
   "outputs": [],
   "source": [
    "# 원본 데이터 프레임에 임시로 추가\n",
    "df['a'] = a\n",
    "df['b'] = b\n",
    "df.tail()"
   ]
  },
  {
   "cell_type": "code",
   "execution_count": null,
   "metadata": {},
   "outputs": [],
   "source": [
    "dfdf = df.head()"
   ]
  },
  {
   "cell_type": "code",
   "execution_count": null,
   "metadata": {},
   "outputs": [],
   "source": [
    "dfdf"
   ]
  },
  {
   "cell_type": "code",
   "execution_count": null,
   "metadata": {},
   "outputs": [],
   "source": [
    "# title과 body의 명사를 합쳐서 하나의 칼럼으로 만들기\n"
   ]
  },
  {
   "cell_type": "code",
   "execution_count": null,
   "metadata": {},
   "outputs": [],
   "source": [
    "# 파워풀 람다 합치기\n",
    "dfdf['ab'] = dfdf.apply(lambda x : '{}{}'.format(x['a'], x['b']), axis = 1)"
   ]
  },
  {
   "cell_type": "code",
   "execution_count": null,
   "metadata": {},
   "outputs": [],
   "source": [
    "# 합쳐지긴 했는데 칼럼에 list가 두개가 있다.\n",
    "dfdf.loc[1, 'ab']"
   ]
  },
  {
   "cell_type": "code",
   "execution_count": null,
   "metadata": {},
   "outputs": [],
   "source": [
    "dfdf['ab'] = dfdf[['a', 'b']].apply(lambda x :''.join(x), axis = 1)\n",
    "#df['period'] = df[['Year', 'quarter']].apply(lambda x: ''.join(x), axis=1)"
   ]
  },
  {
   "cell_type": "markdown",
   "metadata": {},
   "source": [
    "### 리스트 붙이는 TEST\n",
    "a1 = [1,2,3]<br>\n",
    "b1 = [9,8,7]<br><br>\n",
    "\n",
    "a1.append(b1)<br>\n",
    "print(a1)<br><br>\n",
    "a1.extend(b1)<br>\n",
    "print(a1)<br>\n",
    "> append()는 원본 리스트 '속'에다 새 리스트를 집어넣는 함수\n",
    "> extend()는 원본 리스트 옆에 새 리스트를 나란히 붙이는 함수"
   ]
  },
  {
   "cell_type": "code",
   "execution_count": null,
   "metadata": {},
   "outputs": [],
   "source": [
    "# 중복데이터 제거 후 합쳐주는 함수 (list set)\n",
    "df['ids'] = df['ids'].apply(lambda x: list(set(x)))\n",
    "\n",
    "# 두 시리즈에서 조건에 맞는 것만 골라 가져오는 함수\n",
    "s1.combine(s2, lambda x1, x2: x1 if x1 < x2 else x2)"
   ]
  },
  {
   "cell_type": "code",
   "execution_count": null,
   "metadata": {},
   "outputs": [],
   "source": [
    "df['name'] = df['name'].apply(lambda e: e.split()[0])\n",
    "\n",
    ">>> from timeit import Timer\n",
    ">>> t = {}\n",
    ">>> t['methodcaller'] = Timer(\"map(methodcaller('split', ' '), a)\", \"from operator import methodcaller; a=['2011-12-22 46:31:11','2011-12-20 20:19:17', '2011-12-20 01:09:21']\")\n",
    ">>> t['lambda'] = Timer(\"map(lambda s: s.split(), a)\", \"a = ['2011-12-22 46:31:11','2011-12-20 20:19:17', '2011-12-20 01:09:21']\")\n",
    ">>> t['listcomp'] = Timer(\"[s.split() for s in a]\", \"a = ['2011-12-22 46:31:11','2011-12-20 20:19:17', '2011-12-20 01:09:21']\")\n",
    ">>> for name, timer in t.items():\n",
    "...     print '%s: %.2f usec/pass' % (name, 1000000 * timer.timeit(number=100000)/100000)\n",
    "... \n",
    "listcomp: 2.08 usec/pass\n",
    "methodcaller: 2.87 usec/pass\n",
    "lambda: 3.10 usec/pass"
   ]
  }
 ],
 "metadata": {
  "kernelspec": {
   "display_name": "Python 3",
   "language": "python",
   "name": "python3"
  },
  "language_info": {
   "codemirror_mode": {
    "name": "ipython",
    "version": 3
   },
   "file_extension": ".py",
   "mimetype": "text/x-python",
   "name": "python",
   "nbconvert_exporter": "python",
   "pygments_lexer": "ipython3",
   "version": "3.6.5"
  }
 },
 "nbformat": 4,
 "nbformat_minor": 2
}
