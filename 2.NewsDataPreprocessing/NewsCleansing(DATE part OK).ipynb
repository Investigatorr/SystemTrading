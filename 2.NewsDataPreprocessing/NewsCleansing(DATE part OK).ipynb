{
 "cells": [
  {
   "cell_type": "code",
   "execution_count": 98,
   "metadata": {},
   "outputs": [],
   "source": [
    "import pandas as pd\n",
    "import numpy as np\n",
    "import re"
   ]
  },
  {
   "cell_type": "code",
   "execution_count": 5,
   "metadata": {},
   "outputs": [
    {
     "name": "stderr",
     "output_type": "stream",
     "text": [
      "C:\\Users\\sbg02\\Anaconda3\\lib\\site-packages\\konlpy\\tag\\_okt.py:16: UserWarning: \"Twitter\" has changed to \"Okt\" since KoNLPy v0.4.5.\n",
      "  warn('\"Twitter\" has changed to \"Okt\" since KoNLPy v0.4.5.')\n"
     ]
    }
   ],
   "source": [
    "from konlpy.tag import Twitter\n",
    "twitter = Twitter()"
   ]
  },
  {
   "cell_type": "markdown",
   "metadata": {},
   "source": [
    "### 데이터 불러오기"
   ]
  },
  {
   "cell_type": "code",
   "execution_count": 105,
   "metadata": {},
   "outputs": [
    {
     "data": {
      "text/html": [
       "<div>\n",
       "<style scoped>\n",
       "    .dataframe tbody tr th:only-of-type {\n",
       "        vertical-align: middle;\n",
       "    }\n",
       "\n",
       "    .dataframe tbody tr th {\n",
       "        vertical-align: top;\n",
       "    }\n",
       "\n",
       "    .dataframe thead th {\n",
       "        text-align: right;\n",
       "    }\n",
       "</style>\n",
       "<table border=\"1\" class=\"dataframe\">\n",
       "  <thead>\n",
       "    <tr style=\"text-align: right;\">\n",
       "      <th></th>\n",
       "      <th>TITLE</th>\n",
       "      <th>BODY</th>\n",
       "      <th>TIME</th>\n",
       "    </tr>\n",
       "  </thead>\n",
       "  <tbody>\n",
       "    <tr>\n",
       "      <th>0</th>\n",
       "      <td>삼성전자 강경훈 부사장 19일 구속심사</td>\n",
       "      <td>[theL]삼성에버랜드 노조 설립 방해·노조 와해 혐의에버랜드 노조 와해 의혹을 수...</td>\n",
       "      <td>2018.12.181953</td>\n",
       "    </tr>\n",
       "    <tr>\n",
       "      <th>1</th>\n",
       "      <td>檢 '노조 와해 의혹' 강경훈 삼성전자 부사장 구속영장 청구</td>\n",
       "      <td>[the L]'삼성 노조 와해 의혹'을 수사 중인 검찰이 강경훈 삼성전자 부사장에 ...</td>\n",
       "      <td>2018.12.181943</td>\n",
       "    </tr>\n",
       "    <tr>\n",
       "      <th>2</th>\n",
       "      <td>\"사회가 건강해야 기업도 발전\" 20년 넘은 삼성 나눔의 비결</td>\n",
       "      <td>[특집]삼성전자는 1995년 국내 기업 최초로 사회봉사단을 창단 사회문제 해결을 위...</td>\n",
       "      <td>2018.12.181830</td>\n",
       "    </tr>\n",
       "    <tr>\n",
       "      <th>3</th>\n",
       "      <td>4차 산업 혁신기업 인탑스, 스마트팩토리 중소벤처기업부 장관상 수상</td>\n",
       "      <td>인탑스(주)(대표 김근하 정사진)가 스마트팩토리 도입을 추진해 경북창조경제혁신센터가...</td>\n",
       "      <td>&amp;2018.12.181745</td>\n",
       "    </tr>\n",
       "    <tr>\n",
       "      <th>4</th>\n",
       "      <td>'에버랜드 노조와해' 삼성 노사총괄 부사장 내일 영장심사</td>\n",
       "      <td>염호석씨 시신탈취 과정서 뇌물수수 경찰관도 함께(서울=뉴스1) 나연준 기자 = 삼성...</td>\n",
       "      <td>12018.12.181710</td>\n",
       "    </tr>\n",
       "  </tbody>\n",
       "</table>\n",
       "</div>"
      ],
      "text/plain": [
       "                                   TITLE  \\\n",
       "0                  삼성전자 강경훈 부사장 19일 구속심사   \n",
       "1      檢 '노조 와해 의혹' 강경훈 삼성전자 부사장 구속영장 청구   \n",
       "2     \"사회가 건강해야 기업도 발전\" 20년 넘은 삼성 나눔의 비결   \n",
       "3  4차 산업 혁신기업 인탑스, 스마트팩토리 중소벤처기업부 장관상 수상   \n",
       "4        '에버랜드 노조와해' 삼성 노사총괄 부사장 내일 영장심사   \n",
       "\n",
       "                                                BODY             TIME  \n",
       "0  [theL]삼성에버랜드 노조 설립 방해·노조 와해 혐의에버랜드 노조 와해 의혹을 수...   2018.12.181953  \n",
       "1  [the L]'삼성 노조 와해 의혹'을 수사 중인 검찰이 강경훈 삼성전자 부사장에 ...   2018.12.181943  \n",
       "2  [특집]삼성전자는 1995년 국내 기업 최초로 사회봉사단을 창단 사회문제 해결을 위...   2018.12.181830  \n",
       "3  인탑스(주)(대표 김근하 정사진)가 스마트팩토리 도입을 추진해 경북창조경제혁신센터가...  &2018.12.181745  \n",
       "4  염호석씨 시신탈취 과정서 뇌물수수 경찰관도 함께(서울=뉴스1) 나연준 기자 = 삼성...  12018.12.181710  "
      ]
     },
     "execution_count": 105,
     "metadata": {},
     "output_type": "execute_result"
    }
   ],
   "source": [
    "df = pd.read_csv('C:/newsdata/삼성전자.csv',  encoding = 'utf-8 sig', engine = 'python')\n",
    "df.head()"
   ]
  },
  {
   "cell_type": "markdown",
   "metadata": {},
   "source": [
    "# 데이터 전처리"
   ]
  },
  {
   "cell_type": "markdown",
   "metadata": {},
   "source": [
    "### TIME클렌징1 - TIME칼럼 EDA\n",
    "1. for문 => 너무 복잡 & 시간이 필요<br>\n",
    "<코드>  ???\n",
    "2. RE => str으로 변환 뒤 '12018.' => '2018.'  으로 바꿔야 하는데 결과값이 Series가 아니라 \\t처리된 str으로 나온다.<br>\n",
    "<코드> pre3 = re.sub('[1\\d]{4}8\\.', '2018.', str(pre1))"
   ]
  },
  {
   "cell_type": "markdown",
   "metadata": {},
   "source": [
    "### (아래에서 끌어온 결과)\n",
    "#### 데이터 3등분 \n",
    "<코드> time['year'].unique()\n",
    "\n",
    "=> 결과<br>\n",
    "array(['2018', '12018', '-2018', '', '--2018', '3002018', '22018',\n",
    "       '+2018', '122018', '2017', '12017', '-2017', '22017', '112017',\n",
    "       '122017']<br><br>\n",
    "=> 뒤 숫자 4개만 남기면 정리될 듯?"
   ]
  },
  {
   "cell_type": "markdown",
   "metadata": {},
   "source": [
    "### 연도 클렌징 - 특수문자 &클렌징    (뒤에 더 좋은 방법이 있어서 불필요할듯...)"
   ]
  },
  {
   "cell_type": "code",
   "execution_count": 141,
   "metadata": {},
   "outputs": [
    {
     "data": {
      "text/plain": [
       "0     2018.12.181953\n",
       "1     2018.12.181943\n",
       "2     2018.12.181830\n",
       "3     2018.12.181745\n",
       "4    12018.12.181710\n",
       "Name: TIME, dtype: object"
      ]
     },
     "execution_count": 141,
     "metadata": {},
     "output_type": "execute_result"
    }
   ],
   "source": [
    "pre1 = pd.Series(df['TIME']).str.replace('&', '')\n",
    "pre1.head()"
   ]
  },
  {
   "cell_type": "markdown",
   "metadata": {},
   "source": [
    "### 연도 클렌징 - '.' 기준으로 칼럼 3등분 나누어 접근"
   ]
  },
  {
   "cell_type": "code",
   "execution_count": 171,
   "metadata": {},
   "outputs": [
    {
     "data": {
      "text/html": [
       "<div>\n",
       "<style scoped>\n",
       "    .dataframe tbody tr th:only-of-type {\n",
       "        vertical-align: middle;\n",
       "    }\n",
       "\n",
       "    .dataframe tbody tr th {\n",
       "        vertical-align: top;\n",
       "    }\n",
       "\n",
       "    .dataframe thead th {\n",
       "        text-align: right;\n",
       "    }\n",
       "</style>\n",
       "<table border=\"1\" class=\"dataframe\">\n",
       "  <thead>\n",
       "    <tr style=\"text-align: right;\">\n",
       "      <th></th>\n",
       "      <th>year</th>\n",
       "      <th>month</th>\n",
       "      <th>time</th>\n",
       "    </tr>\n",
       "  </thead>\n",
       "  <tbody>\n",
       "    <tr>\n",
       "      <th>0</th>\n",
       "      <td>2018</td>\n",
       "      <td>12</td>\n",
       "      <td>181953</td>\n",
       "    </tr>\n",
       "    <tr>\n",
       "      <th>1</th>\n",
       "      <td>2018</td>\n",
       "      <td>12</td>\n",
       "      <td>181943</td>\n",
       "    </tr>\n",
       "    <tr>\n",
       "      <th>2</th>\n",
       "      <td>2018</td>\n",
       "      <td>12</td>\n",
       "      <td>181830</td>\n",
       "    </tr>\n",
       "    <tr>\n",
       "      <th>3</th>\n",
       "      <td>2018</td>\n",
       "      <td>12</td>\n",
       "      <td>181745</td>\n",
       "    </tr>\n",
       "    <tr>\n",
       "      <th>4</th>\n",
       "      <td>12018</td>\n",
       "      <td>12</td>\n",
       "      <td>181710</td>\n",
       "    </tr>\n",
       "  </tbody>\n",
       "</table>\n",
       "</div>"
      ],
      "text/plain": [
       "    year month    time\n",
       "0   2018    12  181953\n",
       "1   2018    12  181943\n",
       "2   2018    12  181830\n",
       "3   2018    12  181745\n",
       "4  12018    12  181710"
      ]
     },
     "execution_count": 171,
     "metadata": {},
     "output_type": "execute_result"
    }
   ],
   "source": [
    "time = pd.DataFrame(pre1.str.split('.',2).tolist(), columns = ['year','month','time'])\n",
    "time.head()"
   ]
  },
  {
   "cell_type": "code",
   "execution_count": 147,
   "metadata": {},
   "outputs": [
    {
     "data": {
      "text/plain": [
       "8276    2017\n",
       "8277    2017\n",
       "8278    2017\n",
       "8279    2017\n",
       "Name: year, dtype: object"
      ]
     },
     "execution_count": 147,
     "metadata": {},
     "output_type": "execute_result"
    }
   ],
   "source": [
    "'''\n",
    "https://www.geeksforgeeks.org/python-pandas-series-str-slice/\n",
    "year_clean = time.year[-4:]\n",
    "\n",
    "for i in range(0,len(df)):\n",
    "    df.iloc[i].col = df.iloc[i].col[:9]\n",
    "    \n",
    "df.col = df.col.str[:9]   \n",
    "    '''"
   ]
  },
  {
   "cell_type": "markdown",
   "metadata": {},
   "source": [
    "### 연도 클렌징(실패) - 슬라이싱한 부분을 삭제하는 코드....ㅠ"
   ]
  },
  {
   "cell_type": "code",
   "execution_count": 156,
   "metadata": {},
   "outputs": [
    {
     "data": {
      "text/html": [
       "<div>\n",
       "<style scoped>\n",
       "    .dataframe tbody tr th:only-of-type {\n",
       "        vertical-align: middle;\n",
       "    }\n",
       "\n",
       "    .dataframe tbody tr th {\n",
       "        vertical-align: top;\n",
       "    }\n",
       "\n",
       "    .dataframe thead th {\n",
       "        text-align: right;\n",
       "    }\n",
       "</style>\n",
       "<table border=\"1\" class=\"dataframe\">\n",
       "  <thead>\n",
       "    <tr style=\"text-align: right;\">\n",
       "      <th></th>\n",
       "      <th>year</th>\n",
       "      <th>month</th>\n",
       "      <th>time</th>\n",
       "    </tr>\n",
       "  </thead>\n",
       "  <tbody>\n",
       "    <tr>\n",
       "      <th>0</th>\n",
       "      <td></td>\n",
       "      <td>12</td>\n",
       "      <td>181953</td>\n",
       "    </tr>\n",
       "    <tr>\n",
       "      <th>1</th>\n",
       "      <td></td>\n",
       "      <td>12</td>\n",
       "      <td>181943</td>\n",
       "    </tr>\n",
       "    <tr>\n",
       "      <th>2</th>\n",
       "      <td></td>\n",
       "      <td>12</td>\n",
       "      <td>181830</td>\n",
       "    </tr>\n",
       "    <tr>\n",
       "      <th>3</th>\n",
       "      <td></td>\n",
       "      <td>12</td>\n",
       "      <td>181745</td>\n",
       "    </tr>\n",
       "    <tr>\n",
       "      <th>4</th>\n",
       "      <td>1</td>\n",
       "      <td>12</td>\n",
       "      <td>181710</td>\n",
       "    </tr>\n",
       "  </tbody>\n",
       "</table>\n",
       "</div>"
      ],
      "text/plain": [
       "  year month    time\n",
       "0         12  181953\n",
       "1         12  181943\n",
       "2         12  181830\n",
       "3         12  181745\n",
       "4    1    12  181710"
      ]
     },
     "execution_count": 156,
     "metadata": {},
     "output_type": "execute_result"
    }
   ],
   "source": [
    "'''\n",
    "# start stop and step variables \n",
    "start, stop, step = 0, -4, 1\n",
    "  \n",
    "# converting to string data type \n",
    "data[\"Salary\"]= data[\"Salary\"].astype(str) \n",
    "  \n",
    "# slicing till 4rd last element \n",
    "time['year'] = time['year'].str.slice(start, stop, step) \n",
    "  \n",
    "# display \n",
    "time.head()\n",
    "'''"
   ]
  },
  {
   "cell_type": "markdown",
   "metadata": {},
   "source": [
    "### 연도 클렌징(성공) - 람다 사용해 단순 백슬라이싱"
   ]
  },
  {
   "cell_type": "code",
   "execution_count": 172,
   "metadata": {},
   "outputs": [
    {
     "data": {
      "text/plain": [
       "array(['2018', '', '2017'], dtype=object)"
      ]
     },
     "execution_count": 172,
     "metadata": {},
     "output_type": "execute_result"
    }
   ],
   "source": [
    "time['year'] = time['year'].apply(lambda x: x[-4:])\n",
    "time['year'].unique()"
   ]
  },
  {
   "cell_type": "markdown",
   "metadata": {},
   "source": [
    "### 시간 클렌징 - 초 삭제"
   ]
  },
  {
   "cell_type": "code",
   "execution_count": 173,
   "metadata": {},
   "outputs": [
    {
     "data": {
      "text/html": [
       "<div>\n",
       "<style scoped>\n",
       "    .dataframe tbody tr th:only-of-type {\n",
       "        vertical-align: middle;\n",
       "    }\n",
       "\n",
       "    .dataframe tbody tr th {\n",
       "        vertical-align: top;\n",
       "    }\n",
       "\n",
       "    .dataframe thead th {\n",
       "        text-align: right;\n",
       "    }\n",
       "</style>\n",
       "<table border=\"1\" class=\"dataframe\">\n",
       "  <thead>\n",
       "    <tr style=\"text-align: right;\">\n",
       "      <th></th>\n",
       "      <th>year</th>\n",
       "      <th>month</th>\n",
       "      <th>time</th>\n",
       "    </tr>\n",
       "  </thead>\n",
       "  <tbody>\n",
       "    <tr>\n",
       "      <th>0</th>\n",
       "      <td>2018</td>\n",
       "      <td>12</td>\n",
       "      <td>1819</td>\n",
       "    </tr>\n",
       "    <tr>\n",
       "      <th>1</th>\n",
       "      <td>2018</td>\n",
       "      <td>12</td>\n",
       "      <td>1819</td>\n",
       "    </tr>\n",
       "    <tr>\n",
       "      <th>2</th>\n",
       "      <td>2018</td>\n",
       "      <td>12</td>\n",
       "      <td>1818</td>\n",
       "    </tr>\n",
       "    <tr>\n",
       "      <th>3</th>\n",
       "      <td>2018</td>\n",
       "      <td>12</td>\n",
       "      <td>1817</td>\n",
       "    </tr>\n",
       "    <tr>\n",
       "      <th>4</th>\n",
       "      <td>2018</td>\n",
       "      <td>12</td>\n",
       "      <td>1817</td>\n",
       "    </tr>\n",
       "  </tbody>\n",
       "</table>\n",
       "</div>"
      ],
      "text/plain": [
       "   year month  time\n",
       "0  2018    12  1819\n",
       "1  2018    12  1819\n",
       "2  2018    12  1818\n",
       "3  2018    12  1817\n",
       "4  2018    12  1817"
      ]
     },
     "execution_count": 173,
     "metadata": {},
     "output_type": "execute_result"
    }
   ],
   "source": [
    "# start stop and step variables \n",
    "start, stop, step = 0, -2, 1\n",
    "  \n",
    "# slicing till 2nd last element \n",
    "time['time'] = time['time'].str.slice(start, stop, step) \n",
    "  \n",
    "# display \n",
    "time.head()"
   ]
  },
  {
   "cell_type": "markdown",
   "metadata": {},
   "source": [
    "### 마무리 - 원본에 붙이기"
   ]
  },
  {
   "cell_type": "code",
   "execution_count": null,
   "metadata": {},
   "outputs": [],
   "source": [
    "# 칼럼 삭제\n",
    "del df['TIME']"
   ]
  },
  {
   "cell_type": "code",
   "execution_count": 181,
   "metadata": {},
   "outputs": [
    {
     "data": {
      "text/html": [
       "<div>\n",
       "<style scoped>\n",
       "    .dataframe tbody tr th:only-of-type {\n",
       "        vertical-align: middle;\n",
       "    }\n",
       "\n",
       "    .dataframe tbody tr th {\n",
       "        vertical-align: top;\n",
       "    }\n",
       "\n",
       "    .dataframe thead th {\n",
       "        text-align: right;\n",
       "    }\n",
       "</style>\n",
       "<table border=\"1\" class=\"dataframe\">\n",
       "  <thead>\n",
       "    <tr style=\"text-align: right;\">\n",
       "      <th></th>\n",
       "      <th>TITLE</th>\n",
       "      <th>BODY</th>\n",
       "      <th>year</th>\n",
       "      <th>month</th>\n",
       "      <th>time</th>\n",
       "    </tr>\n",
       "  </thead>\n",
       "  <tbody>\n",
       "    <tr>\n",
       "      <th>0</th>\n",
       "      <td>삼성전자 강경훈 부사장 19일 구속심사</td>\n",
       "      <td>[theL]삼성에버랜드 노조 설립 방해·노조 와해 혐의에버랜드 노조 와해 의혹을 수...</td>\n",
       "      <td>2018</td>\n",
       "      <td>12</td>\n",
       "      <td>1819</td>\n",
       "    </tr>\n",
       "    <tr>\n",
       "      <th>1</th>\n",
       "      <td>檢 '노조 와해 의혹' 강경훈 삼성전자 부사장 구속영장 청구</td>\n",
       "      <td>[the L]'삼성 노조 와해 의혹'을 수사 중인 검찰이 강경훈 삼성전자 부사장에 ...</td>\n",
       "      <td>2018</td>\n",
       "      <td>12</td>\n",
       "      <td>1819</td>\n",
       "    </tr>\n",
       "    <tr>\n",
       "      <th>2</th>\n",
       "      <td>\"사회가 건강해야 기업도 발전\" 20년 넘은 삼성 나눔의 비결</td>\n",
       "      <td>[특집]삼성전자는 1995년 국내 기업 최초로 사회봉사단을 창단 사회문제 해결을 위...</td>\n",
       "      <td>2018</td>\n",
       "      <td>12</td>\n",
       "      <td>1818</td>\n",
       "    </tr>\n",
       "    <tr>\n",
       "      <th>3</th>\n",
       "      <td>4차 산업 혁신기업 인탑스, 스마트팩토리 중소벤처기업부 장관상 수상</td>\n",
       "      <td>인탑스(주)(대표 김근하 정사진)가 스마트팩토리 도입을 추진해 경북창조경제혁신센터가...</td>\n",
       "      <td>2018</td>\n",
       "      <td>12</td>\n",
       "      <td>1817</td>\n",
       "    </tr>\n",
       "    <tr>\n",
       "      <th>4</th>\n",
       "      <td>'에버랜드 노조와해' 삼성 노사총괄 부사장 내일 영장심사</td>\n",
       "      <td>염호석씨 시신탈취 과정서 뇌물수수 경찰관도 함께(서울=뉴스1) 나연준 기자 = 삼성...</td>\n",
       "      <td>2018</td>\n",
       "      <td>12</td>\n",
       "      <td>1817</td>\n",
       "    </tr>\n",
       "  </tbody>\n",
       "</table>\n",
       "</div>"
      ],
      "text/plain": [
       "                                   TITLE  \\\n",
       "0                  삼성전자 강경훈 부사장 19일 구속심사   \n",
       "1      檢 '노조 와해 의혹' 강경훈 삼성전자 부사장 구속영장 청구   \n",
       "2     \"사회가 건강해야 기업도 발전\" 20년 넘은 삼성 나눔의 비결   \n",
       "3  4차 산업 혁신기업 인탑스, 스마트팩토리 중소벤처기업부 장관상 수상   \n",
       "4        '에버랜드 노조와해' 삼성 노사총괄 부사장 내일 영장심사   \n",
       "\n",
       "                                                BODY  year month  time  \n",
       "0  [theL]삼성에버랜드 노조 설립 방해·노조 와해 혐의에버랜드 노조 와해 의혹을 수...  2018    12  1819  \n",
       "1  [the L]'삼성 노조 와해 의혹'을 수사 중인 검찰이 강경훈 삼성전자 부사장에 ...  2018    12  1819  \n",
       "2  [특집]삼성전자는 1995년 국내 기업 최초로 사회봉사단을 창단 사회문제 해결을 위...  2018    12  1818  \n",
       "3  인탑스(주)(대표 김근하 정사진)가 스마트팩토리 도입을 추진해 경북창조경제혁신센터가...  2018    12  1817  \n",
       "4  염호석씨 시신탈취 과정서 뇌물수수 경찰관도 함께(서울=뉴스1) 나연준 기자 = 삼성...  2018    12  1817  "
      ]
     },
     "execution_count": 181,
     "metadata": {},
     "output_type": "execute_result"
    }
   ],
   "source": [
    "# 칼럼 합치기\n",
    "df_timeok = pd.concat([df, time], axis = 1, sort = False)\n",
    "df_timeok.head()"
   ]
  },
  {
   "cell_type": "markdown",
   "metadata": {},
   "source": [
    "# 시간정제 끝!!"
   ]
  },
  {
   "cell_type": "code",
   "execution_count": null,
   "metadata": {},
   "outputs": [],
   "source": []
  },
  {
   "cell_type": "markdown",
   "metadata": {},
   "source": [
    "# 형태소 분석Part"
   ]
  },
  {
   "cell_type": "code",
   "execution_count": 12,
   "metadata": {},
   "outputs": [
    {
     "data": {
      "text/plain": [
       "['취업', '막상', '나', '게임']"
      ]
     },
     "execution_count": 12,
     "metadata": {},
     "output_type": "execute_result"
    }
   ],
   "source": [
    "data = twitter.nouns(u'그렇게 기대했던 취업이었지만, 막상 나에게 펼쳐진건 본 게임이었다.')\n",
    "data"
   ]
  },
  {
   "cell_type": "code",
   "execution_count": null,
   "metadata": {},
   "outputs": [],
   "source": []
  },
  {
   "cell_type": "code",
   "execution_count": null,
   "metadata": {},
   "outputs": [],
   "source": []
  },
  {
   "cell_type": "code",
   "execution_count": null,
   "metadata": {},
   "outputs": [],
   "source": []
  },
  {
   "cell_type": "code",
   "execution_count": 71,
   "metadata": {},
   "outputs": [
    {
     "ename": "AttributeError",
     "evalue": "'str' object has no attribute 'apply'",
     "output_type": "error",
     "traceback": [
      "\u001b[1;31m---------------------------------------------------------------------------\u001b[0m",
      "\u001b[1;31mAttributeError\u001b[0m                            Traceback (most recent call last)",
      "\u001b[1;32m<ipython-input-71-d61a70464e92>\u001b[0m in \u001b[0;36m<module>\u001b[1;34m()\u001b[0m\n\u001b[1;32m----> 1\u001b[1;33m \u001b[0mdf1\u001b[0m\u001b[1;33m.\u001b[0m\u001b[0mapply\u001b[0m\u001b[1;33m(\u001b[0m\u001b[1;32mlambda\u001b[0m \u001b[0mx\u001b[0m \u001b[1;33m:\u001b[0m \u001b[0mtwitter\u001b[0m\u001b[1;33m.\u001b[0m\u001b[0mnouns\u001b[0m\u001b[1;33m(\u001b[0m\u001b[0mx\u001b[0m\u001b[1;33m)\u001b[0m\u001b[1;33m)\u001b[0m\u001b[1;33m\u001b[0m\u001b[0m\n\u001b[0m",
      "\u001b[1;31mAttributeError\u001b[0m: 'str' object has no attribute 'apply'"
     ]
    }
   ],
   "source": [
    "df1.apply(lambda x : twitter.nouns(x))"
   ]
  },
  {
   "cell_type": "code",
   "execution_count": 66,
   "metadata": {},
   "outputs": [
    {
     "data": {
      "text/plain": [
       "0                             [삼성, 전자, 강경, 훈, 부사, 구속, 심사]\n",
       "1                   [노조, 의혹, 강경, 훈, 삼성, 전자, 부사, 구속영장, 청구]\n",
       "2                                [사회, 기업, 발전, 삼성, 나눔, 비결]\n",
       "3       [차, 산업, 혁신, 기업, 인탑스, 스마트, 팩토리, 중소, 벤처기업, 부, 장관...\n",
       "4               [에버랜드, 노조, 해, 삼성, 노사, 총괄, 부사, 내일, 영장, 심사]\n",
       "5                             [수소차, 획기, 뒷받침, 각오, 제조업, 부흥]\n",
       "6                                    [코스피, 외인, 개인, 매도, 선]\n",
       "7                               [삼성, 전자, 연말, 초대형, 판매, 추격]\n",
       "8         [부자, 신문, 김성훈, 팀, 테마주, 점, 매수, 손절, 확인, 후, 매수, 전략]\n",
       "9       [돈, 잘버, 증권, 맨, 이재, 광, 이사, 아난, 티, 이상, 급등, 과, 감히...\n",
       "10                         [제조업, 혁신, 노동자, 기업, 양보, 상생, 모델]\n",
       "11                                [이스탄불, 공항, 장식, 삼성, 사이니]\n",
       "12                                 [방, 안, 옷가게, 삼성, 패션, 집]\n",
       "13                         [특징, 주, 삼성, 전자, 사흘, 주, 신저, 경신]\n",
       "14                                 [뉴욕증시, 하락, 코스피, 선, 약세]\n",
       "15                                [리포트, 화웨이, 왜, 공공, 적, 이]\n",
       "16                [부고, 원빈, 머니투데이, 국제, 부, 디자인, 기자, 부친상, 외]\n",
       "17                        [부고, 박, 용씨, 이노베이션, 전략, 실장, 부친상]\n",
       "18            [리포트, 화웨이, 시장, 공략, 어디, 모바일, 은행, 망, 지하철, 진출]\n",
       "19                          [리포트, 중국, 기술, 정, 조준, 화웨이, 운명]\n",
       "20                            [삼성, 전자, 강경, 훈, 부사, 구속, 심사]\n",
       "21                  [노조, 의혹, 강경, 훈, 삼성, 전자, 부사, 구속영장, 청구]\n",
       "22                               [사회, 기업, 발전, 삼성, 나눔, 비결]\n",
       "23      [차, 산업, 혁신, 기업, 인탑스, 스마트, 팩토리, 중소, 벤처기업, 부, 장관...\n",
       "24              [에버랜드, 노조, 해, 삼성, 노사, 총괄, 부사, 내일, 영장, 심사]\n",
       "25                            [수소차, 획기, 뒷받침, 각오, 제조업, 부흥]\n",
       "26                                   [코스피, 외인, 개인, 매도, 선]\n",
       "27                              [삼성, 전자, 연말, 초대형, 판매, 추격]\n",
       "28        [부자, 신문, 김성훈, 팀, 테마주, 점, 매수, 손절, 확인, 후, 매수, 전략]\n",
       "29      [돈, 잘버, 증권, 맨, 이재, 광, 이사, 아난, 티, 이상, 급등, 과, 감히...\n",
       "                              ...                        \n",
       "8250                          [이, 종목, 왜, 시장, 신고, 행진, 카카오]\n",
       "8251                            [베스트, 리포트, 테크, 르네상스, 진행중]\n",
       "8252                             [이티, 전자, 규모, 공급, 계약, 체결]\n",
       "8253                     [오늘, 포인트, 웰, 컴백, 외인, 매수, 도주, 컴백]\n",
       "8254                               [노트, 흥행, 몰이, 사전예약, 첫날]\n",
       "8255                       [박근혜, 대통령, 구속, 만기, 석방, 추가, 구속]\n",
       "8256                          [코스피, 보합, 삼성, 전자, 하이닉스, 상승]\n",
       "8257           [장용혁, 마켓, 시그널, 마지노선, 반등, 국내, 증시, 상승세, 얼마나]\n",
       "8258                                         [호텔, 추석, 나기]\n",
       "8259                                 [스팟, 삼성, 전자, 오른, 출발]\n",
       "8260                         [예술, 삼성, 전자, 대만, 더, 프레임, 출시]\n",
       "8261                [삼성, 전자, 반도체, 호황, 감익, 우려, 해소, 한화, 투자]\n",
       "8262                            [코스피, 시초, 보합, 예상, 동시, 호가]\n",
       "8263                                 [투자자, 라면, 꼭, 투자, 뉴스]\n",
       "8264                            [삼성, 전자, 영업, 익, 낼, 것, 흥국]\n",
       "8265                                     [흔적, 살인, 증거, 청탁]\n",
       "8266                                   [외환위기, 재계, 그룹, 그룹]\n",
       "8267                              [고용, 한파, 속, 채용, 기업, 이유]\n",
       "8268                            [증권사, 익, 전체, 절반, 육박, 양극화]\n",
       "8269                                  [머니투데이, 오프라인, 헤드라인]\n",
       "8270                [박근혜, 구속, 만기, 후, 선고, 가능성, 추가, 영장, 발부]\n",
       "8271       [이, 종목, 왜, 날, 가능성, 두산인프라코어, 악화, 일로, 에이, 블, 엔씨]\n",
       "8272                                    [스마트폰, 출고, 시대, 왜]\n",
       "8273             [깜짝, 증언, 정, 유라, 갈라, 선, 이경재, 변호사, 신뢰, 관계]\n",
       "8274                              [점, 부담, 도발, 증시, 조정, 배당]\n",
       "8275                        [최, 실, 이경재, 변호사, 정유, 변호인, 사임]\n",
       "8276                     [기술, 출시, 분류, 체계, 제품, 규정, 대폭, 손질]\n",
       "8277                     [발표, 삼성, 전자, 재, 편입, 등, 총, 곳, 편입]\n",
       "8278                             [노트, 사전예약, 첫, 날, 흥행, 예고]\n",
       "8279                     [황, 종합, 코스피, 외인, 기관, 매수, 회복, 상승]\n",
       "Name: TITLE, Length: 8280, dtype: object"
      ]
     },
     "execution_count": 66,
     "metadata": {},
     "output_type": "execute_result"
    }
   ],
   "source": [
    "df['TITLE'].apply(lambda x : twitter.nouns(x))"
   ]
  },
  {
   "cell_type": "code",
   "execution_count": null,
   "metadata": {},
   "outputs": [],
   "source": []
  },
  {
   "cell_type": "code",
   "execution_count": null,
   "metadata": {},
   "outputs": [],
   "source": []
  },
  {
   "cell_type": "code",
   "execution_count": null,
   "metadata": {},
   "outputs": [],
   "source": []
  },
  {
   "cell_type": "code",
   "execution_count": null,
   "metadata": {},
   "outputs": [],
   "source": [
    "df['name'] = df['name'].apply(lambda e: e.split()[0])\n",
    "\n",
    ">>> from timeit import Timer\n",
    ">>> t = {}\n",
    ">>> t['methodcaller'] = Timer(\"map(methodcaller('split', ' '), a)\", \"from operator import methodcaller; a=['2011-12-22 46:31:11','2011-12-20 20:19:17', '2011-12-20 01:09:21']\")\n",
    ">>> t['lambda'] = Timer(\"map(lambda s: s.split(), a)\", \"a = ['2011-12-22 46:31:11','2011-12-20 20:19:17', '2011-12-20 01:09:21']\")\n",
    ">>> t['listcomp'] = Timer(\"[s.split() for s in a]\", \"a = ['2011-12-22 46:31:11','2011-12-20 20:19:17', '2011-12-20 01:09:21']\")\n",
    ">>> for name, timer in t.items():\n",
    "...     print '%s: %.2f usec/pass' % (name, 1000000 * timer.timeit(number=100000)/100000)\n",
    "... \n",
    "listcomp: 2.08 usec/pass\n",
    "methodcaller: 2.87 usec/pass\n",
    "lambda: 3.10 usec/pass"
   ]
  }
 ],
 "metadata": {
  "kernelspec": {
   "display_name": "Python 3",
   "language": "python",
   "name": "python3"
  },
  "language_info": {
   "codemirror_mode": {
    "name": "ipython",
    "version": 3
   },
   "file_extension": ".py",
   "mimetype": "text/x-python",
   "name": "python",
   "nbconvert_exporter": "python",
   "pygments_lexer": "ipython3",
   "version": "3.6.5"
  }
 },
 "nbformat": 4,
 "nbformat_minor": 2
}
